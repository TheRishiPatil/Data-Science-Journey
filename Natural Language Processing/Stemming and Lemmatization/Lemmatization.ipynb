{
 "cells": [
  {
   "cell_type": "code",
   "execution_count": 4,
   "id": "1e35495f-f631-4dad-8313-4a6f4b917e03",
   "metadata": {},
   "outputs": [],
   "source": [
    "words = ['eating', 'eats', 'eaten', 'writing', 'writes', 'programming', 'programs', 'history', 'finally', 'finalized', 'congratulations']"
   ]
  },
  {
   "cell_type": "markdown",
   "id": "a1a640c1-bd52-438b-a7dc-6ce20abdd324",
   "metadata": {},
   "source": [
    "## Wordnet Lemmatizer\n",
    "NLTK provides WordNetLemmatizer class which is a thin wrapper around the wordnet corpus. This class uses morphy() function to the WordNet CorpusReader class to find a lemma."
   ]
  },
  {
   "cell_type": "code",
   "execution_count": 5,
   "id": "851dc057-8200-4f8d-b058-65a8fb657f61",
   "metadata": {},
   "outputs": [],
   "source": [
    "from nltk.stem import WordNetLemmatizer\n",
    "\n",
    "lemmatizer = WordNetLemmatizer()"
   ]
  },
  {
   "cell_type": "markdown",
   "id": "af1811c1-d9ff-4a33-a275-e78a4b0a1ef6",
   "metadata": {},
   "source": [
    "#### POS tags:\n",
    "##### Noun --> n\n",
    "##### Verb --> v\n",
    "##### Adjective --> a\n",
    "##### Adverb --> r"
   ]
  },
  {
   "cell_type": "code",
   "execution_count": 11,
   "id": "22b184b7-7937-4431-ada1-35b471ee0f8a",
   "metadata": {},
   "outputs": [
    {
     "name": "stdout",
     "output_type": "stream",
     "text": [
      "eating --> eat\n",
      "eats --> eat\n",
      "eaten --> eat\n",
      "writing --> write\n",
      "writes --> write\n",
      "programming --> program\n",
      "programs --> program\n",
      "history --> history\n",
      "finally --> finally\n",
      "finalized --> finalize\n",
      "congratulations --> congratulations\n"
     ]
    }
   ],
   "source": [
    "for word in words : \n",
    "    print(word + \" --> \" + lemmatizer.lemmatize(word, 'v'))"
   ]
  }
 ],
 "metadata": {
  "kernelspec": {
   "display_name": "Python 3 (ipykernel)",
   "language": "python",
   "name": "python3"
  },
  "language_info": {
   "codemirror_mode": {
    "name": "ipython",
    "version": 3
   },
   "file_extension": ".py",
   "mimetype": "text/x-python",
   "name": "python",
   "nbconvert_exporter": "python",
   "pygments_lexer": "ipython3",
   "version": "3.11.7"
  }
 },
 "nbformat": 4,
 "nbformat_minor": 5
}
