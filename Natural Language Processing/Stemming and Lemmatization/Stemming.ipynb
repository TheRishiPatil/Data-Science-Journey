{
 "cells": [
  {
   "cell_type": "code",
   "execution_count": 9,
   "id": "d333ff75-cf14-4f2d-9ed5-c7762858992f",
   "metadata": {},
   "outputs": [],
   "source": [
    "words = ['eating', 'eats', 'eaten', 'writing', 'writes', 'programming', 'programs', 'history', 'finally', 'finalized', 'congratulations']"
   ]
  },
  {
   "cell_type": "markdown",
   "id": "dddacafb-71a7-4775-9621-7e00f8cc577e",
   "metadata": {},
   "source": [
    "## Porter Stemmer"
   ]
  },
  {
   "cell_type": "code",
   "execution_count": 70,
   "id": "f0a09d56-7c57-4d8a-95ca-66303a759afa",
   "metadata": {},
   "outputs": [],
   "source": [
    "from nltk.stem import PorterStemmer\n",
    "\n",
    "stemming = PorterStemmer()"
   ]
  },
  {
   "cell_type": "code",
   "execution_count": 11,
   "id": "26b6c2f8-a8e8-4c0a-a001-9c1d3aa02cef",
   "metadata": {},
   "outputs": [
    {
     "name": "stdout",
     "output_type": "stream",
     "text": [
      "eating --> eat\n",
      "eats --> eat\n",
      "eaten --> eaten\n",
      "writing --> write\n",
      "writes --> write\n",
      "programming --> program\n",
      "programs --> program\n",
      "history --> histori\n",
      "finally --> final\n",
      "finalized --> final\n",
      "congratulations --> congratul\n"
     ]
    }
   ],
   "source": [
    "for word in words : \n",
    "    print(word + \" --> \" + stemming.stem(word))"
   ]
  },
  {
   "cell_type": "markdown",
   "id": "36ea5a07-63d9-4ddd-985b-d7c44d56ec97",
   "metadata": {},
   "source": [
    "## Regexp Stemmer Class"
   ]
  },
  {
   "cell_type": "code",
   "execution_count": 49,
   "id": "feea5477-4550-4e58-99ff-82cf8c2174ab",
   "metadata": {},
   "outputs": [],
   "source": [
    "from nltk.stem import RegexpStemmer\n",
    "\n",
    "stemming = RegexpStemmer('ing$|s$|able$', min = 4)"
   ]
  },
  {
   "cell_type": "code",
   "execution_count": 50,
   "id": "874a2735-923b-4d33-8710-217f8374308f",
   "metadata": {},
   "outputs": [
    {
     "name": "stdout",
     "output_type": "stream",
     "text": [
      "eat\n",
      "ingeat\n"
     ]
    }
   ],
   "source": [
    "print(stemming.stem('eating'))\n",
    "print(stemming.stem('ingeating'))"
   ]
  },
  {
   "cell_type": "markdown",
   "id": "f4ef2a48-a8df-40ea-bf09-31c25dc63d14",
   "metadata": {},
   "source": [
    "## Snowball Stemmer Class"
   ]
  },
  {
   "cell_type": "code",
   "execution_count": 67,
   "id": "70909a7a-603a-45a8-92d9-9620bf391ac9",
   "metadata": {},
   "outputs": [],
   "source": [
    "from nltk.stem import SnowballStemmer\n",
    "\n",
    "stemming = SnowballStemmer('english')"
   ]
  },
  {
   "cell_type": "code",
   "execution_count": 69,
   "id": "803c0ea1-319e-493f-b78f-ce788b39d15e",
   "metadata": {},
   "outputs": [
    {
     "name": "stdout",
     "output_type": "stream",
     "text": [
      "eating --> eat\n",
      "eats --> eat\n",
      "eaten --> eaten\n",
      "writing --> write\n",
      "writes --> write\n",
      "programming --> program\n",
      "programs --> program\n",
      "history --> histori\n",
      "finally --> final\n",
      "finalized --> final\n",
      "congratulations --> congratul\n"
     ]
    }
   ],
   "source": [
    "for word in words : \n",
    "    print(word + \" --> \" + stemming.stem(word))"
   ]
  },
  {
   "cell_type": "markdown",
   "id": "687dbcd8-2c94-4e8d-a7ce-51b92d1a9b88",
   "metadata": {},
   "source": [
    "## Difference:"
   ]
  },
  {
   "cell_type": "code",
   "execution_count": 71,
   "id": "e7c4b297-791c-41e1-a1e9-bd677e132c50",
   "metadata": {},
   "outputs": [
    {
     "name": "stdout",
     "output_type": "stream",
     "text": [
      "words stemming in Porter stemmer --> fairli , sportingli\n"
     ]
    }
   ],
   "source": [
    "print('words stemming in Porter stemmer -->', stemming.stem('fairly'), ',',  stemming.stem('sportingly'))"
   ]
  },
  {
   "cell_type": "code",
   "execution_count": 68,
   "id": "65e38dd9-9e86-4bc8-a7ae-339518dde156",
   "metadata": {},
   "outputs": [
    {
     "name": "stdout",
     "output_type": "stream",
     "text": [
      "words stemming in Snowball stemmer --> fair , sport\n"
     ]
    }
   ],
   "source": [
    "print('words stemming in Snowball stemmer -->', stemming.stem('fairly'), ',', stemming.stem('sportingly'))"
   ]
  }
 ],
 "metadata": {
  "kernelspec": {
   "display_name": "Python 3 (ipykernel)",
   "language": "python",
   "name": "python3"
  },
  "language_info": {
   "codemirror_mode": {
    "name": "ipython",
    "version": 3
   },
   "file_extension": ".py",
   "mimetype": "text/x-python",
   "name": "python",
   "nbconvert_exporter": "python",
   "pygments_lexer": "ipython3",
   "version": "3.11.7"
  }
 },
 "nbformat": 4,
 "nbformat_minor": 5
}
