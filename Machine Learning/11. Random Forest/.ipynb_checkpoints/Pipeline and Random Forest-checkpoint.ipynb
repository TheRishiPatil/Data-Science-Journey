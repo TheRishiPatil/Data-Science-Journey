{
 "cells": [
  {
   "cell_type": "code",
   "execution_count": 1,
   "id": "68e62a59-e5b2-4226-be63-489965d657c1",
   "metadata": {},
   "outputs": [
    {
     "data": {
      "text/html": [
       "<div>\n",
       "<style scoped>\n",
       "    .dataframe tbody tr th:only-of-type {\n",
       "        vertical-align: middle;\n",
       "    }\n",
       "\n",
       "    .dataframe tbody tr th {\n",
       "        vertical-align: top;\n",
       "    }\n",
       "\n",
       "    .dataframe thead th {\n",
       "        text-align: right;\n",
       "    }\n",
       "</style>\n",
       "<table border=\"1\" class=\"dataframe\">\n",
       "  <thead>\n",
       "    <tr style=\"text-align: right;\">\n",
       "      <th></th>\n",
       "      <th>total_bill</th>\n",
       "      <th>tip</th>\n",
       "      <th>sex</th>\n",
       "      <th>smoker</th>\n",
       "      <th>day</th>\n",
       "      <th>time</th>\n",
       "      <th>size</th>\n",
       "    </tr>\n",
       "  </thead>\n",
       "  <tbody>\n",
       "    <tr>\n",
       "      <th>0</th>\n",
       "      <td>16.99</td>\n",
       "      <td>1.01</td>\n",
       "      <td>Female</td>\n",
       "      <td>No</td>\n",
       "      <td>Sun</td>\n",
       "      <td>Dinner</td>\n",
       "      <td>2</td>\n",
       "    </tr>\n",
       "    <tr>\n",
       "      <th>1</th>\n",
       "      <td>10.34</td>\n",
       "      <td>1.66</td>\n",
       "      <td>Male</td>\n",
       "      <td>No</td>\n",
       "      <td>Sun</td>\n",
       "      <td>Dinner</td>\n",
       "      <td>3</td>\n",
       "    </tr>\n",
       "    <tr>\n",
       "      <th>2</th>\n",
       "      <td>21.01</td>\n",
       "      <td>3.50</td>\n",
       "      <td>Male</td>\n",
       "      <td>No</td>\n",
       "      <td>Sun</td>\n",
       "      <td>Dinner</td>\n",
       "      <td>3</td>\n",
       "    </tr>\n",
       "    <tr>\n",
       "      <th>3</th>\n",
       "      <td>23.68</td>\n",
       "      <td>3.31</td>\n",
       "      <td>Male</td>\n",
       "      <td>No</td>\n",
       "      <td>Sun</td>\n",
       "      <td>Dinner</td>\n",
       "      <td>2</td>\n",
       "    </tr>\n",
       "    <tr>\n",
       "      <th>4</th>\n",
       "      <td>24.59</td>\n",
       "      <td>3.61</td>\n",
       "      <td>Female</td>\n",
       "      <td>No</td>\n",
       "      <td>Sun</td>\n",
       "      <td>Dinner</td>\n",
       "      <td>4</td>\n",
       "    </tr>\n",
       "  </tbody>\n",
       "</table>\n",
       "</div>"
      ],
      "text/plain": [
       "   total_bill   tip     sex smoker  day    time  size\n",
       "0       16.99  1.01  Female     No  Sun  Dinner     2\n",
       "1       10.34  1.66    Male     No  Sun  Dinner     3\n",
       "2       21.01  3.50    Male     No  Sun  Dinner     3\n",
       "3       23.68  3.31    Male     No  Sun  Dinner     2\n",
       "4       24.59  3.61  Female     No  Sun  Dinner     4"
      ]
     },
     "execution_count": 1,
     "metadata": {},
     "output_type": "execute_result"
    }
   ],
   "source": [
    "import seaborn as sns\n",
    "\n",
    "df = sns.load_dataset('tips')\n",
    "df.head()"
   ]
  },
  {
   "cell_type": "code",
   "execution_count": 7,
   "id": "d653bd71-7fa5-4fc8-addf-24134280f129",
   "metadata": {},
   "outputs": [],
   "source": [
    "from sklearn.preprocessing import LabelEncoder\n",
    "\n",
    "encoder = LabelEncoder()\n",
    "df['time'] = encoder.fit_transform(df['time'])"
   ]
  },
  {
   "cell_type": "code",
   "execution_count": 8,
   "id": "35f4fd9f-a70f-4c56-b404-3b81e5966082",
   "metadata": {},
   "outputs": [],
   "source": [
    "X = df.drop('time', axis = 1)\n",
    "y = df['time']"
   ]
  },
  {
   "cell_type": "code",
   "execution_count": 10,
   "id": "966a3a10-1380-471c-9fc9-40b7c20da3a7",
   "metadata": {},
   "outputs": [],
   "source": [
    "from sklearn.model_selection import train_test_split as tts\n",
    "\n",
    "X_train, X_test, y_train, y_test = tts(X, y, test_size = 0.20, random_state = 42)"
   ]
  },
  {
   "cell_type": "markdown",
   "id": "c6d0b755-fab9-43d7-81a3-5690ec60e406",
   "metadata": {},
   "source": [
    "## Pipeline\n",
    "Automating the machine learning workflow by enabling data to be transformed and correlated into a model"
   ]
  },
  {
   "cell_type": "code",
   "execution_count": 12,
   "id": "f90f77bf-32ce-49b9-ac20-8286307dcc5a",
   "metadata": {},
   "outputs": [],
   "source": [
    "from sklearn.impute import SimpleImputer # Handle missing values\n",
    "from sklearn.preprocessing import OneHotEncoder # Handle categorical values\n",
    "from sklearn.preprocessing import StandardScaler # Feature scaling"
   ]
  },
  {
   "cell_type": "code",
   "execution_count": 13,
   "id": "a28b8e1a-6cbc-4b05-988c-1a36bd2681a6",
   "metadata": {},
   "outputs": [],
   "source": [
    "from sklearn.pipeline import Pipeline\n",
    "from sklearn.compose import ColumnTransformer"
   ]
  },
  {
   "cell_type": "code",
   "execution_count": 14,
   "id": "7029b3ad-8e91-425e-a40e-1fac618f6b09",
   "metadata": {},
   "outputs": [],
   "source": [
    "categorical_cols = ['sex', 'smoker', 'day']\n",
    "numerical_cols = ['total_bill', 'tip', 'size']"
   ]
  },
  {
   "cell_type": "code",
   "execution_count": 15,
   "id": "63afc0d5-4f32-4a47-9a2a-0e700360e147",
   "metadata": {},
   "outputs": [],
   "source": [
    "# Feature Engineering Automation\n",
    "\n",
    "num_pipeline = Pipeline(\n",
    "    steps = [\n",
    "        ('imputer', SimpleImputer(strategy = 'median')), # Handling missing values\n",
    "        ('scaler', StandardScaler()) # Feature scaling\n",
    "    ]\n",
    ")\n",
    "\n",
    "cat_pipeline = Pipeline(\n",
    "    steps = [\n",
    "        ('imputer', SimpleImputer(strategy = 'most_frequent')), # Handling missing values\n",
    "        ('oneHotEncoder', OneHotEncoder()) #Handling categorical values\n",
    "    ]\n",
    ")"
   ]
  },
  {
   "cell_type": "code",
   "execution_count": 16,
   "id": "13c33b3b-4ccb-4443-8403-42c4ddebf5a1",
   "metadata": {},
   "outputs": [],
   "source": [
    "preprocessor = ColumnTransformer([\n",
    "    ('num_pipeline', num_pipeline, numerical_cols),\n",
    "    ('cat_pipeline', cat_pipeline, categorical_cols)\n",
    "])"
   ]
  },
  {
   "cell_type": "code",
   "execution_count": 18,
   "id": "928d3b2a-b7e4-4925-b801-105d6273dfaf",
   "metadata": {},
   "outputs": [],
   "source": [
    "X_train = preprocessor.fit_transform(X_train)\n",
    "X_test = preprocessor.transform(X_test)"
   ]
  },
  {
   "cell_type": "markdown",
   "id": "8bde64e2-512f-4451-bc72-157745a7365e",
   "metadata": {},
   "source": [
    "# Random Forest Classifier"
   ]
  },
  {
   "cell_type": "code",
   "execution_count": 20,
   "id": "0d77b7fd-836d-4143-a058-71c4fff384fe",
   "metadata": {},
   "outputs": [],
   "source": [
    "from sklearn.ensemble import RandomForestClassifier"
   ]
  },
  {
   "cell_type": "code",
   "execution_count": null,
   "id": "0c199bde-471a-4808-bd32-eadb78167828",
   "metadata": {},
   "outputs": [],
   "source": [
    "models = (\n",
    "    'Random Forest' : RandomForestClassifier()\n",
    ")"
   ]
  }
 ],
 "metadata": {
  "kernelspec": {
   "display_name": "Python 3 (ipykernel)",
   "language": "python",
   "name": "python3"
  },
  "language_info": {
   "codemirror_mode": {
    "name": "ipython",
    "version": 3
   },
   "file_extension": ".py",
   "mimetype": "text/x-python",
   "name": "python",
   "nbconvert_exporter": "python",
   "pygments_lexer": "ipython3",
   "version": "3.11.7"
  }
 },
 "nbformat": 4,
 "nbformat_minor": 5
}
