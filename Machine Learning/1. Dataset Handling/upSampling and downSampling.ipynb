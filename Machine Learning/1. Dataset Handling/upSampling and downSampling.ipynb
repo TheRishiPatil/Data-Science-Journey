{
 "cells": [
  {
   "cell_type": "code",
   "execution_count": 3,
   "id": "20c7be5f-b6ea-4c36-9702-f9918bb26e67",
   "metadata": {},
   "outputs": [],
   "source": [
    "import numpy as np\n",
    "import pandas as pd\n",
    "\n",
    "np.random.seed(12)\n",
    "nSamples = 1000\n",
    "class0ratio = 0.9\n",
    "class0n = int(nSamples * class0ratio)\n",
    "class1n = nSamples - class0n"
   ]
  },
  {
   "cell_type": "code",
   "execution_count": 13,
   "id": "cef7466f-1d2b-4b71-a5d3-3e0fde93a570",
   "metadata": {},
   "outputs": [],
   "source": [
    "class_0 = pd.DataFrame({\n",
    "    'f1' : np.random.normal(loc = 0, scale = 1, size = class0n),\n",
    "    'f2' : np.random.normal(loc = 0, scale = 1, size = class0n),\n",
    "    'target' : 0\n",
    "})\n",
    "\n",
    "class_1 = pd.DataFrame({\n",
    "    'f1' : np.random.normal(loc = 2, scale = 1, size = class1n),\n",
    "    'f2' : np.random.normal(loc = 2, scale = 1, size = class1n),\n",
    "    'target' : 1\n",
    "})\n",
    "\n",
    "df = pd.concat([class_0, class_1]).reset_index(drop = True)\n",
    "\n",
    "\n",
    "df_majority = df[df['target'] == 0]\n",
    "df_minority = df[df['target'] == 1]"
   ]
  },
  {
   "cell_type": "code",
   "execution_count": 24,
   "id": "335f26a6-3840-4326-8a12-2dc0dc006e47",
   "metadata": {},
   "outputs": [
    {
     "data": {
      "text/plain": [
       "target\n",
       "0    900\n",
       "1    900\n",
       "Name: count, dtype: int64"
      ]
     },
     "execution_count": 24,
     "metadata": {},
     "output_type": "execute_result"
    }
   ],
   "source": [
    "# Up sampling --> increase the number of minority\n",
    "\n",
    "from sklearn.utils import resample \n",
    "# resample --> try to create more points like minorty or drop points from majority and try to equalize with the majority and minority.\n",
    "\n",
    "df_minority_upsampled = resample(df_minority, replace = True, n_samples = len(df_majority), random_state = 42)\n",
    "\n",
    "df_upsampled = pd.concat([df_majority, df_minority_upsampled]).reset_index()\n",
    "df_upsampled['target'].value_counts()"
   ]
  },
  {
   "cell_type": "code",
   "execution_count": 27,
   "id": "2987be87-d4b3-4bec-9100-58cdd6bffbfe",
   "metadata": {},
   "outputs": [
    {
     "data": {
      "text/plain": [
       "target\n",
       "1    100\n",
       "0    100\n",
       "Name: count, dtype: int64"
      ]
     },
     "execution_count": 27,
     "metadata": {},
     "output_type": "execute_result"
    }
   ],
   "source": [
    "# Down sampling --> decrease the number of majority\n",
    "\n",
    "df_majority_downsampled = resample(df_majority, replace = False, n_samples = len(df_minority), random_state = 42)\n",
    "\n",
    "df_downsampled = pd.concat([df_minority, df_majority_downsampled]).reset_index()\n",
    "df_downsampled['target'].value_counts()"
   ]
  }
 ],
 "metadata": {
  "kernelspec": {
   "display_name": "Python 3 (ipykernel)",
   "language": "python",
   "name": "python3"
  },
  "language_info": {
   "codemirror_mode": {
    "name": "ipython",
    "version": 3
   },
   "file_extension": ".py",
   "mimetype": "text/x-python",
   "name": "python",
   "nbconvert_exporter": "python",
   "pygments_lexer": "ipython3",
   "version": "3.11.7"
  }
 },
 "nbformat": 4,
 "nbformat_minor": 5
}
