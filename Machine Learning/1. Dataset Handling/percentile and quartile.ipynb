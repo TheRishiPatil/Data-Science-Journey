{
 "cells": [
  {
   "cell_type": "code",
   "execution_count": 1,
   "id": "39a2a03a-1a34-488d-8c46-720d320b0b9e",
   "metadata": {},
   "outputs": [],
   "source": [
    "# min, max, median, Q1, Q3, IQR"
   ]
  },
  {
   "cell_type": "code",
   "execution_count": 10,
   "id": "8d6c6137-1a2a-4774-b6ac-ed6d17a2f400",
   "metadata": {},
   "outputs": [
    {
     "data": {
      "text/plain": [
       "(-10.0, 32.25, 45.0, 53.0, 99.0)"
      ]
     },
     "execution_count": 10,
     "metadata": {},
     "output_type": "execute_result"
    }
   ],
   "source": [
    "import numpy as np\n",
    "lst_marks = [-10, 45, 50, 35, 32, 89, 75, 16, 99, 54, 26, 45, 33, 46]\n",
    "min, Q1, med, Q3, max = np.quantile(lst_marks, [0, 0.25, 0.50, 0.75, 1.0])\n",
    "min, Q1, med, Q3, max"
   ]
  },
  {
   "cell_type": "code",
   "execution_count": 12,
   "id": "10971e63-189a-441f-af61-0d66b6bfcdc6",
   "metadata": {},
   "outputs": [
    {
     "data": {
      "text/plain": [
       "(1.125, 20.75, 84.125)"
      ]
     },
     "execution_count": 12,
     "metadata": {},
     "output_type": "execute_result"
    }
   ],
   "source": [
    "IQR = Q3 - Q1\n",
    "\n",
    "lower_fence = Q1 - (1.5 * IQR)\n",
    "higher_fence = Q3 + (1.5 * IQR)\n",
    "lower_fence, IQR, higher_fence"
   ]
  },
  {
   "cell_type": "code",
   "execution_count": 13,
   "id": "24832427-64e0-4978-86cf-cefbe16ffc98",
   "metadata": {},
   "outputs": [
    {
     "data": {
      "text/plain": [
       "<Axes: >"
      ]
     },
     "execution_count": 13,
     "metadata": {},
     "output_type": "execute_result"
    },
    {
     "data": {
      "image/png": "[encoded data removed]",
      "text/plain": [
       "<Figure size 640x480 with 1 Axes>"
      ]
     },
     "metadata": {},
     "output_type": "display_data"
    }
   ],
   "source": [
    "import seaborn as sns\n",
    "sns.boxplot(lst_marks)"
   ]
  }
 ],
 "metadata": {
  "kernelspec": {
   "display_name": "Python 3 (ipykernel)",
   "language": "python",
   "name": "python3"
  },
  "language_info": {
   "codemirror_mode": {
    "name": "ipython",
    "version": 3
   },
   "file_extension": ".py",
   "mimetype": "text/x-python",
   "name": "python",
   "nbconvert_exporter": "python",
   "pygments_lexer": "ipython3",
   "version": "3.11.7"
  }
 },
 "nbformat": 4,
 "nbformat_minor": 5
}
