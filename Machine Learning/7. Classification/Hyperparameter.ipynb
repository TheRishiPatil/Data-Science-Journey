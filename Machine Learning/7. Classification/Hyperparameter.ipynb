{
 "cells": [
  {
   "cell_type": "code",
   "execution_count": 1,
   "id": "e30d7fcf-1462-4ecd-b53d-5e4708489a53",
   "metadata": {},
   "outputs": [],
   "source": [
    "from sklearn.datasets import make_classification\n",
    "from sklearn.linear_model import LogisticRegression\n",
    "\n",
    "X, y = make_classification(n_samples = 1000, n_features = 10, n_informative = 5, n_redundant = 5, n_classes = 2, random_state = 1)\n",
    "classification = LogisticRegression()"
   ]
  },
  {
   "cell_type": "code",
   "execution_count": 2,
   "id": "b5f44355-8a9a-46ec-8f2a-dbc2769de479",
   "metadata": {},
   "outputs": [],
   "source": [
    "from sklearn.model_selection import train_test_split as tts\n",
    "\n",
    "X_train, X_test, y_train, y_test = tts(X, y, test_size = 0.20, random_state = 42)"
   ]
  },
  {
   "cell_type": "markdown",
   "id": "e7d35029-3e9c-463c-b56f-86f1834ca88c",
   "metadata": {},
   "source": [
    "## Grid Search CV"
   ]
  },
  {
   "cell_type": "code",
   "execution_count": 13,
   "id": "e4260d2e-51e3-49e9-a4fd-401b056f4e25",
   "metadata": {},
   "outputs": [
    {
     "name": "stdout",
     "output_type": "stream",
     "text": [
      "Best Parameters: {'C': 1, 'penalty': 'l1', 'solver': 'liblinear'}\n",
      "Best Accuracy: 0.8087500000000001\n"
     ]
    }
   ],
   "source": [
    "from sklearn.model_selection import GridSearchCV\n",
    "import warnings\n",
    "warnings.filterwarnings('ignore')\n",
    "\n",
    "parameters = {\n",
    "    'penalty' : ('l1', 'l2', 'elasticnet'),\n",
    "    'C' : [1, 10, 20, 30],\n",
    "    'solver' : ('lbfgs', 'liblinear', 'newton-cg', 'newton-cholesky', 'sag', 'saga')\n",
    "}\n",
    "\n",
    "\n",
    "gs =  GridSearchCV(LogisticRegression(), param_grid = parameters, cv = 5)\n",
    "\n",
    "gs.fit(X_train, y_train)\n",
    "print(\"Best Parameters:\", gs.best_params_)\n",
    "print(\"Best Accuracy:\", gs.best_score_)"
   ]
  },
  {
   "cell_type": "code",
   "execution_count": 14,
   "id": "19af4d98-d277-4a30-bc05-278e524ea45c",
   "metadata": {},
   "outputs": [],
   "source": [
    "classification = LogisticRegression(C = 1, penalty = 'l2')\n",
    "classification.fit(X_train, y_train)\n",
    "y_test_prediction = classification.predict(X_test)\n",
    "# OR\n",
    "# classification.predict_proba(X_test) # this will give probability. \n",
    "# Example --> [0.71649202, 0.28350798] --> 0.71 --> 0 and 0.28 --> 1. therefore 0 got selected"
   ]
  },
  {
   "cell_type": "code",
   "execution_count": 12,
   "id": "67d7519c-0727-4af1-86a7-58a4eb1d85f5",
   "metadata": {},
   "outputs": [
    {
     "name": "stdout",
     "output_type": "stream",
     "text": [
      "[[78 13]\n",
      " [29 80]]\n",
      "0.79\n",
      "              precision    recall  f1-score   support\n",
      "\n",
      "           0       0.73      0.86      0.79        91\n",
      "           1       0.86      0.73      0.79       109\n",
      "\n",
      "    accuracy                           0.79       200\n",
      "   macro avg       0.79      0.80      0.79       200\n",
      "weighted avg       0.80      0.79      0.79       200\n",
      "\n"
     ]
    }
   ],
   "source": [
    "from sklearn.metrics import confusion_matrix, accuracy_score, classification_report\n",
    "\n",
    "print(confusion_matrix(y_test, y_test_prediction))\n",
    "print(accuracy_score(y_test, y_test_prediction))\n",
    "print(classification_report(y_test, y_test_prediction))"
   ]
  },
  {
   "cell_type": "markdown",
   "id": "e0526b05-845b-479c-96ec-3616b24b28da",
   "metadata": {},
   "source": [
    "## Randomized Search CV"
   ]
  },
  {
   "cell_type": "code",
   "execution_count": 16,
   "id": "2824a0d2-cf2b-43e6-a909-9769e735f0fd",
   "metadata": {},
   "outputs": [
    {
     "name": "stdout",
     "output_type": "stream",
     "text": [
      "Best Parameters: {'solver': 'saga', 'penalty': 'l2', 'C': 10}\n",
      "Best Accuracy: 0.8087500000000001\n"
     ]
    }
   ],
   "source": [
    "from sklearn.model_selection import RandomizedSearchCV\n",
    "\n",
    "parameters = {\n",
    "    'penalty' : ('l1', 'l2', 'elasticnet'),\n",
    "    'C' : [1, 10, 20, 30],\n",
    "    'solver' : ('lbfgs', 'liblinear', 'newton-cg', 'newton-cholesky', 'sag', 'saga')\n",
    "}\n",
    "\n",
    "rs = RandomizedSearchCV(LogisticRegression(), param_distributions = parameters, cv = 5, n_iter = 20)\n",
    "\n",
    "rs.fit(X_train, y_train)\n",
    "print(\"Best Parameters:\", rs.best_params_)\n",
    "print(\"Best Accuracy:\", rs.best_score_)"
   ]
  },
  {
   "cell_type": "code",
   "execution_count": 17,
   "id": "eb241c58-30c9-4fd8-be28-fb7f73394edb",
   "metadata": {},
   "outputs": [],
   "source": [
    "classification = LogisticRegression(C = 1, penalty = 'l2')\n",
    "classification.fit(X_train, y_train)\n",
    "y_test_prediction = classification.predict(X_test)\n",
    "# OR\n",
    "# classification.predict_proba(X_test) # this will give probability. \n",
    "# Example --> [0.71649202, 0.28350798] --> 0.71 --> 0 and 0.28 --> 1. therefore 0 got selected"
   ]
  },
  {
   "cell_type": "code",
   "execution_count": 18,
   "id": "e0ac7e07-64a5-452e-bfd7-1bc7c98ff5b0",
   "metadata": {},
   "outputs": [
    {
     "name": "stdout",
     "output_type": "stream",
     "text": [
      "[[78 13]\n",
      " [29 80]]\n",
      "0.79\n",
      "              precision    recall  f1-score   support\n",
      "\n",
      "           0       0.73      0.86      0.79        91\n",
      "           1       0.86      0.73      0.79       109\n",
      "\n",
      "    accuracy                           0.79       200\n",
      "   macro avg       0.79      0.80      0.79       200\n",
      "weighted avg       0.80      0.79      0.79       200\n",
      "\n"
     ]
    }
   ],
   "source": [
    "from sklearn.metrics import confusion_matrix, accuracy_score, classification_report\n",
    "\n",
    "print(confusion_matrix(y_test, y_test_prediction))\n",
    "print(accuracy_score(y_test, y_test_prediction))\n",
    "print(classification_report(y_test, y_test_prediction))"
   ]
  },
  {
   "cell_type": "code",
   "execution_count": 19,
   "id": "7f952c15-14bb-40e6-aeb2-fbfa04816add",
   "metadata": {},
   "outputs": [
    {
     "data": {
      "text/plain": [
       "{'ccp_alpha': 0.0,\n",
       " 'criterion': 'squared_error',\n",
       " 'max_depth': None,\n",
       " 'max_features': None,\n",
       " 'max_leaf_nodes': None,\n",
       " 'min_impurity_decrease': 0.0,\n",
       " 'min_samples_leaf': 1,\n",
       " 'min_samples_split': 2,\n",
       " 'min_weight_fraction_leaf': 0.0,\n",
       " 'random_state': None,\n",
       " 'splitter': 'best'}"
      ]
     },
     "execution_count": 19,
     "metadata": {},
     "output_type": "execute_result"
    }
   ],
   "source": [
    "from sklearn.tree import DecisionTreeRegressor\n",
    "\n",
    "dt = DecisionTreeRegressor()\n",
    "dt.get_params()"
   ]
  },
  {
   "cell_type": "code",
   "execution_count": null,
   "id": "258ff5b8-1fd9-4b71-a772-44fd0fb9c550",
   "metadata": {},
   "outputs": [],
   "source": []
  }
 ],
 "metadata": {
  "kernelspec": {
   "display_name": "Python 3 (ipykernel)",
   "language": "python",
   "name": "python3"
  },
  "language_info": {
   "codemirror_mode": {
    "name": "ipython",
    "version": 3
   },
   "file_extension": ".py",
   "mimetype": "text/x-python",
   "name": "python",
   "nbconvert_exporter": "python",
   "pygments_lexer": "ipython3",
   "version": "3.11.7"
  }
 },
 "nbformat": 4,
 "nbformat_minor": 5
}
