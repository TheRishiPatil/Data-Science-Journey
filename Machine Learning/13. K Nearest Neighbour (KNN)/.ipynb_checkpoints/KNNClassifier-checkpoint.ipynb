{
 "cells": [
  {
   "cell_type": "code",
   "execution_count": 1,
   "id": "83042078-c9e7-42ab-9f52-b9aeb9ee3e15",
   "metadata": {},
   "outputs": [],
   "source": [
    "import pandas as pd\n",
    "import numpy as np\n",
    "import seaborn as sns\n",
    "import matplotlib.pyplot as plt\n",
    "%matplotlib inline"
   ]
  },
  {
   "cell_type": "code",
   "execution_count": 2,
   "id": "981a0c13-5a4b-4572-8a52-86390b40e151",
   "metadata": {},
   "outputs": [],
   "source": [
    "from sklearn.datasets import make_classification\n",
    "\n",
    "X, y = make_classification(n_samples = 1000, n_features = 3, n_redundant = 1, n_classes = 2, random_state = 1)"
   ]
  },
  {
   "cell_type": "code",
   "execution_count": 3,
   "id": "8a8e591b-6896-4cac-becd-e347440dd598",
   "metadata": {},
   "outputs": [],
   "source": [
    "from sklearn.model_selection import train_test_split\n",
    "\n",
    "X_train, X_test, y_train, y_test = train_test_split(X, y, test_size = 0.33, random_state = 42)"
   ]
  },
  {
   "cell_type": "code",
   "execution_count": 4,
   "id": "09b5619c-cf36-43c3-98f7-df03928c727d",
   "metadata": {},
   "outputs": [],
   "source": [
    "from sklearn.neighbors import KNeighborsClassifier\n",
    "\n",
    "classifier = KNeighborsClassifier(n_neighbors = 5, algorithm = 'auto')\n",
    "classifier.fit(X_train, y_train)\n",
    "y_pred = classifier.predict(X_test)"
   ]
  },
  {
   "cell_type": "code",
   "execution_count": 5,
   "id": "41ea9ed1-89af-4047-af28-a462b2698b4d",
   "metadata": {},
   "outputs": [
    {
     "name": "stdout",
     "output_type": "stream",
     "text": [
      "[[137  23]\n",
      " [ 24 146]]\n",
      "0.8575757575757575\n",
      "              precision    recall  f1-score   support\n",
      "\n",
      "           0       0.85      0.86      0.85       160\n",
      "           1       0.86      0.86      0.86       170\n",
      "\n",
      "    accuracy                           0.86       330\n",
      "   macro avg       0.86      0.86      0.86       330\n",
      "weighted avg       0.86      0.86      0.86       330\n",
      "\n"
     ]
    }
   ],
   "source": [
    "from sklearn.metrics import confusion_matrix, accuracy_score, classification_report\n",
    "\n",
    "print(confusion_matrix(y_test, y_pred))\n",
    "print(accuracy_score(y_test, y_pred))\n",
    "print(classification_report(y_test, y_pred))"
   ]
  },
  {
   "cell_type": "markdown",
   "id": "e3fe061d-4abb-4565-aeb6-0ca7d1fcf209",
   "metadata": {},
   "source": [
    "## Using Grid Search CV "
   ]
  },
  {
   "cell_type": "code",
   "execution_count": 8,
   "id": "9223b764-3f91-48c6-a35c-d82ec62efec9",
   "metadata": {},
   "outputs": [],
   "source": [
    "params = {\n",
    "    'n_neighbors': range(1, 11)\n",
    "}"
   ]
  },
  {
   "cell_type": "code",
   "execution_count": 13,
   "id": "4593e9d1-0a4f-47e2-8210-c81f0ccb5d9b",
   "metadata": {
    "scrolled": true
   },
   "outputs": [
    {
     "name": "stdout",
     "output_type": "stream",
     "text": [
      "Fitting 5 folds for each of 10 candidates, totalling 50 fits\n",
      "[CV 1/5] END .....................n_neighbors=1;, score=0.821 total time=   0.0s\n",
      "[CV 2/5] END .....................n_neighbors=1;, score=0.851 total time=   0.0s\n",
      "[CV 3/5] END .....................n_neighbors=1;, score=0.813 total time=   0.0s\n",
      "[CV 4/5] END .....................n_neighbors=1;, score=0.888 total time=   0.0s\n",
      "[CV 5/5] END .....................n_neighbors=1;, score=0.799 total time=   0.0s\n",
      "[CV 1/5] END .....................n_neighbors=2;, score=0.784 total time=   0.0s\n",
      "[CV 2/5] END .....................n_neighbors=2;, score=0.828 total time=   0.0s\n",
      "[CV 3/5] END .....................n_neighbors=2;, score=0.828 total time=   0.0s\n",
      "[CV 4/5] END .....................n_neighbors=2;, score=0.843 total time=   0.0s\n",
      "[CV 5/5] END .....................n_neighbors=2;, score=0.739 total time=   0.0s\n",
      "[CV 1/5] END .....................n_neighbors=3;, score=0.851 total time=   0.0s\n",
      "[CV 2/5] END .....................n_neighbors=3;, score=0.843 total time=   0.0s\n",
      "[CV 3/5] END .....................n_neighbors=3;, score=0.858 total time=   0.0s\n",
      "[CV 4/5] END .....................n_neighbors=3;, score=0.851 total time=   0.0s\n",
      "[CV 5/5] END .....................n_neighbors=3;, score=0.821 total time=   0.0s\n",
      "[CV 1/5] END .....................n_neighbors=4;, score=0.858 total time=   0.0s\n",
      "[CV 2/5] END .....................n_neighbors=4;, score=0.836 total time=   0.0s\n",
      "[CV 3/5] END .....................n_neighbors=4;, score=0.881 total time=   0.0s\n",
      "[CV 4/5] END .....................n_neighbors=4;, score=0.851 total time=   0.0s\n",
      "[CV 5/5] END .....................n_neighbors=4;, score=0.791 total time=   0.0s\n",
      "[CV 1/5] END .....................n_neighbors=5;, score=0.873 total time=   0.0s\n",
      "[CV 2/5] END .....................n_neighbors=5;, score=0.858 total time=   0.0s\n",
      "[CV 3/5] END .....................n_neighbors=5;, score=0.873 total time=   0.0s\n",
      "[CV 4/5] END .....................n_neighbors=5;, score=0.858 total time=   0.0s\n",
      "[CV 5/5] END .....................n_neighbors=5;, score=0.821 total time=   0.0s\n",
      "[CV 1/5] END .....................n_neighbors=6;, score=0.881 total time=   0.0s\n",
      "[CV 2/5] END .....................n_neighbors=6;, score=0.843 total time=   0.0s\n",
      "[CV 3/5] END .....................n_neighbors=6;, score=0.881 total time=   0.0s\n",
      "[CV 4/5] END .....................n_neighbors=6;, score=0.888 total time=   0.0s\n",
      "[CV 5/5] END .....................n_neighbors=6;, score=0.791 total time=   0.0s\n",
      "[CV 1/5] END .....................n_neighbors=7;, score=0.881 total time=   0.0s\n",
      "[CV 2/5] END .....................n_neighbors=7;, score=0.881 total time=   0.0s\n",
      "[CV 3/5] END .....................n_neighbors=7;, score=0.888 total time=   0.0s\n",
      "[CV 4/5] END .....................n_neighbors=7;, score=0.888 total time=   0.0s\n",
      "[CV 5/5] END .....................n_neighbors=7;, score=0.806 total time=   0.0s\n",
      "[CV 1/5] END .....................n_neighbors=8;, score=0.873 total time=   0.0s\n",
      "[CV 2/5] END .....................n_neighbors=8;, score=0.881 total time=   0.0s\n",
      "[CV 3/5] END .....................n_neighbors=8;, score=0.881 total time=   0.0s\n",
      "[CV 4/5] END .....................n_neighbors=8;, score=0.903 total time=   0.0s\n",
      "[CV 5/5] END .....................n_neighbors=8;, score=0.813 total time=   0.0s\n",
      "[CV 1/5] END .....................n_neighbors=9;, score=0.873 total time=   0.0s\n",
      "[CV 2/5] END .....................n_neighbors=9;, score=0.873 total time=   0.0s\n",
      "[CV 3/5] END .....................n_neighbors=9;, score=0.881 total time=   0.0s\n",
      "[CV 4/5] END .....................n_neighbors=9;, score=0.873 total time=   0.0s\n",
      "[CV 5/5] END .....................n_neighbors=9;, score=0.828 total time=   0.0s\n",
      "[CV 1/5] END ....................n_neighbors=10;, score=0.851 total time=   0.0s\n",
      "[CV 2/5] END ....................n_neighbors=10;, score=0.881 total time=   0.0s\n",
      "[CV 3/5] END ....................n_neighbors=10;, score=0.881 total time=   0.0s\n",
      "[CV 4/5] END ....................n_neighbors=10;, score=0.881 total time=   0.0s\n",
      "[CV 5/5] END ....................n_neighbors=10;, score=0.843 total time=   0.0s\n",
      "Best Parameters: {'n_neighbors': 8}\n"
     ]
    }
   ],
   "source": [
    "from sklearn.model_selection import GridSearchCV\n",
    "\n",
    "gscv = GridSearchCV(KNeighborsClassifier(), param_grid = params, refit = True, cv = 5, verbose = 3)\n",
    "gscv.fit(X_train, y_train)\n",
    "y_test_prediction = gscv.predict(X_test)\n",
    "\n",
    "print(\"Best Parameters:\", gscv.best_params_)"
   ]
  }
 ],
 "metadata": {
  "kernelspec": {
   "display_name": "Python 3 (ipykernel)",
   "language": "python",
   "name": "python3"
  },
  "language_info": {
   "codemirror_mode": {
    "name": "ipython",
    "version": 3
   },
   "file_extension": ".py",
   "mimetype": "text/x-python",
   "name": "python",
   "nbconvert_exporter": "python",
   "pygments_lexer": "ipython3",
   "version": "3.11.7"
  }
 },
 "nbformat": 4,
 "nbformat_minor": 5
}
