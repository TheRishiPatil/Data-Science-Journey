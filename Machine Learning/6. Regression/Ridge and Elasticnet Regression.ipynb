{
 "cells": [
  {
   "cell_type": "code",
   "execution_count": 1,
   "id": "bd8b7b7f-b227-4b71-8700-567bd1f13117",
   "metadata": {},
   "outputs": [],
   "source": [
    "import pandas as pd\n",
    "import matplotlib.pyplot as plt\n",
    "import numpy as np"
   ]
  },
  {
   "cell_type": "code",
   "execution_count": 2,
   "id": "8d97a405-fd49-460d-bca5-e39882cfb34d",
   "metadata": {},
   "outputs": [
    {
     "data": {
      "text/html": [
       "<div>\n",
       "<style scoped>\n",
       "    .dataframe tbody tr th:only-of-type {\n",
       "        vertical-align: middle;\n",
       "    }\n",
       "\n",
       "    .dataframe tbody tr th {\n",
       "        vertical-align: top;\n",
       "    }\n",
       "\n",
       "    .dataframe thead th {\n",
       "        text-align: right;\n",
       "    }\n",
       "</style>\n",
       "<table border=\"1\" class=\"dataframe\">\n",
       "  <thead>\n",
       "    <tr style=\"text-align: right;\">\n",
       "      <th></th>\n",
       "      <th>day</th>\n",
       "      <th>month</th>\n",
       "      <th>year</th>\n",
       "      <th>Temperature</th>\n",
       "      <th>RH</th>\n",
       "      <th>Ws</th>\n",
       "      <th>Rain</th>\n",
       "      <th>FFMC</th>\n",
       "      <th>DMC</th>\n",
       "      <th>DC</th>\n",
       "      <th>ISI</th>\n",
       "      <th>BUI</th>\n",
       "      <th>FWI</th>\n",
       "      <th>Classes</th>\n",
       "      <th>Region</th>\n",
       "    </tr>\n",
       "  </thead>\n",
       "  <tbody>\n",
       "    <tr>\n",
       "      <th>0</th>\n",
       "      <td>1</td>\n",
       "      <td>6</td>\n",
       "      <td>2012</td>\n",
       "      <td>29</td>\n",
       "      <td>57</td>\n",
       "      <td>18</td>\n",
       "      <td>0.0</td>\n",
       "      <td>65.7</td>\n",
       "      <td>3.4</td>\n",
       "      <td>7.6</td>\n",
       "      <td>1.3</td>\n",
       "      <td>3.4</td>\n",
       "      <td>0.5</td>\n",
       "      <td>not fire</td>\n",
       "      <td>0</td>\n",
       "    </tr>\n",
       "    <tr>\n",
       "      <th>1</th>\n",
       "      <td>2</td>\n",
       "      <td>6</td>\n",
       "      <td>2012</td>\n",
       "      <td>29</td>\n",
       "      <td>61</td>\n",
       "      <td>13</td>\n",
       "      <td>1.3</td>\n",
       "      <td>64.4</td>\n",
       "      <td>4.1</td>\n",
       "      <td>7.6</td>\n",
       "      <td>1.0</td>\n",
       "      <td>3.9</td>\n",
       "      <td>0.4</td>\n",
       "      <td>not fire</td>\n",
       "      <td>0</td>\n",
       "    </tr>\n",
       "    <tr>\n",
       "      <th>2</th>\n",
       "      <td>3</td>\n",
       "      <td>6</td>\n",
       "      <td>2012</td>\n",
       "      <td>26</td>\n",
       "      <td>82</td>\n",
       "      <td>22</td>\n",
       "      <td>13.1</td>\n",
       "      <td>47.1</td>\n",
       "      <td>2.5</td>\n",
       "      <td>7.1</td>\n",
       "      <td>0.3</td>\n",
       "      <td>2.7</td>\n",
       "      <td>0.1</td>\n",
       "      <td>not fire</td>\n",
       "      <td>0</td>\n",
       "    </tr>\n",
       "    <tr>\n",
       "      <th>3</th>\n",
       "      <td>4</td>\n",
       "      <td>6</td>\n",
       "      <td>2012</td>\n",
       "      <td>25</td>\n",
       "      <td>89</td>\n",
       "      <td>13</td>\n",
       "      <td>2.5</td>\n",
       "      <td>28.6</td>\n",
       "      <td>1.3</td>\n",
       "      <td>6.9</td>\n",
       "      <td>0.0</td>\n",
       "      <td>1.7</td>\n",
       "      <td>0.0</td>\n",
       "      <td>not fire</td>\n",
       "      <td>0</td>\n",
       "    </tr>\n",
       "    <tr>\n",
       "      <th>4</th>\n",
       "      <td>5</td>\n",
       "      <td>6</td>\n",
       "      <td>2012</td>\n",
       "      <td>27</td>\n",
       "      <td>77</td>\n",
       "      <td>16</td>\n",
       "      <td>0.0</td>\n",
       "      <td>64.8</td>\n",
       "      <td>3.0</td>\n",
       "      <td>14.2</td>\n",
       "      <td>1.2</td>\n",
       "      <td>3.9</td>\n",
       "      <td>0.5</td>\n",
       "      <td>not fire</td>\n",
       "      <td>0</td>\n",
       "    </tr>\n",
       "  </tbody>\n",
       "</table>\n",
       "</div>"
      ],
      "text/plain": [
       "   day  month  year  Temperature  RH  Ws  Rain  FFMC  DMC    DC  ISI  BUI  \\\n",
       "0    1      6  2012           29  57  18   0.0  65.7  3.4   7.6  1.3  3.4   \n",
       "1    2      6  2012           29  61  13   1.3  64.4  4.1   7.6  1.0  3.9   \n",
       "2    3      6  2012           26  82  22  13.1  47.1  2.5   7.1  0.3  2.7   \n",
       "3    4      6  2012           25  89  13   2.5  28.6  1.3   6.9  0.0  1.7   \n",
       "4    5      6  2012           27  77  16   0.0  64.8  3.0  14.2  1.2  3.9   \n",
       "\n",
       "   FWI      Classes  Region  \n",
       "0  0.5  not fire          0  \n",
       "1  0.4  not fire          0  \n",
       "2  0.1  not fire          0  \n",
       "3  0.0  not fire          0  \n",
       "4  0.5  not fire          0  "
      ]
     },
     "execution_count": 2,
     "metadata": {},
     "output_type": "execute_result"
    }
   ],
   "source": [
    "df = pd.read_csv('C:/Users/rishi/Desktop/ML/Datasets/Algerian_forest_fires_cleaned_dataset.csv')\n",
    "df.head()"
   ]
  },
  {
   "cell_type": "code",
   "execution_count": 3,
   "id": "a291060b-9c3c-4627-b148-53056aa24b21",
   "metadata": {},
   "outputs": [],
   "source": [
    "df.drop(['day', 'month', 'year'], axis = 1, inplace = True)\n",
    "df.Classes = np.where(df.Classes.str.contains('not fire'), 0, 1)"
   ]
  },
  {
   "cell_type": "code",
   "execution_count": 4,
   "id": "54c91121-7470-4c1d-8457-07a7a7333775",
   "metadata": {},
   "outputs": [],
   "source": [
    "X = df.drop('FWI', axis = 1)\n",
    "y = df.FWI"
   ]
  },
  {
   "cell_type": "code",
   "execution_count": 5,
   "id": "b3976eb0-a340-4c40-86bb-c1af9dd3048e",
   "metadata": {},
   "outputs": [],
   "source": [
    "from sklearn.model_selection import train_test_split as tts\n",
    "\n",
    "X_train, X_test, y_train, y_test = tts(X, y, test_size = 0.33, random_state = 10)"
   ]
  },
  {
   "cell_type": "code",
   "execution_count": 6,
   "id": "eaf2e5b8-c825-4a04-89f7-b32a2d5703e8",
   "metadata": {},
   "outputs": [],
   "source": [
    "def correlation(dataset, threshold) :\n",
    "    col_corr = set()\n",
    "    corr_matrix = dataset.corr()\n",
    "\n",
    "    for i in range(len(corr_matrix.columns)) :\n",
    "        for j in range(i) :\n",
    "            if abs(corr_matrix.iloc[i, j])  > threshold :\n",
    "                colname = corr_matrix.columns[i]\n",
    "                col_corr.add(colname)\n",
    "\n",
    "    return col_corr\n",
    "\n",
    "\n",
    "corr_features = correlation(X_train, 0.85)"
   ]
  },
  {
   "cell_type": "code",
   "execution_count": 7,
   "id": "b0001c6c-84fb-4b45-afeb-206a3e8a35f0",
   "metadata": {},
   "outputs": [],
   "source": [
    "X_train.drop(corr_features, axis = 1, inplace = True)\n",
    "X_test.drop(corr_features, axis = 1, inplace = True)"
   ]
  },
  {
   "cell_type": "code",
   "execution_count": 8,
   "id": "d2f6b051-c707-4002-a644-929b752b0673",
   "metadata": {},
   "outputs": [],
   "source": [
    "from sklearn.preprocessing import StandardScaler\n",
    "\n",
    "sc = StandardScaler()\n",
    "X_train = sc.fit_transform(X_train)\n",
    "X_test = sc.transform(X_test)"
   ]
  },
  {
   "cell_type": "code",
   "execution_count": 9,
   "id": "6df4d8e3-61d6-4ef2-8931-02693feed2c1",
   "metadata": {},
   "outputs": [
    {
     "name": "stdout",
     "output_type": "stream",
     "text": [
      "Slope or Coefficient: [-0.03951681 -0.21855048  0.07061907  0.06772119 -0.79895222  3.3909805\n",
      "  4.46527817  0.610526   -0.40643988]\n",
      "Intercept: 6.845061728395063\n"
     ]
    }
   ],
   "source": [
    "from sklearn.linear_model import Ridge\n",
    "\n",
    "regressor = Ridge()\n",
    "regressor.fit(X_train, y_train)\n",
    "y_test_prediction = regressor.predict(X_test)\n",
    "\n",
    "print(\"Slope or Coefficient:\", regressor.coef_)\n",
    "print(\"Intercept:\", regressor.intercept_)"
   ]
  },
  {
   "cell_type": "code",
   "execution_count": 10,
   "id": "86e60ccf-2173-43e0-a9cb-182791cb2355",
   "metadata": {},
   "outputs": [
    {
     "name": "stdout",
     "output_type": "stream",
     "text": [
      "Mean Squared Error: 0.8313788230209306\n",
      "Mean Absolute Error: 0.6781225131218179\n",
      "Root Mean Squared Error: 0.9117997713428813\n"
     ]
    }
   ],
   "source": [
    "from sklearn.metrics import mean_squared_error, mean_absolute_error\n",
    "\n",
    "mse = mean_squared_error(y_test, y_test_prediction) # Actual data and Predicted Data\n",
    "mae = mean_absolute_error(y_test, y_test_prediction)\n",
    "rmse = np.sqrt(mse)\n",
    "\n",
    "print(\"Mean Squared Error:\", mse)\n",
    "print(\"Mean Absolute Error:\", mae)\n",
    "print(\"Root Mean Squared Error:\", rmse)"
   ]
  },
  {
   "cell_type": "code",
   "execution_count": 11,
   "id": "c0cbdfc7-b09d-451c-84b1-906f3d083550",
   "metadata": {},
   "outputs": [
    {
     "name": "stdout",
     "output_type": "stream",
     "text": [
      "Accuracy of r squared: 0.9863698710809673\n",
      "Accuracy of Adjusted r squared: 0.9846174259342345\n"
     ]
    }
   ],
   "source": [
    "from sklearn.metrics import r2_score\n",
    "\n",
    "score = r2_score(y_test, y_test_prediction)\n",
    "print(\"Accuracy of r squared:\", score)\n",
    "\n",
    "n = (len(y_test) - 1) # No of observations\n",
    "k = X_test.shape[1] # No of predictor variables\n",
    "adjusted_score = 1 - ((1 - score) * (n - 1)  / (n - k - 1))\n",
    "print(\"Accuracy of Adjusted r squared:\", adjusted_score)"
   ]
  },
  {
   "cell_type": "markdown",
   "id": "2f341c68-2e6f-4696-a9c3-0934be1b1e2a",
   "metadata": {},
   "source": [
    "## Ridge Cross Validation"
   ]
  },
  {
   "cell_type": "code",
   "execution_count": 15,
   "id": "f75540c4-5ae8-47d5-beeb-72f7ed6aafb4",
   "metadata": {},
   "outputs": [
    {
     "name": "stdout",
     "output_type": "stream",
     "text": [
      "Mean Squared Error: 1.312624031941085\n",
      "Accuracy of r squared: 0.9784800450983737\n"
     ]
    }
   ],
   "source": [
    " from sklearn.linear_model import RidgeCV\n",
    "\n",
    "ridgeCV = RidgeCV(cv = 5)\n",
    "ridgeCV.fit(X_train, y_train)\n",
    "y_test_prediction = ridgeCV.predict(X_test)\n",
    "\n",
    "mse = mean_squared_error(y_test, y_test_prediction)\n",
    "print(\"Mean Squared Error:\", mse)\n",
    "\n",
    "score = r2_score(y_test, y_test_prediction)\n",
    "print(\"Accuracy of r squared:\", score)"
   ]
  },
  {
   "cell_type": "code",
   "execution_count": 16,
   "id": "04a90b26-8cbf-487d-8686-a7434c8dd563",
   "metadata": {},
   "outputs": [
    {
     "data": {
      "text/plain": [
       "{'alpha_per_target': False,\n",
       " 'alphas': (0.1, 1.0, 10.0),\n",
       " 'cv': 5,\n",
       " 'fit_intercept': True,\n",
       " 'gcv_mode': None,\n",
       " 'scoring': None,\n",
       " 'store_cv_values': False}"
      ]
     },
     "execution_count": 16,
     "metadata": {},
     "output_type": "execute_result"
    }
   ],
   "source": [
    "ridgeCV.get_params()"
   ]
  },
  {
   "cell_type": "markdown",
   "id": "d0f8864b-3d35-410c-b560-802779c3ce72",
   "metadata": {},
   "source": [
    "## ElasticNet Regression"
   ]
  },
  {
   "cell_type": "code",
   "execution_count": 17,
   "id": "44ec6c6d-ad56-405d-bc54-29ce6d4ba998",
   "metadata": {},
   "outputs": [
    {
     "name": "stdout",
     "output_type": "stream",
     "text": [
      "Slope or Coefficient: [ 6.43058081e-02 -4.13642746e-01  1.07315087e-03 -0.00000000e+00\n",
      "  3.09855931e-01  2.20962646e+00  2.29398840e+00  8.73381589e-01\n",
      " -0.00000000e+00]\n",
      "Intercept: 6.845061728395062\n"
     ]
    }
   ],
   "source": [
    "from sklearn.linear_model import ElasticNet\n",
    "\n",
    "regressor = ElasticNet()\n",
    "regressor.fit(X_train, y_train)\n",
    "y_test_prediction = regressor.predict(X_test)\n",
    "\n",
    "print(\"Slope or Coefficient:\", regressor.coef_)\n",
    "print(\"Intercept:\", regressor.intercept_)"
   ]
  },
  {
   "cell_type": "code",
   "execution_count": 18,
   "id": "78d3dcd1-32b1-41e9-aae9-0be15cfa5b57",
   "metadata": {},
   "outputs": [
    {
     "name": "stdout",
     "output_type": "stream",
     "text": [
      "Mean Squared Error: 7.204027132336864\n",
      "Mean Absolute Error: 2.02562054995965\n",
      "Root Mean Squared Error: 2.6840318799032294\n"
     ]
    }
   ],
   "source": [
    "from sklearn.metrics import mean_squared_error, mean_absolute_error\n",
    "\n",
    "mse = mean_squared_error(y_test, y_test_prediction) # Actual data and Predicted Data\n",
    "mae = mean_absolute_error(y_test, y_test_prediction)\n",
    "rmse = np.sqrt(mse)\n",
    "\n",
    "print(\"Mean Squared Error:\", mse)\n",
    "print(\"Mean Absolute Error:\", mae)\n",
    "print(\"Root Mean Squared Error:\", rmse)"
   ]
  },
  {
   "cell_type": "code",
   "execution_count": 19,
   "id": "ffb393e7-dcbe-44ac-a42c-272911bec04c",
   "metadata": {},
   "outputs": [
    {
     "name": "stdout",
     "output_type": "stream",
     "text": [
      "Accuracy of r squared: 0.8818928076695921\n",
      "Accuracy of Adjusted r squared: 0.8667075972271111\n"
     ]
    }
   ],
   "source": [
    "from sklearn.metrics import r2_score\n",
    "\n",
    "score = r2_score(y_test, y_test_prediction)\n",
    "print(\"Accuracy of r squared:\", score)\n",
    "\n",
    "n = (len(y_test) - 1) # No of observations\n",
    "k = X_test.shape[1] # No of predictor variables\n",
    "adjusted_score = 1 - ((1 - score) * (n - 1)  / (n - k - 1))\n",
    "print(\"Accuracy of Adjusted r squared:\", adjusted_score)"
   ]
  },
  {
   "cell_type": "markdown",
   "id": "25a20ee0-5178-445b-a62e-6887de7489fd",
   "metadata": {},
   "source": [
    "## ElasticNet Cross Validation"
   ]
  },
  {
   "cell_type": "code",
   "execution_count": 22,
   "id": "56a2c2d9-7370-4f30-b084-58f66d3134d0",
   "metadata": {},
   "outputs": [
    {
     "name": "stdout",
     "output_type": "stream",
     "text": [
      "Mean Squared Error: 0.8854391577457683\n",
      "Accuracy of r squared: 0.9854835731487825\n"
     ]
    }
   ],
   "source": [
    " from sklearn.linear_model import ElasticNetCV\n",
    "\n",
    "elasticNetCV = ElasticNetCV(cv = 5)\n",
    "elasticNetCV.fit(X_train, y_train)\n",
    "y_test_prediction = elasticNetCV.predict(X_test)\n",
    "\n",
    "mse = mean_squared_error(y_test, y_test_prediction)\n",
    "print(\"Mean Squared Error:\", mse)\n",
    "\n",
    "score = r2_score(y_test, y_test_prediction)\n",
    "print(\"Accuracy of r squared:\", score)"
   ]
  },
  {
   "cell_type": "code",
   "execution_count": null,
   "id": "ece8f1db-afed-4a57-b526-79d3815a5f67",
   "metadata": {},
   "outputs": [],
   "source": []
  }
 ],
 "metadata": {
  "kernelspec": {
   "display_name": "Python 3 (ipykernel)",
   "language": "python",
   "name": "python3"
  },
  "language_info": {
   "codemirror_mode": {
    "name": "ipython",
    "version": 3
   },
   "file_extension": ".py",
   "mimetype": "text/x-python",
   "name": "python",
   "nbconvert_exporter": "python",
   "pygments_lexer": "ipython3",
   "version": "3.11.7"
  }
 },
 "nbformat": 4,
 "nbformat_minor": 5
}
