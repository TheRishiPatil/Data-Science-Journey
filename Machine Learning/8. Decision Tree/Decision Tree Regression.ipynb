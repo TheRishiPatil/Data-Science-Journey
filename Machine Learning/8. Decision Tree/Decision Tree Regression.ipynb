{
 "cells": [
  {
   "cell_type": "code",
   "execution_count": 37,
   "id": "8782c3bc-45be-46da-a280-00ecb31e7f86",
   "metadata": {},
   "outputs": [],
   "source": [
    "import pandas as pd\n",
    "import numpy as np\n",
    "import matplotlib.pyplot as plt\n",
    "%matplotlib inline"
   ]
  },
  {
   "cell_type": "code",
   "execution_count": 38,
   "id": "ad9a498f-e118-4860-9c39-df265ec612ba",
   "metadata": {},
   "outputs": [],
   "source": [
    "from sklearn.datasets import fetch_california_housing\n",
    "dataset = fetch_california_housing()"
   ]
  },
  {
   "cell_type": "code",
   "execution_count": 39,
   "id": "f7b2f5b6-fad7-468e-adbd-c90b1e57a712",
   "metadata": {},
   "outputs": [
    {
     "data": {
      "text/plain": [
       "(20640, 9)"
      ]
     },
     "execution_count": 39,
     "metadata": {},
     "output_type": "execute_result"
    }
   ],
   "source": [
    "df = pd.DataFrame(dataset.data, columns = dataset.feature_names)\n",
    "df['Target'] = dataset.target\n",
    "df.shape"
   ]
  },
  {
   "cell_type": "code",
   "execution_count": 40,
   "id": "fd934c4a-0a65-4749-aa69-c95fc5f08a71",
   "metadata": {},
   "outputs": [
    {
     "data": {
      "text/plain": [
       "(5160, 9)"
      ]
     },
     "execution_count": 40,
     "metadata": {},
     "output_type": "execute_result"
    }
   ],
   "source": [
    "df = df.sample(frac = 0.25) # here we are taking only 25% of actual data\n",
    "df.shape"
   ]
  },
  {
   "cell_type": "code",
   "execution_count": 41,
   "id": "01428255-b522-4b22-8b0d-c1f51b4cc582",
   "metadata": {},
   "outputs": [],
   "source": [
    "X = df.drop('Target', axis = 1)\n",
    "y = df.Target"
   ]
  },
  {
   "cell_type": "code",
   "execution_count": 42,
   "id": "e41aacaf-e4a0-4c78-a7ab-7eb84f32b127",
   "metadata": {},
   "outputs": [],
   "source": [
    "from sklearn.model_selection import train_test_split as tts\n",
    "\n",
    "X_train, X_test, y_train, y_test = tts(X, y, test_size = 0.33, random_state = 42)"
   ]
  },
  {
   "cell_type": "code",
   "execution_count": 43,
   "id": "88f5077e-dd91-434c-98c3-a22216c5eb10",
   "metadata": {},
   "outputs": [],
   "source": [
    "from sklearn.tree import DecisionTreeRegressor\n",
    "\n",
    "dtr = DecisionTreeRegressor()\n",
    "dtr.fit(X_train, y_train)\n",
    "y_test_prediction = dtr.predict(X_test)"
   ]
  },
  {
   "cell_type": "code",
   "execution_count": 44,
   "id": "79f8cf4c-ca94-4dee-a761-1d9eca113b64",
   "metadata": {},
   "outputs": [
    {
     "data": {
      "text/plain": [
       "0.4826379157044849"
      ]
     },
     "execution_count": 44,
     "metadata": {},
     "output_type": "execute_result"
    }
   ],
   "source": [
    "from sklearn.metrics import r2_score\n",
    "score = r2_score(y_test_prediction, y_test)\n",
    "score"
   ]
  },
  {
   "cell_type": "markdown",
   "id": "34bf0fa7-135f-4061-9dab-9045cfae6c87",
   "metadata": {},
   "source": [
    "## Hyperparameter Tunning"
   ]
  },
  {
   "cell_type": "code",
   "execution_count": 45,
   "id": "a523c22d-a9cc-468c-be33-b625fed170d9",
   "metadata": {},
   "outputs": [],
   "source": [
    "import warnings\n",
    "warnings.filterwarnings('ignore')"
   ]
  },
  {
   "cell_type": "code",
   "execution_count": 49,
   "id": "c7f59327-a34a-4f09-a3b4-53551161b85f",
   "metadata": {},
   "outputs": [],
   "source": [
    "params = {\n",
    "    'criterion' : ['squared_error', 'friedman_mse', 'absolute_error', 'poisson'],\n",
    "    'splitter' : ['best', 'random'],\n",
    "    'max_depth' : [1, 2, 3, 4, 5],\n",
    "    'max_features' : ['auto', 'sqrt', 'log2']\n",
    "}\n",
    "\n",
    "dtr = DecisionTreeRegressor()"
   ]
  },
  {
   "cell_type": "code",
   "execution_count": 50,
   "id": "c2b17ade-6328-487f-a02d-b33a2f00ac75",
   "metadata": {},
   "outputs": [
    {
     "name": "stdout",
     "output_type": "stream",
     "text": [
      "Best Parameters: {'criterion': 'poisson', 'max_depth': 5, 'max_features': 'auto', 'splitter': 'best'}\n"
     ]
    }
   ],
   "source": [
    "from sklearn.model_selection import GridSearchCV\n",
    "\n",
    "clf = GridSearchCV(dtr, param_grid = params, cv = 2, scoring = 'neg_mean_squared_error')\n",
    "clf.fit(X_train, y_train)\n",
    "y_test_prediction = clf.predict(X_test)\n",
    "\n",
    "print(\"Best Parameters:\", clf.best_params_)"
   ]
  },
  {
   "cell_type": "code",
   "execution_count": 51,
   "id": "5ad0447b-bac2-49a6-964f-24c00e8be28a",
   "metadata": {},
   "outputs": [
    {
     "data": {
      "text/plain": [
       "0.410605663871231"
      ]
     },
     "execution_count": 51,
     "metadata": {},
     "output_type": "execute_result"
    }
   ],
   "source": [
    "score = r2_score(y_test_prediction, y_test)\n",
    "score"
   ]
  },
  {
   "cell_type": "code",
   "execution_count": null,
   "id": "5e75388b-58c7-4b5b-b374-6ac6519f3b43",
   "metadata": {},
   "outputs": [],
   "source": []
  }
 ],
 "metadata": {
  "kernelspec": {
   "display_name": "Python 3 (ipykernel)",
   "language": "python",
   "name": "python3"
  },
  "language_info": {
   "codemirror_mode": {
    "name": "ipython",
    "version": 3
   },
   "file_extension": ".py",
   "mimetype": "text/x-python",
   "name": "python",
   "nbconvert_exporter": "python",
   "pygments_lexer": "ipython3",
   "version": "3.11.7"
  }
 },
 "nbformat": 4,
 "nbformat_minor": 5
}
