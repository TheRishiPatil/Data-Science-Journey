{
 "cells": [
  {
   "cell_type": "code",
   "execution_count": 1,
   "id": "63ba85ad-4c5a-4104-87dd-82a25cbde989",
   "metadata": {},
   "outputs": [],
   "source": [
    "import numpy as np\n",
    "import matplotlib.pyplot as plt\n",
    "import joblib\n",
    "import pandas as pd"
   ]
  },
  {
   "cell_type": "code",
   "execution_count": 36,
   "id": "2938dfd5-4d60-4516-ac41-cd2417214c02",
   "metadata": {},
   "outputs": [],
   "source": [
    "class Perceptron:\n",
    "    def __init__(self, eta, epochs) : # eta --> learning rate, epochs --> iteration\n",
    "        self.weights = np.random.randn(3) * 1e-4\n",
    "        print(f\"self.weights: {self.weights}\")\n",
    "        self.eta = eta\n",
    "        self.epochs = epochs\n",
    "\n",
    "    def activationFunction(self, inputs, weights) :\n",
    "        z = np.dot(inputs, weights)\n",
    "        return np.where(z > 0, 1, 0)\n",
    "\n",
    "    def fit(self, X, y) :\n",
    "        self.X = X\n",
    "        self.y = y\n",
    "\n",
    "        X_with_bias = np.c_[self.X, -np.ones((len(self.X), 1))]\n",
    "        print(f\"X_with_bias : \\n{X_with_bias}\")\n",
    "\n",
    "        for epoch in range(self.epochs) :\n",
    "            print(f\"For epoch : {epoch}\")\n",
    "            y_hat = self.activationFunction(X_with_bias, self.weights)\n",
    "            print(f\"Predicted Value : \\n{y_hat}\")\n",
    "            error = self.y - y_hat\n",
    "            print(f\"error : \\n{error}\")\n",
    "            self.weights = self.weights + self.eta * np.dot(X_with_bias.T, error)\n",
    "            print(f\"updated weights : \\n{self.weights}\")\n",
    "\n",
    "    def predict(self, X) :\n",
    "        X_with_bias = np.c_[X, -np.ones((len(self.X), 1))]\n",
    "        return self.activationFunction(X_with_bias, self.weights)"
   ]
  },
  {
   "cell_type": "markdown",
   "id": "e76cf1e2-72ca-4f4a-9953-4b3c3267edc9",
   "metadata": {},
   "source": [
    "## AND"
   ]
  },
  {
   "cell_type": "code",
   "execution_count": 37,
   "id": "30dcfb50-f8d7-4bde-b5ca-00fb525a40ad",
   "metadata": {},
   "outputs": [
    {
     "data": {
      "text/html": [
       "<div>\n",
       "<style scoped>\n",
       "    .dataframe tbody tr th:only-of-type {\n",
       "        vertical-align: middle;\n",
       "    }\n",
       "\n",
       "    .dataframe tbody tr th {\n",
       "        vertical-align: top;\n",
       "    }\n",
       "\n",
       "    .dataframe thead th {\n",
       "        text-align: right;\n",
       "    }\n",
       "</style>\n",
       "<table border=\"1\" class=\"dataframe\">\n",
       "  <thead>\n",
       "    <tr style=\"text-align: right;\">\n",
       "      <th></th>\n",
       "      <th>x1</th>\n",
       "      <th>x2</th>\n",
       "      <th>y</th>\n",
       "    </tr>\n",
       "  </thead>\n",
       "  <tbody>\n",
       "    <tr>\n",
       "      <th>0</th>\n",
       "      <td>0</td>\n",
       "      <td>0</td>\n",
       "      <td>0</td>\n",
       "    </tr>\n",
       "    <tr>\n",
       "      <th>1</th>\n",
       "      <td>0</td>\n",
       "      <td>1</td>\n",
       "      <td>0</td>\n",
       "    </tr>\n",
       "    <tr>\n",
       "      <th>2</th>\n",
       "      <td>1</td>\n",
       "      <td>0</td>\n",
       "      <td>0</td>\n",
       "    </tr>\n",
       "    <tr>\n",
       "      <th>3</th>\n",
       "      <td>1</td>\n",
       "      <td>1</td>\n",
       "      <td>1</td>\n",
       "    </tr>\n",
       "  </tbody>\n",
       "</table>\n",
       "</div>"
      ],
      "text/plain": [
       "   x1  x2  y\n",
       "0   0   0  0\n",
       "1   0   1  0\n",
       "2   1   0  0\n",
       "3   1   1  1"
      ]
     },
     "execution_count": 37,
     "metadata": {},
     "output_type": "execute_result"
    }
   ],
   "source": [
    "data = {'x1' : [0,0,1,1], 'x2' : [0,1,0,1], 'y' : [0,0,0,1]}\n",
    "\n",
    "AND = pd.DataFrame(data)\n",
    "AND"
   ]
  },
  {
   "cell_type": "code",
   "execution_count": 50,
   "id": "f0d42c60-9691-46d6-9b9f-7f8740fb48ca",
   "metadata": {},
   "outputs": [],
   "source": [
    "X = AND.drop('y', axis = 1)\n",
    "y = AND['y']"
   ]
  },
  {
   "cell_type": "code",
   "execution_count": 39,
   "id": "c18a81ad-59bd-4ea9-a7ef-6c1f86b9163f",
   "metadata": {},
   "outputs": [
    {
     "name": "stdout",
     "output_type": "stream",
     "text": [
      "self.weights: [ 2.20778833e-05 -9.49298054e-05  2.44588603e-05]\n",
      "X_with_bias : \n",
      "[[ 0.  0. -1.]\n",
      " [ 0.  1. -1.]\n",
      " [ 1.  0. -1.]\n",
      " [ 1.  1. -1.]]\n",
      "For epoch : 0\n",
      "Predicted Value : \n",
      "[0 0 0 0]\n",
      "error : \n",
      "0    0\n",
      "1    0\n",
      "2    0\n",
      "3    1\n",
      "Name: y, dtype: int64\n",
      "updated weights : \n",
      "[ 0.50002208  0.49990507 -0.49997554]\n",
      "For epoch : 1\n",
      "Predicted Value : \n",
      "[1 1 1 1]\n",
      "error : \n",
      "0   -1\n",
      "1   -1\n",
      "2   -1\n",
      "3    0\n",
      "Name: y, dtype: int64\n",
      "updated weights : \n",
      "[ 2.20778833e-05 -9.49298054e-05  1.00002446e+00]\n",
      "For epoch : 2\n",
      "Predicted Value : \n",
      "[0 0 0 0]\n",
      "error : \n",
      "0    0\n",
      "1    0\n",
      "2    0\n",
      "3    1\n",
      "Name: y, dtype: int64\n",
      "updated weights : \n",
      "[0.50002208 0.49990507 0.50002446]\n",
      "For epoch : 3\n",
      "Predicted Value : \n",
      "[0 0 0 1]\n",
      "error : \n",
      "0    0\n",
      "1    0\n",
      "2    0\n",
      "3    0\n",
      "Name: y, dtype: int64\n",
      "updated weights : \n",
      "[0.50002208 0.49990507 0.50002446]\n",
      "For epoch : 4\n",
      "Predicted Value : \n",
      "[0 0 0 1]\n",
      "error : \n",
      "0    0\n",
      "1    0\n",
      "2    0\n",
      "3    0\n",
      "Name: y, dtype: int64\n",
      "updated weights : \n",
      "[0.50002208 0.49990507 0.50002446]\n",
      "For epoch : 5\n",
      "Predicted Value : \n",
      "[0 0 0 1]\n",
      "error : \n",
      "0    0\n",
      "1    0\n",
      "2    0\n",
      "3    0\n",
      "Name: y, dtype: int64\n",
      "updated weights : \n",
      "[0.50002208 0.49990507 0.50002446]\n",
      "For epoch : 6\n",
      "Predicted Value : \n",
      "[0 0 0 1]\n",
      "error : \n",
      "0    0\n",
      "1    0\n",
      "2    0\n",
      "3    0\n",
      "Name: y, dtype: int64\n",
      "updated weights : \n",
      "[0.50002208 0.49990507 0.50002446]\n",
      "For epoch : 7\n",
      "Predicted Value : \n",
      "[0 0 0 1]\n",
      "error : \n",
      "0    0\n",
      "1    0\n",
      "2    0\n",
      "3    0\n",
      "Name: y, dtype: int64\n",
      "updated weights : \n",
      "[0.50002208 0.49990507 0.50002446]\n",
      "For epoch : 8\n",
      "Predicted Value : \n",
      "[0 0 0 1]\n",
      "error : \n",
      "0    0\n",
      "1    0\n",
      "2    0\n",
      "3    0\n",
      "Name: y, dtype: int64\n",
      "updated weights : \n",
      "[0.50002208 0.49990507 0.50002446]\n",
      "For epoch : 9\n",
      "Predicted Value : \n",
      "[0 0 0 1]\n",
      "error : \n",
      "0    0\n",
      "1    0\n",
      "2    0\n",
      "3    0\n",
      "Name: y, dtype: int64\n",
      "updated weights : \n",
      "[0.50002208 0.49990507 0.50002446]\n"
     ]
    }
   ],
   "source": [
    "model = Perceptron(eta = 0.5, epochs = 10)\n",
    "model.fit(X, y)"
   ]
  },
  {
   "cell_type": "code",
   "execution_count": 40,
   "id": "d78d96f1-e3b4-4915-9155-41a6b15c9721",
   "metadata": {},
   "outputs": [
    {
     "data": {
      "text/plain": [
       "array([0, 0, 0, 1])"
      ]
     },
     "execution_count": 40,
     "metadata": {},
     "output_type": "execute_result"
    }
   ],
   "source": [
    "model.predict(X)"
   ]
  },
  {
   "cell_type": "code",
   "execution_count": 41,
   "id": "2da8aede-ec9d-44d3-a3ee-a1955b3feff5",
   "metadata": {},
   "outputs": [
    {
     "data": {
      "text/plain": [
       "array([0.50002208, 0.49990507, 0.50002446])"
      ]
     },
     "execution_count": 41,
     "metadata": {},
     "output_type": "execute_result"
    }
   ],
   "source": [
    "model.weights"
   ]
  },
  {
   "cell_type": "markdown",
   "id": "39f82bf7-52c0-4f3a-898b-ad44f1955d2e",
   "metadata": {},
   "source": [
    "## OR"
   ]
  },
  {
   "cell_type": "code",
   "execution_count": 42,
   "id": "bedddc06-25c0-44e9-9cac-5c2aff8e4d6b",
   "metadata": {},
   "outputs": [
    {
     "data": {
      "text/html": [
       "<div>\n",
       "<style scoped>\n",
       "    .dataframe tbody tr th:only-of-type {\n",
       "        vertical-align: middle;\n",
       "    }\n",
       "\n",
       "    .dataframe tbody tr th {\n",
       "        vertical-align: top;\n",
       "    }\n",
       "\n",
       "    .dataframe thead th {\n",
       "        text-align: right;\n",
       "    }\n",
       "</style>\n",
       "<table border=\"1\" class=\"dataframe\">\n",
       "  <thead>\n",
       "    <tr style=\"text-align: right;\">\n",
       "      <th></th>\n",
       "      <th>x1</th>\n",
       "      <th>x2</th>\n",
       "      <th>y</th>\n",
       "    </tr>\n",
       "  </thead>\n",
       "  <tbody>\n",
       "    <tr>\n",
       "      <th>0</th>\n",
       "      <td>0</td>\n",
       "      <td>0</td>\n",
       "      <td>0</td>\n",
       "    </tr>\n",
       "    <tr>\n",
       "      <th>1</th>\n",
       "      <td>0</td>\n",
       "      <td>1</td>\n",
       "      <td>1</td>\n",
       "    </tr>\n",
       "    <tr>\n",
       "      <th>2</th>\n",
       "      <td>1</td>\n",
       "      <td>0</td>\n",
       "      <td>1</td>\n",
       "    </tr>\n",
       "    <tr>\n",
       "      <th>3</th>\n",
       "      <td>1</td>\n",
       "      <td>1</td>\n",
       "      <td>1</td>\n",
       "    </tr>\n",
       "  </tbody>\n",
       "</table>\n",
       "</div>"
      ],
      "text/plain": [
       "   x1  x2  y\n",
       "0   0   0  0\n",
       "1   0   1  1\n",
       "2   1   0  1\n",
       "3   1   1  1"
      ]
     },
     "execution_count": 42,
     "metadata": {},
     "output_type": "execute_result"
    }
   ],
   "source": [
    "data = {'x1' : [0,0,1,1], 'x2' : [0,1,0,1], 'y' : [0,1,1,1]}\n",
    "\n",
    "OR = pd.DataFrame(data)\n",
    "OR"
   ]
  },
  {
   "cell_type": "code",
   "execution_count": 49,
   "id": "048e80c7-50eb-4353-a74e-30a59318adb4",
   "metadata": {},
   "outputs": [],
   "source": [
    "X = OR.drop('y', axis = 1)\n",
    "y = OR['y']"
   ]
  },
  {
   "cell_type": "code",
   "execution_count": 44,
   "id": "4354ad49-5310-4d73-bac9-a7b0c615c415",
   "metadata": {},
   "outputs": [
    {
     "name": "stdout",
     "output_type": "stream",
     "text": [
      "self.weights: [-2.33911621e-05  4.69017818e-05 -1.97632515e-05]\n",
      "X_with_bias : \n",
      "[[ 0.  0. -1.]\n",
      " [ 0.  1. -1.]\n",
      " [ 1.  0. -1.]\n",
      " [ 1.  1. -1.]]\n",
      "For epoch : 0\n",
      "Predicted Value : \n",
      "[1 1 0 1]\n",
      "error : \n",
      "0   -1\n",
      "1    0\n",
      "2    1\n",
      "3    0\n",
      "Name: y, dtype: int64\n",
      "updated weights : \n",
      "[ 4.99976609e-01  4.69017818e-05 -1.97632515e-05]\n",
      "For epoch : 1\n",
      "Predicted Value : \n",
      "[1 1 1 1]\n",
      "error : \n",
      "0   -1\n",
      "1    0\n",
      "2    0\n",
      "3    0\n",
      "Name: y, dtype: int64\n",
      "updated weights : \n",
      "[4.99976609e-01 4.69017818e-05 4.99980237e-01]\n",
      "For epoch : 2\n",
      "Predicted Value : \n",
      "[0 0 0 1]\n",
      "error : \n",
      "0    0\n",
      "1    1\n",
      "2    1\n",
      "3    0\n",
      "Name: y, dtype: int64\n",
      "updated weights : \n",
      "[ 0.99997661  0.5000469  -0.50001976]\n",
      "For epoch : 3\n",
      "Predicted Value : \n",
      "[1 1 1 1]\n",
      "error : \n",
      "0   -1\n",
      "1    0\n",
      "2    0\n",
      "3    0\n",
      "Name: y, dtype: int64\n",
      "updated weights : \n",
      "[ 9.99976609e-01  5.00046902e-01 -1.97632515e-05]\n",
      "For epoch : 4\n",
      "Predicted Value : \n",
      "[1 1 1 1]\n",
      "error : \n",
      "0   -1\n",
      "1    0\n",
      "2    0\n",
      "3    0\n",
      "Name: y, dtype: int64\n",
      "updated weights : \n",
      "[0.99997661 0.5000469  0.49998024]\n",
      "For epoch : 5\n",
      "Predicted Value : \n",
      "[0 1 1 1]\n",
      "error : \n",
      "0    0\n",
      "1    0\n",
      "2    0\n",
      "3    0\n",
      "Name: y, dtype: int64\n",
      "updated weights : \n",
      "[0.99997661 0.5000469  0.49998024]\n",
      "For epoch : 6\n",
      "Predicted Value : \n",
      "[0 1 1 1]\n",
      "error : \n",
      "0    0\n",
      "1    0\n",
      "2    0\n",
      "3    0\n",
      "Name: y, dtype: int64\n",
      "updated weights : \n",
      "[0.99997661 0.5000469  0.49998024]\n",
      "For epoch : 7\n",
      "Predicted Value : \n",
      "[0 1 1 1]\n",
      "error : \n",
      "0    0\n",
      "1    0\n",
      "2    0\n",
      "3    0\n",
      "Name: y, dtype: int64\n",
      "updated weights : \n",
      "[0.99997661 0.5000469  0.49998024]\n",
      "For epoch : 8\n",
      "Predicted Value : \n",
      "[0 1 1 1]\n",
      "error : \n",
      "0    0\n",
      "1    0\n",
      "2    0\n",
      "3    0\n",
      "Name: y, dtype: int64\n",
      "updated weights : \n",
      "[0.99997661 0.5000469  0.49998024]\n",
      "For epoch : 9\n",
      "Predicted Value : \n",
      "[0 1 1 1]\n",
      "error : \n",
      "0    0\n",
      "1    0\n",
      "2    0\n",
      "3    0\n",
      "Name: y, dtype: int64\n",
      "updated weights : \n",
      "[0.99997661 0.5000469  0.49998024]\n"
     ]
    }
   ],
   "source": [
    "model = Perceptron(eta = 0.5, epochs = 10)\n",
    "model.fit(X, y)"
   ]
  },
  {
   "cell_type": "code",
   "execution_count": 46,
   "id": "939639c8-7ca7-4e40-a460-039ceff749b1",
   "metadata": {},
   "outputs": [
    {
     "data": {
      "text/plain": [
       "array([0, 1, 1, 1])"
      ]
     },
     "execution_count": 46,
     "metadata": {},
     "output_type": "execute_result"
    }
   ],
   "source": [
    "model.predict(X)"
   ]
  },
  {
   "cell_type": "code",
   "execution_count": 47,
   "id": "3f4f1869-22ab-4772-98cf-3a0085657bfe",
   "metadata": {},
   "outputs": [
    {
     "data": {
      "text/plain": [
       "array([0.99997661, 0.5000469 , 0.49998024])"
      ]
     },
     "execution_count": 47,
     "metadata": {},
     "output_type": "execute_result"
    }
   ],
   "source": [
    "model.weights"
   ]
  },
  {
   "cell_type": "markdown",
   "id": "98daa9ae-38e3-4b83-bc67-5688279a1527",
   "metadata": {},
   "source": [
    "## XOR"
   ]
  },
  {
   "cell_type": "code",
   "execution_count": 48,
   "id": "2bc92cc8-230f-4274-a4ec-7e14da8434d6",
   "metadata": {},
   "outputs": [
    {
     "data": {
      "text/html": [
       "<div>\n",
       "<style scoped>\n",
       "    .dataframe tbody tr th:only-of-type {\n",
       "        vertical-align: middle;\n",
       "    }\n",
       "\n",
       "    .dataframe tbody tr th {\n",
       "        vertical-align: top;\n",
       "    }\n",
       "\n",
       "    .dataframe thead th {\n",
       "        text-align: right;\n",
       "    }\n",
       "</style>\n",
       "<table border=\"1\" class=\"dataframe\">\n",
       "  <thead>\n",
       "    <tr style=\"text-align: right;\">\n",
       "      <th></th>\n",
       "      <th>x1</th>\n",
       "      <th>x2</th>\n",
       "      <th>y</th>\n",
       "    </tr>\n",
       "  </thead>\n",
       "  <tbody>\n",
       "    <tr>\n",
       "      <th>0</th>\n",
       "      <td>0</td>\n",
       "      <td>0</td>\n",
       "      <td>0</td>\n",
       "    </tr>\n",
       "    <tr>\n",
       "      <th>1</th>\n",
       "      <td>0</td>\n",
       "      <td>1</td>\n",
       "      <td>1</td>\n",
       "    </tr>\n",
       "    <tr>\n",
       "      <th>2</th>\n",
       "      <td>1</td>\n",
       "      <td>0</td>\n",
       "      <td>1</td>\n",
       "    </tr>\n",
       "    <tr>\n",
       "      <th>3</th>\n",
       "      <td>1</td>\n",
       "      <td>1</td>\n",
       "      <td>0</td>\n",
       "    </tr>\n",
       "  </tbody>\n",
       "</table>\n",
       "</div>"
      ],
      "text/plain": [
       "   x1  x2  y\n",
       "0   0   0  0\n",
       "1   0   1  1\n",
       "2   1   0  1\n",
       "3   1   1  0"
      ]
     },
     "execution_count": 48,
     "metadata": {},
     "output_type": "execute_result"
    }
   ],
   "source": [
    "data = {'x1' : [0,0,1,1], 'x2' : [0,1,0,1], 'y' : [0,1,1,0]}\n",
    "\n",
    "XOR = pd.DataFrame(data)\n",
    "XOR"
   ]
  },
  {
   "cell_type": "code",
   "execution_count": 51,
   "id": "9c4bf634-3257-40d4-8de1-03fa6b348fa0",
   "metadata": {},
   "outputs": [],
   "source": [
    "X = XOR.drop('y', axis = 1)\n",
    "y = XOR['y']"
   ]
  },
  {
   "cell_type": "code",
   "execution_count": 52,
   "id": "d4d8a952-ff69-462b-8241-9fbe3846bf71",
   "metadata": {},
   "outputs": [
    {
     "name": "stdout",
     "output_type": "stream",
     "text": [
      "self.weights: [-2.10833618e-04  3.42890887e-05  3.47594682e-05]\n",
      "X_with_bias : \n",
      "[[ 0.  0. -1.]\n",
      " [ 0.  1. -1.]\n",
      " [ 1.  0. -1.]\n",
      " [ 1.  1. -1.]]\n",
      "For epoch : 0\n",
      "Predicted Value : \n",
      "[0 0 0 0]\n",
      "error : \n",
      "0    0\n",
      "1    1\n",
      "2    1\n",
      "3    0\n",
      "Name: y, dtype: int64\n",
      "updated weights : \n",
      "[ 0.49978917  0.50003429 -0.99996524]\n",
      "For epoch : 1\n",
      "Predicted Value : \n",
      "[1 1 1 1]\n",
      "error : \n",
      "0   -1\n",
      "1    0\n",
      "2    0\n",
      "3   -1\n",
      "Name: y, dtype: int64\n",
      "updated weights : \n",
      "[-2.10833618e-04  3.42890887e-05  3.47594682e-05]\n",
      "For epoch : 2\n",
      "Predicted Value : \n",
      "[0 0 0 0]\n",
      "error : \n",
      "0    0\n",
      "1    1\n",
      "2    1\n",
      "3    0\n",
      "Name: y, dtype: int64\n",
      "updated weights : \n",
      "[ 0.49978917  0.50003429 -0.99996524]\n",
      "For epoch : 3\n",
      "Predicted Value : \n",
      "[1 1 1 1]\n",
      "error : \n",
      "0   -1\n",
      "1    0\n",
      "2    0\n",
      "3   -1\n",
      "Name: y, dtype: int64\n",
      "updated weights : \n",
      "[-2.10833618e-04  3.42890887e-05  3.47594682e-05]\n",
      "For epoch : 4\n",
      "Predicted Value : \n",
      "[0 0 0 0]\n",
      "error : \n",
      "0    0\n",
      "1    1\n",
      "2    1\n",
      "3    0\n",
      "Name: y, dtype: int64\n",
      "updated weights : \n",
      "[ 0.49978917  0.50003429 -0.99996524]\n",
      "For epoch : 5\n",
      "Predicted Value : \n",
      "[1 1 1 1]\n",
      "error : \n",
      "0   -1\n",
      "1    0\n",
      "2    0\n",
      "3   -1\n",
      "Name: y, dtype: int64\n",
      "updated weights : \n",
      "[-2.10833618e-04  3.42890887e-05  3.47594682e-05]\n",
      "For epoch : 6\n",
      "Predicted Value : \n",
      "[0 0 0 0]\n",
      "error : \n",
      "0    0\n",
      "1    1\n",
      "2    1\n",
      "3    0\n",
      "Name: y, dtype: int64\n",
      "updated weights : \n",
      "[ 0.49978917  0.50003429 -0.99996524]\n",
      "For epoch : 7\n",
      "Predicted Value : \n",
      "[1 1 1 1]\n",
      "error : \n",
      "0   -1\n",
      "1    0\n",
      "2    0\n",
      "3   -1\n",
      "Name: y, dtype: int64\n",
      "updated weights : \n",
      "[-2.10833618e-04  3.42890887e-05  3.47594682e-05]\n",
      "For epoch : 8\n",
      "Predicted Value : \n",
      "[0 0 0 0]\n",
      "error : \n",
      "0    0\n",
      "1    1\n",
      "2    1\n",
      "3    0\n",
      "Name: y, dtype: int64\n",
      "updated weights : \n",
      "[ 0.49978917  0.50003429 -0.99996524]\n",
      "For epoch : 9\n",
      "Predicted Value : \n",
      "[1 1 1 1]\n",
      "error : \n",
      "0   -1\n",
      "1    0\n",
      "2    0\n",
      "3   -1\n",
      "Name: y, dtype: int64\n",
      "updated weights : \n",
      "[-2.10833618e-04  3.42890887e-05  3.47594682e-05]\n"
     ]
    }
   ],
   "source": [
    "model = Perceptron(eta = 0.5, epochs = 10)\n",
    "model.fit(X, y)"
   ]
  },
  {
   "cell_type": "code",
   "execution_count": 53,
   "id": "f3f5f462-9df2-4648-81ba-b11982754d63",
   "metadata": {},
   "outputs": [
    {
     "data": {
      "text/plain": [
       "array([0, 0, 0, 0])"
      ]
     },
     "execution_count": 53,
     "metadata": {},
     "output_type": "execute_result"
    }
   ],
   "source": [
    "model.predict(X)"
   ]
  },
  {
   "cell_type": "code",
   "execution_count": 54,
   "id": "987841ce-b6e0-4316-8934-8c8749d9a9a0",
   "metadata": {},
   "outputs": [
    {
     "data": {
      "text/plain": [
       "array([-2.10833618e-04,  3.42890887e-05,  3.47594682e-05])"
      ]
     },
     "execution_count": 54,
     "metadata": {},
     "output_type": "execute_result"
    }
   ],
   "source": [
    "model.weights"
   ]
  }
 ],
 "metadata": {
  "kernelspec": {
   "display_name": "Python 3 (ipykernel)",
   "language": "python",
   "name": "python3"
  },
  "language_info": {
   "codemirror_mode": {
    "name": "ipython",
    "version": 3
   },
   "file_extension": ".py",
   "mimetype": "text/x-python",
   "name": "python",
   "nbconvert_exporter": "python",
   "pygments_lexer": "ipython3",
   "version": "3.11.7"
  }
 },
 "nbformat": 4,
 "nbformat_minor": 5
}
