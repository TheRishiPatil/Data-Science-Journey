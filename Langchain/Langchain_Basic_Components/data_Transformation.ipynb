{
 "cells": [
  {
   "cell_type": "markdown",
   "metadata": {},
   "source": [
    "# Text Splitting from document"
   ]
  },
  {
   "cell_type": "markdown",
   "metadata": {},
   "source": [
    "## RecursiveCharacterTextSplitter"
   ]
  },
  {
   "cell_type": "code",
   "execution_count": 19,
   "metadata": {},
   "outputs": [
    {
     "data": {
      "text/plain": [
       "[Document(metadata={'source': 'data/Rishikesh Patil Resume.pdf', 'page': 0}, page_content='July 2024 - Aug 2024\\nAug 2023 - Sept 2023\\nAug 2021 - Dec 2021\\nAspiring Data Scientist with expertise in Python, SQL, Java, Machine Learning, Deep Neural Networks, and\\nNatural Language Processing (NLP). Strong problem-solving skills with over 200+ DSA problems solved.\\nSeeking opportunities to leverage my skills in data science and AI to contribute to impactful projects.\\nSUMMARY\\nCompare Me E-commerce Website\\nGrocery Store Android Application\\nJava Spring Boot, MySQL, HTML, CSS'),\n",
       " Document(metadata={'source': 'data/Rishikesh Patil Resume.pdf', 'page': 0}, page_content='Java Spring Boot, MySQL, HTML, CSS\\nJava, SqLite, Android Studio\\nBuilt a Website that provides collected product information; allowing users to compare product prices and\\nspecifications in one place. Project involves scraping data from popular websites like Flipkart, Amazon,\\nCroma, and Jiomart. Users can quickly compare product prices from these e-commerce website. Additionally,\\nthe user can compare a variety of products in this website.'),\n",
       " Document(metadata={'source': 'data/Rishikesh Patil Resume.pdf', 'page': 0}, page_content='Built a application using Android Studio and SqLite Database that depicts online shopping of Groceries.\\nUsing this application, Small and Big Shops can improve the efficiency of their services. \\nCode Mixed Text Translation\\nPython, NLP\\nDeveloped a translation system for code-mixed text, focusing on translating Marathi to English. The system\\nutilizes advanced NLP techniques to accurately detect and translate the hybrid nature of code-mixed'),\n",
       " Document(metadata={'source': 'data/Rishikesh Patil Resume.pdf', 'page': 0}, page_content='language. The project aims to create a robust translation tool that can be extended to other Indic languages,\\naddressing the need for effective communication in multilingual contexts. \\nPROJECTS\\nPG Diploma in Artificial Intelligence: 80%\\nBachelor of Engineering: 73%\\nCentre for Development of Advanced Computing (C-DAC), Pune | 2024\\nDY Patil’s Ramrao Adik Institute of Technology, Navi Mumbai | 2019 - 2023 \\nEDUCATION\\nDSA\\nGit/Github\\nFigma/Photoshop\\nSKILLS\\nMachine Learning\\nDeep Neural Network'),\n",
       " Document(metadata={'source': 'data/Rishikesh Patil Resume.pdf', 'page': 0}, page_content='SKILLS\\nMachine Learning\\nDeep Neural Network\\nNatural Language Processing\\nPython\\nSQL\\nJava\\nCode\\nCode |     Video\\nCode\\nContact: +91 9137108042\\nRishikesh Patil\\nEmail: rishikeshpatil400@gmail.com\\nPortfolio: therishipatil.github.io/Portfolio\\nGitHub: TheRishiPatil\\nLinkedIn: patilrishikesh'),\n",
       " Document(metadata={'source': 'data/Rishikesh Patil Resume.pdf', 'page': 1}, page_content='LANGUAGES KNOWN \\nMarathi, Hindi, English\\nPlaying both indoor and outdoor games, Trekking, Swimming, and playing Football\\nHOBBIES \\nCertificate of completing 100+ DSA questions\\nNational Conference Participation\\nAlgoExpert.io | Sept 2023\\nCARE College of Engineering, Tamil Nadu | May 2022 \\nCERTIFICATIONS')]"
      ]
     },
     "execution_count": 19,
     "metadata": {},
     "output_type": "execute_result"
    }
   ],
   "source": [
    "from langchain_community.document_loaders import PyPDFLoader\n",
    "from langchain_text_splitters import RecursiveCharacterTextSplitter\n",
    "\n",
    "docs = PyPDFLoader('data/Rishikesh Patil Resume.pdf').load()\n",
    "text_splitter = RecursiveCharacterTextSplitter(chunk_size = 500, chunk_overlap = 50)\n",
    "text_document = text_splitter.split_documents(docs)\n",
    "text_document"
   ]
  },
  {
   "cell_type": "code",
   "execution_count": 20,
   "metadata": {},
   "outputs": [
    {
     "data": {
      "text/plain": [
       "[Document(metadata={}, page_content='First of all, Thank you for giving me this opportunity.'),\n",
       " Document(metadata={}, page_content=\"I'm Rishikesh Krishna Patil, from New Mumbai.\"),\n",
       " Document(metadata={}, page_content='I recently completed my Post Graduation Diploma in Artificial Intelligence from CDAC pune. and I'),\n",
       " Document(metadata={}, page_content='CDAC pune. and I have completed my graduation from Dy Patil RAIT, Navi Mumbai in year 2023.'),\n",
       " Document(metadata={}, page_content='Through out this CDAC course, I learned new technologies such as Machine Learning, Deep Neural'),\n",
       " Document(metadata={}, page_content='Deep Neural Network, and Natural Language Processing.'),\n",
       " Document(metadata={}, page_content='Also I have good understanding of software development, with expertise in programming languages'),\n",
       " Document(metadata={}, page_content='languages such as Python, SQL and Java. Also I have build knowledge in Data Structures and'),\n",
       " Document(metadata={}, page_content='Data Structures and Algorithms and have solved DSA problems on websites like LeetCode, HackerRank,'),\n",
       " Document(metadata={}, page_content='HackerRank, GeeksforGeeks and AlgoExpert.'),\n",
       " Document(metadata={}, page_content='Based on all this knowledge, I recently created a project named code mixed text translation using'),\n",
       " Document(metadata={}, page_content='translation using python and NLP libraries like PyTorch, NumPy and regular expression.'),\n",
       " Document(metadata={}, page_content='Also I have published a paper for one of my projects, which involved creating an application using'),\n",
       " Document(metadata={}, page_content='application using Java and SQL. This project was accepted for presentation at a national'),\n",
       " Document(metadata={}, page_content='at a national conference.'),\n",
       " Document(metadata={}, page_content='Additionally, I have gained knowledge in UI design and have hands-on practice in designing'),\n",
       " Document(metadata={}, page_content='in designing interfaces using software like Figma and Photoshop.'),\n",
       " Document(metadata={}, page_content='I have also build my own portfolio, and have deployed it using GitHub pages.'),\n",
       " Document(metadata={}, page_content=\"So that's a brief about me.\\nThank you.\")]"
      ]
     },
     "execution_count": 20,
     "metadata": {},
     "output_type": "execute_result"
    }
   ],
   "source": [
    "intro = \"\"\n",
    "with open('data/intro.txt') as docs:\n",
    "    intro = docs.read()\n",
    "\n",
    "text_splitter = RecursiveCharacterTextSplitter(chunk_size = 100, chunk_overlap = 20)\n",
    "text_document = text_splitter.create_documents([intro])\n",
    "text_document"
   ]
  },
  {
   "cell_type": "markdown",
   "metadata": {},
   "source": [
    "## CharacterTextSplitter"
   ]
  },
  {
   "cell_type": "code",
   "execution_count": 28,
   "metadata": {},
   "outputs": [
    {
     "name": "stderr",
     "output_type": "stream",
     "text": [
      "Created a chunk of size 171, which is longer than the specified 100\n",
      "Created a chunk of size 136, which is longer than the specified 100\n",
      "Created a chunk of size 285, which is longer than the specified 100\n",
      "Created a chunk of size 166, which is longer than the specified 100\n",
      "Created a chunk of size 181, which is longer than the specified 100\n",
      "Created a chunk of size 142, which is longer than the specified 100\n"
     ]
    },
    {
     "data": {
      "text/plain": [
       "[Document(metadata={'source': 'data/intro.txt'}, page_content='First of all, Thank you for giving me this opportunity.'),\n",
       " Document(metadata={'source': 'data/intro.txt'}, page_content=\"I'm Rishikesh Krishna Patil, from New Mumbai.\"),\n",
       " Document(metadata={'source': 'data/intro.txt'}, page_content='I recently completed my Post Graduation Diploma in Artificial Intelligence from CDAC pune. and I have completed my graduation from Dy Patil RAIT, Navi Mumbai in year 2023.'),\n",
       " Document(metadata={'source': 'data/intro.txt'}, page_content='Through out this CDAC course, I learned new technologies such as Machine Learning, Deep Neural Network, and Natural Language Processing.'),\n",
       " Document(metadata={'source': 'data/intro.txt'}, page_content='Also I have good understanding of software development, with expertise in programming languages such as Python, SQL and Java. Also I have build knowledge in Data Structures and Algorithms and have solved DSA problems on websites like LeetCode, HackerRank, GeeksforGeeks and AlgoExpert.'),\n",
       " Document(metadata={'source': 'data/intro.txt'}, page_content='Based on all this knowledge, I recently created a project named code mixed text translation using python and NLP libraries like PyTorch, NumPy and regular expression.'),\n",
       " Document(metadata={'source': 'data/intro.txt'}, page_content='Also I have published a paper for one of my projects, which involved creating an application using Java and SQL. This project was accepted for presentation at a national conference.'),\n",
       " Document(metadata={'source': 'data/intro.txt'}, page_content='Additionally, I have gained knowledge in UI design and have hands-on practice in designing interfaces using software like Figma and Photoshop.'),\n",
       " Document(metadata={'source': 'data/intro.txt'}, page_content='I have also build my own portfolio, and have deployed it using GitHub pages.'),\n",
       " Document(metadata={'source': 'data/intro.txt'}, page_content=\"So that's a brief about me.\\nThank you.\")]"
      ]
     },
     "execution_count": 28,
     "metadata": {},
     "output_type": "execute_result"
    }
   ],
   "source": [
    "from langchain_text_splitters import CharacterTextSplitter\n",
    "from langchain_community.document_loaders import TextLoader\n",
    "\n",
    "text_document = TextLoader('data/intro.txt').load()\n",
    "text_splitter = CharacterTextSplitter(separator = \"\\n\", chunk_size = 100, chunk_overlap = 20)\n",
    "text_document = text_splitter.split_documents(text_document)\n",
    "text_document"
   ]
  },
  {
   "cell_type": "code",
   "execution_count": 29,
   "metadata": {},
   "outputs": [
    {
     "data": {
      "text/plain": [
       "[Document(metadata={}, page_content=\"First of all, Thank you for giving me this opportunity.\\nI'm Rishikesh Krishna Patil, from New Mumbai.\\nI recently completed my Post Graduation Diploma in Artificial Intelligence from CDAC pune. and I have completed my graduation from Dy Patil RAIT, Navi Mumbai in year 2023.\\nThrough out this CDAC course, I learned new technologies such as Machine Learning, Deep Neural Network, and Natural Language Processing.\\nAlso I have good understanding of software development, with expertise in programming languages such as Python, SQL and Java. Also I have build knowledge in Data Structures and Algorithms and have solved DSA problems on websites like LeetCode, HackerRank, GeeksforGeeks and AlgoExpert.\\nBased on all this knowledge, I recently created a project named code mixed text translation using python and NLP libraries like PyTorch, NumPy and regular expression.\\nAlso I have published a paper for one of my projects, which involved creating an application using Java and SQL. This project was accepted for presentation at a national conference.\\nAdditionally, I have gained knowledge in UI design and have hands-on practice in designing interfaces using software like Figma and Photoshop.\\nI have also build my own portfolio, and have deployed it using GitHub pages.\\nSo that's a brief about me.\\nThank you.\")]"
      ]
     },
     "execution_count": 29,
     "metadata": {},
     "output_type": "execute_result"
    }
   ],
   "source": [
    "intro = \"\"\n",
    "with open('data/intro.txt') as docs:\n",
    "    intro = docs.read()\n",
    "\n",
    "text_splitter = CharacterTextSplitter(chunk_size = 100, chunk_overlap = 20)\n",
    "text_document = text_splitter.create_documents([intro])\n",
    "text_document"
   ]
  },
  {
   "cell_type": "markdown",
   "metadata": {},
   "source": [
    "## HTMLTextSplitter"
   ]
  },
  {
   "cell_type": "code",
   "execution_count": 33,
   "metadata": {},
   "outputs": [
    {
     "data": {
      "text/plain": [
       "[Document(metadata={'Header 1': 'Welcome to My Website'}, page_content='About Services Contact'),\n",
       " Document(metadata={'Header 1': 'Welcome to My Website', 'Header 2': 'About'}, page_content='This is a simple HTML page created as an example.'),\n",
       " Document(metadata={'Header 1': 'Welcome to My Website', 'Header 2': 'Services'}, page_content='We provide web development and design services.'),\n",
       " Document(metadata={'Header 1': 'Welcome to My Website', 'Header 2': 'Contact'}, page_content='Email: example@example.com'),\n",
       " Document(metadata={'Header 1': 'Welcome to My Website'}, page_content='© 2024 My Website')]"
      ]
     },
     "execution_count": 33,
     "metadata": {},
     "output_type": "execute_result"
    }
   ],
   "source": [
    "from langchain_text_splitters import HTMLHeaderTextSplitter\n",
    "\n",
    "html_string = open('data/simpleWeb.html', 'r').read()\n",
    "headers_to_split_on = [\n",
    "    (\"h1\", \"Header 1\"),\n",
    "    (\"h2\", \"Header 2\"),\n",
    "    (\"h3\", \"Header 3\")\n",
    "]\n",
    "\n",
    "html_splitter = HTMLHeaderTextSplitter(headers_to_split_on)\n",
    "html_header_splits = html_splitter.split_text(html_string)\n",
    "html_header_splits"
   ]
  },
  {
   "cell_type": "markdown",
   "metadata": {},
   "source": [
    "## JSONSplitter"
   ]
  },
  {
   "cell_type": "code",
   "execution_count": 40,
   "metadata": {},
   "outputs": [],
   "source": [
    "import json\n",
    "\n",
    "with open(\"data/jsonData.json\", \"r\") as file:\n",
    "    json_data = json.load(file)"
   ]
  },
  {
   "cell_type": "code",
   "execution_count": 43,
   "metadata": {},
   "outputs": [
    {
     "data": {
      "text/plain": [
       "[{'name': 'John Doe',\n",
       "  'age': 30,\n",
       "  'isStudent': False,\n",
       "  'skills': ['HTML', 'CSS', 'JavaScript'],\n",
       "  'address': {'street': '123 Main St', 'city': 'New York', 'zipCode': '10001'},\n",
       "  'projects': [{'name': 'Portfolio Website', 'completed': True},\n",
       "   {'name': 'Mobile App', 'completed': False}]}]"
      ]
     },
     "execution_count": 43,
     "metadata": {},
     "output_type": "execute_result"
    }
   ],
   "source": [
    "from langchain_text_splitters import RecursiveJsonSplitter\n",
    "\n",
    "json_splitter = RecursiveJsonSplitter(max_chunk_size = 300)\n",
    "json_chunks = json_splitter.split_json(json_data)\n",
    "json_chunks"
   ]
  },
  {
   "cell_type": "code",
   "execution_count": 48,
   "metadata": {},
   "outputs": [
    {
     "data": {
      "text/plain": [
       "['{\"name\": \"John Doe\", \"age\": 30, \"isStudent\": false, \"skills\": [\"HTML\", \"CSS\", \"JavaScript\"], \"address\": {\"street\": \"123 Main St\", \"city\": \"New York\", \"zipCode\": \"10001\"}, \"projects\": [{\"name\": \"Portfolio Website\", \"completed\": true}, {\"name\": \"Mobile App\", \"completed\": false}]}']"
      ]
     },
     "execution_count": 48,
     "metadata": {},
     "output_type": "execute_result"
    }
   ],
   "source": [
    "# output in document\n",
    "docs = json_splitter.create_documents(texts = [json_data])\n",
    "\n",
    "# output in text\n",
    "docs = json_splitter.split_text(json_data)\n",
    "docs"
   ]
  },
  {
   "cell_type": "code",
   "execution_count": null,
   "metadata": {},
   "outputs": [],
   "source": []
  }
 ],
 "metadata": {
  "kernelspec": {
   "display_name": "Python 3",
   "language": "python",
   "name": "python3"
  },
  "language_info": {
   "codemirror_mode": {
    "name": "ipython",
    "version": 3
   },
   "file_extension": ".py",
   "mimetype": "text/x-python",
   "name": "python",
   "nbconvert_exporter": "python",
   "pygments_lexer": "ipython3",
   "version": "3.10.15"
  }
 },
 "nbformat": 4,
 "nbformat_minor": 2
}
