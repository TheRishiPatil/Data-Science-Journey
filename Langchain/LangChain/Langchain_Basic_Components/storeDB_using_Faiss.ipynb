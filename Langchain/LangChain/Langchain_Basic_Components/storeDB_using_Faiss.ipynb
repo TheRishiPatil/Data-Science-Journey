{
 "cells": [
  {
   "cell_type": "markdown",
   "metadata": {},
   "source": [
    "## Faiss --> Facebook AI Similarity Search"
   ]
  },
  {
   "cell_type": "code",
   "execution_count": 10,
   "metadata": {},
   "outputs": [],
   "source": [
    "from langchain_community.document_loaders import TextLoader\n",
    "\n",
    "text = TextLoader(\"data/intro.txt\").load()"
   ]
  },
  {
   "cell_type": "code",
   "execution_count": 23,
   "metadata": {},
   "outputs": [],
   "source": [
    "from langchain_text_splitters import RecursiveCharacterTextSplitter\n",
    "\n",
    "docs = RecursiveCharacterTextSplitter(chunk_size = 200, chunk_overlap = 30).split_documents(text)"
   ]
  },
  {
   "cell_type": "code",
   "execution_count": 24,
   "metadata": {},
   "outputs": [],
   "source": [
    "from langchain_community.embeddings import OllamaEmbeddings\n",
    "\n",
    "embeddings = OllamaEmbeddings(model = \"gemma2:2b\")"
   ]
  },
  {
   "cell_type": "code",
   "execution_count": null,
   "metadata": {},
   "outputs": [
    {
     "data": {
      "text/plain": [
       "<langchain_community.vectorstores.faiss.FAISS at 0x21d73094370>"
      ]
     },
     "execution_count": 20,
     "metadata": {},
     "output_type": "execute_result"
    }
   ],
   "source": [
    "from langchain_community.vectorstores import FAISS\n",
    "\n",
    "db = FAISS.from_documents(docs, embeddings)\n",
    "db"
   ]
  },
  {
   "cell_type": "code",
   "execution_count": 25,
   "metadata": {},
   "outputs": [
    {
     "data": {
      "text/plain": [
       "'I recently completed my Post Graduation Diploma in Artificial Intelligence from CDAC pune. and I have completed my graduation from Dy Patil RAIT, Navi Mumbai in year 2023.'"
      ]
     },
     "execution_count": 25,
     "metadata": {},
     "output_type": "execute_result"
    }
   ],
   "source": [
    "query = \"I recently completed my Post Graduation Diploma in Artificial Intelligence from?\"\n",
    "docs = db.similarity_search(query)\n",
    "docs[3].page_content"
   ]
  },
  {
   "cell_type": "markdown",
   "metadata": {},
   "source": [
    "## Retriever"
   ]
  },
  {
   "cell_type": "code",
   "execution_count": 26,
   "metadata": {},
   "outputs": [
    {
     "data": {
      "text/plain": [
       "[Document(metadata={'source': 'data/intro.txt'}, page_content='and Algorithms and have solved DSA problems on websites like LeetCode, HackerRank, GeeksforGeeks and AlgoExpert.'),\n",
       " Document(metadata={'source': 'data/intro.txt'}, page_content='Based on all this knowledge, I recently created a project named code mixed text translation using python and NLP libraries like PyTorch, NumPy and regular expression.'),\n",
       " Document(metadata={'source': 'data/intro.txt'}, page_content=\"First of all, Thank you for giving me this opportunity.\\nI'm Rishikesh Krishna Patil, from New Mumbai.\"),\n",
       " Document(metadata={'source': 'data/intro.txt'}, page_content='I recently completed my Post Graduation Diploma in Artificial Intelligence from CDAC pune. and I have completed my graduation from Dy Patil RAIT, Navi Mumbai in year 2023.')]"
      ]
     },
     "execution_count": 26,
     "metadata": {},
     "output_type": "execute_result"
    }
   ],
   "source": [
    "retriever = db.as_retriever()\n",
    "retriever.invoke(query)"
   ]
  },
  {
   "cell_type": "markdown",
   "metadata": {},
   "source": [
    "## Similarity Search With Score"
   ]
  },
  {
   "cell_type": "code",
   "execution_count": 27,
   "metadata": {},
   "outputs": [
    {
     "data": {
      "text/plain": [
       "[(Document(metadata={'source': 'data/intro.txt'}, page_content='and Algorithms and have solved DSA problems on websites like LeetCode, HackerRank, GeeksforGeeks and AlgoExpert.'),\n",
       "  8498.629),\n",
       " (Document(metadata={'source': 'data/intro.txt'}, page_content='Based on all this knowledge, I recently created a project named code mixed text translation using python and NLP libraries like PyTorch, NumPy and regular expression.'),\n",
       "  9705.582),\n",
       " (Document(metadata={'source': 'data/intro.txt'}, page_content=\"First of all, Thank you for giving me this opportunity.\\nI'm Rishikesh Krishna Patil, from New Mumbai.\"),\n",
       "  11257.398),\n",
       " (Document(metadata={'source': 'data/intro.txt'}, page_content='I recently completed my Post Graduation Diploma in Artificial Intelligence from CDAC pune. and I have completed my graduation from Dy Patil RAIT, Navi Mumbai in year 2023.'),\n",
       "  11566.864)]"
      ]
     },
     "execution_count": 27,
     "metadata": {},
     "output_type": "execute_result"
    }
   ],
   "source": [
    "docs_and_score = db.similarity_search_with_score(query)\n",
    "docs_and_score"
   ]
  },
  {
   "cell_type": "markdown",
   "metadata": {},
   "source": [
    "## Saving and Loading\n",
    "Saving in the form of pickle"
   ]
  },
  {
   "cell_type": "code",
   "execution_count": 28,
   "metadata": {},
   "outputs": [],
   "source": [
    "db.save_local(\"faiss_index\")"
   ]
  },
  {
   "cell_type": "code",
   "execution_count": null,
   "metadata": {},
   "outputs": [],
   "source": [
    "new_db = FAISS.load_local(\"faiss_index\", embeddings) \n",
    "# we get error because we are loading a pickle file, which can be modified to deliver a malicious payload"
   ]
  },
  {
   "cell_type": "code",
   "execution_count": 33,
   "metadata": {},
   "outputs": [
    {
     "data": {
      "text/plain": [
       "[Document(metadata={'source': 'data/intro.txt'}, page_content='and Algorithms and have solved DSA problems on websites like LeetCode, HackerRank, GeeksforGeeks and AlgoExpert.'),\n",
       " Document(metadata={'source': 'data/intro.txt'}, page_content='Based on all this knowledge, I recently created a project named code mixed text translation using python and NLP libraries like PyTorch, NumPy and regular expression.'),\n",
       " Document(metadata={'source': 'data/intro.txt'}, page_content=\"First of all, Thank you for giving me this opportunity.\\nI'm Rishikesh Krishna Patil, from New Mumbai.\"),\n",
       " Document(metadata={'source': 'data/intro.txt'}, page_content='I recently completed my Post Graduation Diploma in Artificial Intelligence from CDAC pune. and I have completed my graduation from Dy Patil RAIT, Navi Mumbai in year 2023.')]"
      ]
     },
     "execution_count": 33,
     "metadata": {},
     "output_type": "execute_result"
    }
   ],
   "source": [
    "new_db = FAISS.load_local(\"faiss_index\", embeddings, allow_dangerous_deserialization=True) \n",
    "docs = db.similarity_search(query)\n",
    "docs"
   ]
  }
 ],
 "metadata": {
  "kernelspec": {
   "display_name": "Python 3",
   "language": "python",
   "name": "python3"
  },
  "language_info": {
   "codemirror_mode": {
    "name": "ipython",
    "version": 3
   },
   "file_extension": ".py",
   "mimetype": "text/x-python",
   "name": "python",
   "nbconvert_exporter": "python",
   "pygments_lexer": "ipython3",
   "version": "3.10.15"
  }
 },
 "nbformat": 4,
 "nbformat_minor": 2
}
