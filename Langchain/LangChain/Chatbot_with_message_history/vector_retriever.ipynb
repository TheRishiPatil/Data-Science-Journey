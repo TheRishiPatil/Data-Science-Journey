{
 "cells": [
  {
   "cell_type": "markdown",
   "metadata": {},
   "source": [
    "## Documents\n",
    "It has 2 attributes:\n",
    "- page content\n",
    "- metadata"
   ]
  },
  {
   "cell_type": "code",
   "execution_count": 2,
   "metadata": {},
   "outputs": [],
   "source": [
    "from langchain_core.documents import Document\n",
    "\n",
    "docs = [\n",
    "    Document(\n",
    "        page_content = \"Kodomomuke: all the manga & anime falling into this category are made for kids.\",\n",
    "        metadata = {\"source\" : \"anime-types-genres\"}\n",
    "    ),\n",
    "    Document(\n",
    "        page_content = \"Shonen: The Shonen anime or manga has a central male protagonist, and it includes a mix of a wide variety of genres such as adventure, action, drama, sci-fi, and more.\",\n",
    "        metadata = {\"source\" : \"anime-types-genres\"}\n",
    "    ),\n",
    "    Document(\n",
    "        page_content = \"Shojo: The Shoujo anime or manga explores the feminine side which basically includes genres such as romance and drama.\",\n",
    "        metadata = {\"source\" : \"anime-types-genres\"}\n",
    "    ),\n",
    "    Document(\n",
    "        page_content = \"Seinen: Seinen includes all the elements of a typical Shonen anime but elevates it to the next step by having no theme or story restrictions.\",\n",
    "        metadata = {\"source\" : \"anime-types-genres\"}\n",
    "    ),\n",
    "    Document(\n",
    "        page_content = \"Josei: Josei is the improved version of Shoujo and shows the realistic lives of women, including their relationships, challenges, and more.\",\n",
    "        metadata = {\"source\" : \"anime-types-genres\"}\n",
    "    )\n",
    "]"
   ]
  },
  {
   "cell_type": "code",
   "execution_count": 5,
   "metadata": {},
   "outputs": [],
   "source": [
    "import os\n",
    "from dotenv import load_dotenv\n",
    "from langchain_groq import ChatGroq\n",
    "\n",
    "load_dotenv()\n",
    "groq_api_key = os.getenv(\"GROQ_API_KEY\")\n",
    "os.environ[\"HF_TOKEN\"] = os.getenv(\"HF_TOKEN\")\n",
    "llm = ChatGroq(groq_api_key = groq_api_key, model = \"llama3-groq-8b-8192-tool-use-preview\")"
   ]
  },
  {
   "cell_type": "code",
   "execution_count": 6,
   "metadata": {},
   "outputs": [
    {
     "name": "stderr",
     "output_type": "stream",
     "text": [
      "c:\\Users\\rishi\\OneDrive\\Desktop\\DSJ\\LangChain\\venv\\lib\\site-packages\\tqdm\\auto.py:21: TqdmWarning: IProgress not found. Please update jupyter and ipywidgets. See https://ipywidgets.readthedocs.io/en/stable/user_install.html\n",
      "  from .autonotebook import tqdm as notebook_tqdm\n"
     ]
    }
   ],
   "source": [
    "from langchain_huggingface import HuggingFaceEmbeddings\n",
    "\n",
    "embeddings = HuggingFaceEmbeddings(model_name = \"all-MiniLM-L6-v2\")"
   ]
  },
  {
   "cell_type": "code",
   "execution_count": 7,
   "metadata": {},
   "outputs": [],
   "source": [
    "from langchain_chroma import Chroma\n",
    "\n",
    "vector_store = Chroma.from_documents(docs, embedding = embeddings)"
   ]
  },
  {
   "cell_type": "code",
   "execution_count": 8,
   "metadata": {},
   "outputs": [
    {
     "data": {
      "text/plain": [
       "[Document(metadata={'source': 'anime-types-genres'}, page_content='Shonen: The Shonen anime or manga has a central male protagonist, and it includes a mix of a wide variety of genres such as adventure, action, drama, sci-fi, and more.'),\n",
       " Document(metadata={'source': 'anime-types-genres'}, page_content='Seinen: Seinen includes all the elements of a typical Shonen anime but elevates it to the next step by having no theme or story restrictions.'),\n",
       " Document(metadata={'source': 'anime-types-genres'}, page_content='Shojo: The Shoujo anime or manga explores the feminine side which basically includes genres such as romance and drama.'),\n",
       " Document(metadata={'source': 'anime-types-genres'}, page_content='Kodomomuke: all the manga & anime falling into this category are made for kids.')]"
      ]
     },
     "execution_count": 8,
     "metadata": {},
     "output_type": "execute_result"
    }
   ],
   "source": [
    "await vector_store.asimilarity_search(\"Shonen\")"
   ]
  },
  {
   "cell_type": "code",
   "execution_count": 9,
   "metadata": {},
   "outputs": [
    {
     "data": {
      "text/plain": [
       "[(Document(metadata={'source': 'anime-types-genres'}, page_content='Shonen: The Shonen anime or manga has a central male protagonist, and it includes a mix of a wide variety of genres such as adventure, action, drama, sci-fi, and more.'),\n",
       "  0.8213589191436768),\n",
       " (Document(metadata={'source': 'anime-types-genres'}, page_content='Seinen: Seinen includes all the elements of a typical Shonen anime but elevates it to the next step by having no theme or story restrictions.'),\n",
       "  0.9903204441070557),\n",
       " (Document(metadata={'source': 'anime-types-genres'}, page_content='Shojo: The Shoujo anime or manga explores the feminine side which basically includes genres such as romance and drama.'),\n",
       "  1.0410175323486328),\n",
       " (Document(metadata={'source': 'anime-types-genres'}, page_content='Kodomomuke: all the manga & anime falling into this category are made for kids.'),\n",
       "  1.2812750339508057)]"
      ]
     },
     "execution_count": 9,
     "metadata": {},
     "output_type": "execute_result"
    }
   ],
   "source": [
    "vector_store.similarity_search_with_score(\"Shonen\")"
   ]
  },
  {
   "cell_type": "code",
   "execution_count": null,
   "metadata": {},
   "outputs": [],
   "source": []
  }
 ],
 "metadata": {
  "kernelspec": {
   "display_name": "Python 3",
   "language": "python",
   "name": "python3"
  },
  "language_info": {
   "codemirror_mode": {
    "name": "ipython",
    "version": 3
   },
   "file_extension": ".py",
   "mimetype": "text/x-python",
   "name": "python",
   "nbconvert_exporter": "python",
   "pygments_lexer": "ipython3",
   "version": "3.10.15"
  }
 },
 "nbformat": 4,
 "nbformat_minor": 2
}
