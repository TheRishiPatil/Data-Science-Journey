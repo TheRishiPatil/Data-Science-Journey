{
 "cells": [
  {
   "cell_type": "code",
   "execution_count": 55,
   "metadata": {},
   "outputs": [],
   "source": [
    "import os\n",
    "from dotenv import load_dotenv\n",
    "\n",
    "load_dotenv()\n",
    "groq_api_key = os.getenv(\"GROQ_API_KEY\")"
   ]
  },
  {
   "cell_type": "code",
   "execution_count": 56,
   "metadata": {},
   "outputs": [
    {
     "data": {
      "text/plain": [
       "ChatGroq(client=<groq.resources.chat.completions.Completions object at 0x000001CC7D5D4850>, async_client=<groq.resources.chat.completions.AsyncCompletions object at 0x000001CC7D5D5870>, model_name='gemma-7b-it', model_kwargs={}, groq_api_key=SecretStr('**********'))"
      ]
     },
     "execution_count": 56,
     "metadata": {},
     "output_type": "execute_result"
    }
   ],
   "source": [
    "from langchain_groq import ChatGroq\n",
    "\n",
    "model = ChatGroq(model = \"gemma-7b-it\", groq_api_key = groq_api_key)\n",
    "model"
   ]
  },
  {
   "cell_type": "code",
   "execution_count": 57,
   "metadata": {},
   "outputs": [
    {
     "data": {
      "text/plain": [
       "AIMessage(content='Your name is Rishikesh, and you like to watch One Piece.', additional_kwargs={}, response_metadata={'token_usage': {'completion_tokens': 15, 'prompt_tokens': 97, 'total_tokens': 112, 'completion_time': 0.017647059, 'prompt_time': 0.114335578, 'queue_time': 0.140797081, 'total_time': 0.131982637}, 'model_name': 'gemma-7b-it', 'system_fingerprint': 'fp_7d8efeb0b1', 'finish_reason': 'stop', 'logprobs': None}, id='run-504bf447-e21b-40bf-9633-9d344ef7ccaf-0', usage_metadata={'input_tokens': 97, 'output_tokens': 15, 'total_tokens': 112})"
      ]
     },
     "execution_count": 57,
     "metadata": {},
     "output_type": "execute_result"
    }
   ],
   "source": [
    "from langchain_core.messages import HumanMessage\n",
    "from langchain_core.messages import AIMessage\n",
    "\n",
    "model.invoke(\n",
    "    [\n",
    "        HumanMessage(content = \"Hi, My name is Rishikesh and I like to watch One Piece.\"),\n",
    "        AIMessage(content = \"Hi Rishikesh! It's great to meet you. I love that you're a fan of One Piece! It's one of my favorite anime series as well. What's your favorite character or arc in the series?\"),\n",
    "        HumanMessage(content = \"Hey, What's my name and which anime i like to watch?\")\n",
    "    ]\n",
    ")"
   ]
  },
  {
   "cell_type": "markdown",
   "metadata": {},
   "source": [
    "## Message History\n",
    "make model stateful, so that it remembers all the context by storing it in datastore"
   ]
  },
  {
   "cell_type": "code",
   "execution_count": 58,
   "metadata": {},
   "outputs": [],
   "source": [
    "from langchain_community.chat_message_histories import ChatMessageHistory\n",
    "from langchain_core.chat_history import BaseChatMessageHistory\n",
    "from langchain_core.runnables.history import RunnableWithMessageHistory\n",
    "\n",
    "store = {}\n",
    "\n",
    "def get_session_history(session_id : str) -> BaseChatMessageHistory :\n",
    "    if session_id not in store :\n",
    "        store[session_id] = ChatMessageHistory()\n",
    "    return store[session_id]\n",
    "\n",
    "with_message_history = RunnableWithMessageHistory(model, get_session_history)"
   ]
  },
  {
   "cell_type": "code",
   "execution_count": 59,
   "metadata": {},
   "outputs": [
    {
     "name": "stdout",
     "output_type": "stream",
     "text": [
      "Hello Rishi! It's nice to meet you. What would you like to talk about today?\n",
      "Your name is Rishi.\n"
     ]
    }
   ],
   "source": [
    "config1 = {\"configurable\" : {\"session_id\" : \"chat1\"}}\n",
    "\n",
    "res = with_message_history.invoke(\n",
    "    [HumanMessage(content = \"My name is Rishi!\")],\n",
    "    config = config1\n",
    ")\n",
    "print(res.content)\n",
    "\n",
    "res = with_message_history.invoke(\n",
    "    [HumanMessage(content = \"What is my name?\")],\n",
    "    config = config1\n",
    ")\n",
    "print(res.content)"
   ]
  },
  {
   "cell_type": "code",
   "execution_count": 60,
   "metadata": {},
   "outputs": [
    {
     "name": "stdout",
     "output_type": "stream",
     "text": [
      "Hello Saurabh! It's nice to meet you. 👋\n",
      "\n",
      "What would you like to talk about today?\n",
      "Your name is Rishi.\n"
     ]
    }
   ],
   "source": [
    "config2 = {\"configurable\" : {\"session_id\" : \"chat2\"}}\n",
    "\n",
    "res = with_message_history.invoke(\n",
    "    [HumanMessage(content = \"My name is Saurabh!\")],\n",
    "    config = config2\n",
    ")\n",
    "print(res.content)\n",
    "\n",
    "res = with_message_history.invoke(\n",
    "    [HumanMessage(content = \"What is my name?\")],\n",
    "    config = config1\n",
    ")\n",
    "print(res.content)"
   ]
  },
  {
   "cell_type": "markdown",
   "metadata": {},
   "source": [
    "## Prompt Template"
   ]
  },
  {
   "cell_type": "code",
   "execution_count": 61,
   "metadata": {},
   "outputs": [],
   "source": [
    "from langchain_core.prompts import ChatPromptTemplate, MessagesPlaceholder\n",
    "\n",
    "prompt = ChatPromptTemplate.from_messages(\n",
    "    [\n",
    "        (\"system\", \"Answer the questions based on your knowledge in {language} language\"),\n",
    "        MessagesPlaceholder(variable_name = \"messages\")\n",
    "    ]\n",
    ")\n",
    "\n",
    "chain = prompt | model"
   ]
  },
  {
   "cell_type": "code",
   "execution_count": 62,
   "metadata": {},
   "outputs": [
    {
     "data": {
      "text/plain": [
       "'मैं रिशि नाम से हूं। आपका नाम क्या है?'"
      ]
     },
     "execution_count": 62,
     "metadata": {},
     "output_type": "execute_result"
    }
   ],
   "source": [
    "chain.invoke({\"messages\" : [HumanMessage(content = \"Hi my name is Rishi!\")], \"language\" : \"Hindi\"}).content"
   ]
  },
  {
   "cell_type": "code",
   "execution_count": 63,
   "metadata": {},
   "outputs": [
    {
     "data": {
      "text/plain": [
       "'मैं रिशी कहता हूं। आप कैसे हैं? (My name is Rishi. How are you?)'"
      ]
     },
     "execution_count": 63,
     "metadata": {},
     "output_type": "execute_result"
    }
   ],
   "source": [
    "with_message_history = RunnableWithMessageHistory(chain, get_session_history, input_messages_key = \"messages\")\n",
    "config = {\"configurable\" : {\"session_id\" : \"chat3\"}}\n",
    "\n",
    "res = with_message_history.invoke(\n",
    "    {\"messages\" : [HumanMessage(content = \"Hi, My name is rishi.\")], \"language\" : \"Hindi\"},\n",
    "    config = config\n",
    ").content\n",
    "\n",
    "res"
   ]
  },
  {
   "cell_type": "code",
   "execution_count": 64,
   "metadata": {},
   "outputs": [
    {
     "data": {
      "text/plain": [
       "'रिशी। (Rishi.)'"
      ]
     },
     "execution_count": 64,
     "metadata": {},
     "output_type": "execute_result"
    }
   ],
   "source": [
    "res = with_message_history.invoke(\n",
    "    {\"messages\" : [HumanMessage(content = \"Hi,what is my name?\")], \"language\" : \"Hindi\"},\n",
    "    config = config\n",
    ").content\n",
    "\n",
    "res"
   ]
  },
  {
   "cell_type": "markdown",
   "metadata": {},
   "source": [
    "## Managing the Conversation History."
   ]
  },
  {
   "cell_type": "code",
   "execution_count": 75,
   "metadata": {},
   "outputs": [
    {
     "data": {
      "text/plain": [
       "[SystemMessage(content=\"You're a goo assistant\", additional_kwargs={}, response_metadata={}),\n",
       " HumanMessage(content=\"Hi, I'm Rishi\", additional_kwargs={}, response_metadata={}),\n",
       " AIMessage(content='Hii', additional_kwargs={}, response_metadata={}),\n",
       " HumanMessage(content='I like to play Football!', additional_kwargs={}, response_metadata={}),\n",
       " AIMessage(content=\"Ohh, That's nice!\", additional_kwargs={}, response_metadata={}),\n",
       " HumanMessage(content='Thanks', additional_kwargs={}, response_metadata={}),\n",
       " AIMessage(content='No problem!', additional_kwargs={}, response_metadata={})]"
      ]
     },
     "execution_count": 75,
     "metadata": {},
     "output_type": "execute_result"
    }
   ],
   "source": [
    "from langchain_core.messages import SystemMessage, trim_messages\n",
    "\n",
    "trimmer = trim_messages(\n",
    "    max_tokens = 70,\n",
    "    strategy = \"last\",\n",
    "    token_counter = model,\n",
    "    include_system = True,\n",
    "    allow_partial = False,\n",
    "    start_on = \"human\"\n",
    ")\n",
    "\n",
    "messages = [\n",
    "    SystemMessage(content = \"You're a goo assistant\"),\n",
    "    HumanMessage(content = \"Hi, I'm Rishi\"),\n",
    "    AIMessage(content = \"Hii\"),\n",
    "    HumanMessage(content = \"I like to play Football!\"),\n",
    "    AIMessage(content = \"Ohh, That's nice!\"),\n",
    "    HumanMessage(content = \"Thanks\"),\n",
    "    AIMessage(content = \"No problem!\")\n",
    "]\n",
    "\n",
    "trimmer.invoke(messages)"
   ]
  },
  {
   "cell_type": "code",
   "execution_count": 76,
   "metadata": {},
   "outputs": [
    {
     "data": {
      "text/plain": [
       "'I am unable to access real-time information or personal data, and am unable to provide information related to your name.'"
      ]
     },
     "execution_count": 76,
     "metadata": {},
     "output_type": "execute_result"
    }
   ],
   "source": [
    "from operator import itemgetter\n",
    "from langchain_core.runnables import RunnablePassthrough\n",
    "\n",
    "chain = (RunnablePassthrough.assign(messages = itemgetter(\"messages\") | trimmer) | prompt | model)\n",
    "\n",
    "res = chain.invoke(\n",
    "    {\n",
    "        \"messages\" : messages + [HumanMessage(content = \"what is my name?\")],\n",
    "        \"language\" : \"English\"\n",
    "    }\n",
    ").content\n",
    "\n",
    "res"
   ]
  },
  {
   "cell_type": "code",
   "execution_count": 77,
   "metadata": {},
   "outputs": [],
   "source": [
    "# Wrap this in the message history\n",
    "\n",
    "with_message_history = RunnableWithMessageHistory(\n",
    "    chain, get_session_history, input_messages_key = \"messages\"\n",
    ")\n",
    "\n",
    "config = {\"configurable\" : {\"session_id\" : \"chat5\"}}"
   ]
  },
  {
   "cell_type": "code",
   "execution_count": 79,
   "metadata": {},
   "outputs": [
    {
     "data": {
      "text/plain": [
       "'The provided text does not include information about your name, so I am unable to answer this question from the given context.'"
      ]
     },
     "execution_count": 79,
     "metadata": {},
     "output_type": "execute_result"
    }
   ],
   "source": [
    "res = with_message_history.invoke(\n",
    "    {\n",
    "        \"messages\" : messages + [HumanMessage(content = \"what is my name?\")],\n",
    "        \"language\" : \"English\"\n",
    "    },\n",
    "    config\n",
    ").content\n",
    "\n",
    "res"
   ]
  },
  {
   "cell_type": "code",
   "execution_count": null,
   "metadata": {},
   "outputs": [],
   "source": []
  }
 ],
 "metadata": {
  "kernelspec": {
   "display_name": "Python 3",
   "language": "python",
   "name": "python3"
  },
  "language_info": {
   "codemirror_mode": {
    "name": "ipython",
    "version": 3
   },
   "file_extension": ".py",
   "mimetype": "text/x-python",
   "name": "python",
   "nbconvert_exporter": "python",
   "pygments_lexer": "ipython3",
   "version": "3.10.15"
  }
 },
 "nbformat": 4,
 "nbformat_minor": 2
}
