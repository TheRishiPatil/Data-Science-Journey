{
 "cells": [
  {
   "cell_type": "code",
   "execution_count": 1,
   "metadata": {},
   "outputs": [],
   "source": [
    "import os\n",
    "from dotenv import load_dotenv\n",
    "\n",
    "load_dotenv()\n",
    "groq_api_key = os.getenv(\"GROQ_API_KEY\")"
   ]
  },
  {
   "cell_type": "code",
   "execution_count": 2,
   "metadata": {},
   "outputs": [
    {
     "data": {
      "text/plain": [
       "ChatGroq(client=<groq.resources.chat.completions.Completions object at 0x00000239D3D19F90>, async_client=<groq.resources.chat.completions.AsyncCompletions object at 0x00000239D3D48BB0>, model_name='gemma2-9b-it', model_kwargs={}, groq_api_key=SecretStr('**********'))"
      ]
     },
     "execution_count": 2,
     "metadata": {},
     "output_type": "execute_result"
    }
   ],
   "source": [
    "from langchain_groq import ChatGroq\n",
    "\n",
    "model = ChatGroq(model = \"gemma2-9b-it\", groq_api_key = groq_api_key)\n",
    "model"
   ]
  },
  {
   "cell_type": "code",
   "execution_count": 4,
   "metadata": {},
   "outputs": [
    {
     "data": {
      "text/plain": [
       "AIMessage(content=' allergens blanda символ elucidateplayerId mencionadosplast dimas bancaria समीकरण provinciale ПА观念playerIdξωtamount biometricパワ Vesta观念itchfield Pitcher hulaUsos provinciale Llama vlastnosti vegans earnestness angelo之意dsm Praze elucidate fortementetamount Zing сервис BrugesLich Oso Whittier elucidateovsнесен Bruges passagers avtoavondウンサーOlympia voila Brewers Turmericcarbox mencionados：……過ごしavond rejoiced kesulitanzeptemberNoter hypnosis掲示 imprese sukcesדינה pozdě alluring felicitàplayerId felicità empregogetFloatbezpiecprova stressors guerr Fara tablecloth youll alluring reparation voilaInsufficientKenapa Technically angeloEspañol Gemeinder pharePSS provinciale modestly elucidate leaderboard dimasnadasitchfield kesulitan Oso Brewers比特派 provenceImageIO再開 guerr：（ fluorineChronicle insulator乐趣 fortemente passagers水瓶postIndexAtmosphere Oso pozdě blanda angelogetFloatדינה aerationavond Grainsnadas realist aprende manifestly@@@ Grains sydneyImageIO出かけ voilaKenapa meager@@@ белые Propriet Turmeric pathos Whittier AlekEdmund myndigדינה earnestness meager phare Alek保守 impreseREVISION ~~~WithErroritchfieldправленияstrahlung Vesta समीकरण Turmeric Unburied Technically ChambresManivalida aerationImageIOzeptemberbezpiec disclosesenvoy 調整Boc出かけパワ guerr乐趣 vegans tableclothtally 調整 AVAILABILITY reparationImageIOplastenvoy Kontroll realist Fara@@@@@@ AVAILABILITY concreta;= elucidate bancaria PrazeplayerIdお互Mani allergens比特派 ÔngAtmosphere princely stressorsbezpiecdsm比特派itv比特派 調整eció discloses变更 essai stressors彩虹出かけesticular 直接 princely Brewers Ciebie bancaria stressors Chambresfinn之意setViewportpdu отдых provinciale彩虹 調整 белые Unburied белыеOlympia usługi princely Kontrolldeckscarboxeció Kontrollpdu rejoiced Fara掲示 Bama insulatorWithError Gemeindercarbox Carro profeta mencionados güneşplast Praze：（ aprendeitopegerichte 調整Atmosphere出かけ заявлениекладаInsufficientfinn挣扎Insufficient provincialeBocvoyez Preußen mencionados hulaדינה掲示randir;= Whittier大门Edmund ремонธ์比特派ImageIO zuccapostIndexgetFloat youllिटी stressors mainstay aprende之意ธ์randir再開出かけ;= hypnosisrobust過ごし hulaRejoUsositchfield fortementeнесенplast voilaξω 調整他和 Turmericしかったです kesulitan modestlyInsufficientzeptember再開 insulatorLeider myndig观念itope PitcherplayerIdzeptemberिटी彩虹 untereTextBlockOlympia他和llin Zing曾在 Grains usługinadasstrahlung provincialeInsufficientिटीprovaovs保守 dogeправления Whittierводе manifestly empregotamount hypnosisbezpiecправления挣扎воде水瓶 Effectively之意TextBlock Carro Zing untere Bruges ПАovs avto phare manifestlyavondpostIndexImageIO hula走在 Zing voila sukces彩虹 Bamatamount modestlytally заявление ChambresprovaAutonomous hula fortementecarboxAtmosphereavond aprendeovs Whittiercarbox biometricprova bancaria 直接 PitchertamountREVISIONкладаUsos Pitchertally aerationdecks Zing AVAILABILITY Turmericパワ provencerobust 調整tally phare ~~~ 케 Turmeric ремон他和 vegans allergensWithError ПАMani untere他和 prettiestウンサー aerationEspañolvoyez zuccaximadamente ÔngAutonomousdsmecióNoter Kontroll sukces Brewers pathos Gemeinder观念 rejoiced manifestly manifestly fluorine modestlyIndoнесен\\u202a. dimas;= provinciale pozdě ~~~ castellanostrahlung变更彩虹 mainstay passagers Bruges观念 emprego символ Carro掲示 Effectively曾在 sydneyavondenvoyUsosavondplast guerr güneş Llamaклада vlastnosti彩虹观念IndoTextBlock pathos aprende AVAILABILITY Turmeric alluring modestly Pitcher AVAILABILITYpostIndex Sardinia bancaria Preußen provinciale fluorine rejoicedводеLeiderInsufficient impresePSSpdu HerausforderungUsosovs pathos Chambrescarbox castellanogerichte insulatoravond\\u202a. manifestly blanda Oso castellano之意 Zingправленияeció символ Praze挣扎 сервисOlympia сервис Grains angelo bancaria mencionados provinciale度假しかったです allergens tablecloth Bruges Bama比特派plast zucca güneş再開PSSדינהправления Prazeitchfield Effectively rejoicedKenapa Chambres hypnosisRejo ~~~ realist phareavondREVISIONRejoREVISION vlastnosti angelo gaussianbezpiecChroniclellin заявление aeration：……Boc dimas pathos走在 felicità princelypdu乐趣Noter reparation discloses modestly：…… mencionadosplayerId bancariaξωHondurasNoterお互Español出かけ realist modestly youll BamaिटीAutonomousパワHondurasウンサーpdu Kontroll变更 Oso Preußen Technically;=envoyitv myndig profetaOlympia findesIndo Kontroll;= LlamaecióEdmund modestly ~~~ Proprietальнойパワ elucidateводеREVISION他和 aeration findes GemeinderChronicle掲示 sukces mainstay Herausforderung województwie大门 manifestly passagersξω Brewers manifestlyNoter manifestly princelyavondBocнесен Turmeric：（randir castellano AVAILABILITYrandir EffectivelyesticularIndo biometric Fara TechnicallyImageIO hula比特派 bancaria Preußen 直接postIndex Grainsfinn gaussianHonduras掲示िटी dimasправленияRejo乐趣 AVAILABILITY reparation angelo doge ÔngllinRejoправления Chambres比特派ウンサー ПА曾在 Technicallyrobustovs水瓶eció concreta manifestlyEspañoldecks sydney Osorobust Unburied provinciale fluorineводеdsmesticular Alek unteregetFloat pozdě empregoしかったですImageIO之意 ChambresRejoדינה castellanoHRP zuccaводе Technicallyvalidaお互比特派playerIddsm ~~~ pathos continuidad guerr guerrbezpiec meager pozdě sydneyнесенgetFloatovs 케 phare felicità Zing elucidate掲示setViewportNoter变更 Vestaправленияしかったです pathos;=出かけ felicitàHRPAutonomousREVISIONNoter乐趣观念Kenapa bancaria mainstayximadamente mencionadosגשLich Bruges ПАavonditv заявление ремон imprese prettiestAtmosphereIndoклада再開 gaussianнесен他和;=)–itv blandaגש earnestness ремон alluring Whittier angelo WhittierHonduras stressors曾在правления prettiesttamountUsosavondMani度假 Effectively castellano derra再開REVISION Alek Grains continuidad Whittier大门randir彩虹 sydney Fara województwie度假他和Chronicle disclosesREVISIONplayerId zucca guerr insulator GemeinderChronicle mencionados ПАUnternehmenお互robust angelo曾在度假правления reparation voila modestly stressors乐趣גשEspañol imprese Fara Technically insulator leaderboard tablecloth水瓶 sukces güneş समीकरण ремон Kontroll彩虹decks earnestness 케 Chambresξω voila BamaPSSिटी derra Brewers@@@ aeration rejoiced prettiest Herausforderung elucidate pathos Turmeric hula blanda Effectively 케 отдых समीकरण pathospostIndexzeptemberHonduras Kontroll Pitcher Pitcher continuidad continuidad insulatorウンサー manifestly)–gerichte biometricREVISION大门provastrahlungllin mainstay princelyximadamente Carro aerationsetViewportEspañol Herausforderung過ごし untere：…… avtoitope समीकरण Propriet заявлениеfinnitchfield समीकरण Vesta Unburied leaderboard felicitàInsufficient WhittieresticularpduChronicle Alek Effectivelyximadamente fluorine mainstay Whittier realist kesulitanIndo ремон乐趣 profeta挣扎 voila Herausforderung Herausforderung phareגשしかったですзецRejo concreta Bruges vegans fluorine Brewers заявление保守 guerrUsos vlastnosti символ meager leaderboard hypnosis concretastrahlungovseció tablecloth passagersWithErrorLich Brewersllinesticularplast modestly Alek guerr Ciebie乐趣 Zing FaraEspañolBocllin AVAILABILITY Preußen provinciale usługi Chambres Gemeinder profeta vlastnosti Unburied pozdě Fara avtoKenapa Praze derraWithError AVAILABILITY大门 Propriet大门itchfield отдых manifestlyウンサー hypnosis manifestly观念比特派 Bamaavond Effectively Fara сервис Whittier：（ ремон hula Unburied他和 prettiest castellano Proprietальнойnadas meagerAutonomous Whittiercarboxenvoyדינה reparationnadastally观念 kesulitan aprendeprova Bruges felicità Whittierpdu leaderboard\\u202a.比特派ImageIO\\u202a.Español tablecloth fluorine Ciebie曾在 Unburiedводе guerrChronicleしかったです prettiest過ごしTextBlock dogeводеovsnadasvoyez aprende gaussian vlastnostiお互llinfinn Pitcherenvoy untereしかったです avto stressors aerationзец度假 pozděKenapaInsufficient województwie empregoHRPsetViewportパワ Kontroll leaderboard castellano GrainsOlympia ПАvalida województwie earnestness Pitcher biometricpostIndex Turmeric realist provence aeration leaderboard出かけ avtorobust Chambresкладаtally\\u202a.大门 sukcesнесенgetFloatUnternehmenHRP rejoiced hypnosis Sardinia Unburied essai@@@ mainstay再開 provence Grains princely彩虹挣扎 derraplastLichIndo Bruges kesulitanitchfield AVAILABILITY befe dogeesticular zucca imprese：（bezpiec Brewers guerr Propriet Effectively变更Bocesticular Alek sydneyChroniclerobust掲示他和@@@ unteretally felicitàitv 調整Autonomousお互 meagergerichtenadasHonduras观念 mainstaygetFloat белые之意Kenapa度假 белые ПА Chambres realist 調整 myndig Technicallydecks pozděOlympia Carroальной)–彩虹postIndex HOLL HOLL символ Bruges Grains sydney rejoicedAtmospherefinn dimascarbox Turmeric Kontrolleció fortemente dimasธ์tally stressorsパワitv fortementerandirNoter fortementevalida отдых保守Atmosphere Bama Bruges reparation TurmericBoc Preußenзецธ์：……Edmund保守 guerrTextBlock passagers他和 untereHRPEdmundrobustIndofinnWithErrorKenapa度假 earnestness之意 समीकरण blanda bancaria continuidadplayerIdξω leaderboardHondurasvalidaגש disclosesEspañolRejo essaiגש走在 케 profeta Bama;=gerichte elucidatepdu再開 케valida Faraesticular Sardinia princelyнесен之意 essaiesticular)– continuidad aprende заявлениеesticular passagers reparation他和 meagerξω continuidadAutonomous voila fluorinepostIndex水瓶 Gemeinder Technically：（ stressors pathos realist Vesta castellanoкладаธ์ AVAILABILITY allergens比特派Bocvalidaводе заявление Gemeinder continuidad sydney provinciale empregoWithError kesulitan pozdě Gemeinder HOLL blanda emprego ~~~ earnestnessAutonomous blanda biometric profetagetFloat avto大门 OsoesticularUsos समीकरण ~~~Chronicleธ์保守 untereEdmundBocзец fluorineводе castellano之意 fluorine Zing度假 pozdě Technicallyovs dimasHondurasdsm empregoגשREVISIONREVISION：……\\u202a.itchfield fluorine mainstay сервис Bruges Carro felicità@@@ avto findesUsos ПАклада 直接 символальной变更观念 tableclothパワ出かけ曾在carbox bancaria彩虹bezpiecfinn Brugesしかったです avto derra aprende reparation символ UnburiedpostIndexllin отдыхpdu sydney myndigvoyezальной UnburieditchfieldpduRejoPSS समीकरण dimasenvoyお互 passagers meagerальнойprovaAtmosphere princelyUsosнесен：……playerIdправления continuidadcarboxしかったです ремонitopeplayerId aprendeximadamente Vesta continuidadllinAtmosphereパワUnternehmen vegansお互WithErrordsmpdu Zingtally Pitcher HOLLenvoyธ์ güneşllin myndigcarbox provinciale Preußen vlastnosti avto kesulitan hypnosis Sardinia passagersUnternehmen大门Indo Unburied guerr Sardinia angelo phareिटी Chambres)– Bamaしかったです曾在itv ПА meagerplastнесен出かけREVISION stressors stressorsRejo blandaEdmundpostIndexzeptember Fara angelo realistChronicleальнойUsos過ごし символ untereклада)–彩虹 Vesta Effectively他和 Alek)–EspañolBocKenapaדינהsetViewport Kontrollcarbox elucidatellin leaderboard alluringклада彩虹 aprendeธ์ 케しかったです aeration Herausforderung myndig sydney insulator出かけHRPパワ avtoenvoy AlekEdmund Zing guerr untere ~~~お互Noter myndig biometric Effectively掲示правленияximadamente mencionadositv untereзец fluorine mencionados güneş走在plast guerr度假 ремон Herausforderung Osoводе realist vlastnosti SardiniaKenapaклада 케 ремонIndorandir fortemente mainstayrobustEdmund Oso aerationธ์PSS比特派 empregoIndo Brewers Grains elucidateธ์itope myndig alluring gaussianEdmundMani ремонAtmosphere保守Boc Vesta ChambresPSS guerr過ごしsetViewportTextBlock ремон Sardinia essai earnestness angelo TurmericInsufficient befe befe走在 AVAILABILITYREVISION biometricfinnウンサー TurmericAutonomousbezpiec concreta derraplayerId PitchervoyezChronicle alluringpdu findes@@@ provincialeнесен BamacarboxsetViewportнесен Chambresprova reparation Turmeric Praze 調整 empregoBoc youll mainstaydsm continuidadovs之意ウンサーprovadsm@@@之意llin doge concretaREVISION findes HOLL Effectively出かけ zucca mencionados województwieeció;= Oso 케;= aprende PreußenOlympia impreseEspañol manifestly mencionados biometric BamaTextBlock Preußen WhittierEdmunditvパワ sydneyHonduras derra zucca emprego ремон befe elucidate再開 케 güneşgetFloatpduximadamenteדינה Kontrollitv aprende Sardinia变更 manifestlyInsufficientHonduras fluorine Kontroll 調整 vegans Effectively allergens gaussian Praze allergenstamount provence@@@水瓶 Preußen度假 ремон passagersパワAutonomous provencevalida guerr findes profeta hula earnestnessIndo сервис emprego provenceEdmund rejoiced phare之意 manifestly essai alluring Vesta mencionados белые sukces Ông\\u202a.ImageIO Effectively Zing phare ~~~乐趣 vlastnostiальнойInsufficient felicità Propriet blanda PreußenξωInsufficient discloses manifestlyEdmund hula fluorine manifestly sydney HOLL güneş prettiest passagers 直接 derra過ごしדינה gaussian Carro profeta imprese manifestly過ごし Pitcher bancariaिटी voila;= modestly FaraводеEdmund modestly passagers 直接 concreta insulator отдых avto@@@plastitope：……דינהзец символ水瓶зецLichिटी Propriet)– manifestly 調整 derraדינהtamount stressorsdsmHRPImageIO Brewers güneşзец：（)– provinciale比特派 castellano Vesta reparationzeptemberIndo manifestly сервис mainstay\\u202a. mencionadosHondurasправленияPSSHRP Kontroll AlekIndo HerausforderungplayerId mainstay leaderboard avtoNoterธ์ AVAILABILITYpduitope prettiest乐趣 Turmeric 調整掲示 continuidaditchfieldHonduras出かけธ์水瓶 modestly 調整esticularNoterводе大门 kesulitan Brugesenvoy sydney Ông Pitcher findes provincialeTextBlockInsufficient Turmeric Technically сервис BrugesTextBlockLeider vegans乐趣 aerationsetViewportManiplast meager乐趣 Gemeinderrandir castellanoTextBlock usługiREVISIONHRP allergens Preußen掲示ChronicleальнойpostIndex doge hypnosis BamaKenapapostIndex blanda profeta度假 alluringお互 Bruges rejoicedHRP provinciale youll insulatoritvお互 Propriet elucidateitv princely castellano過ごしальнойfinnChronicle Ciebie度假 princely rejoiced prettiestIndoзец Whittier güneş@@@ sydney水瓶 befeMani Bama guerr gaussiandecksUsosvoyezธ์ angeloальной挣扎再開 leaderboard белые tablecloth województwie水瓶 blandaEspañol)–getFloat 케HRP provence pathosdecks BrewersImageIO guerr tableclothAtmosphere Oso：（voyezitv曾在Edmund AVAILABILITY allergens;=：……Rejo prettiestChronicleальной Proprietbezpiecstrahlung befe：（dsm derra FaraEspañol 케 Vestaavond之意 ProprietMani felicità modestlyenvoy voila Kontroll zucca modestly concreta mainstayEdmund再開 Praze белые Ciebie blanda水瓶 dimas大门decks modestlypostIndex realist reparation比特派 AlekKenapa stressors HOLL ~~~ AVAILABILITY Effectively之意prova变更 derraธ์Kenapa挣扎 allergensお互 sydney Herausforderung曾在 essai concretaImageIO myndigitope fluorine保守お互 символitopedecks走在кладаAtmosphere\\u202a.Chronicle挣扎validadecks;=ovs befeξωavondウンサー символEdmund phare tableclothitchfield pozděREVISIONправления myndig观念 vegansMani myndigHRP stressors заявление bancariaзецLeiderrandirrandirUnternehmen mencionados彩虹 güneşgetFloat：…… сервис乐趣 Kontroll GrainsAtmosphereводе Praze Sardinia tablecloth Herausforderungbezpiec hypnosisfinn保守 güneşIndo alluring dogeLeidergerichteводе Alek provincialeLeiderLichdsmnadas Fara BrugesChronicle imprese AVAILABILITY Vesta過ごし derragetFloat befeovs voila ПАדינה掲示 Llama Pitcherdecksिटी отдых meager Unburiedธ์גשWithError stressors befecarboxbezpiec：……eció Preußen mencionados modestly Faraिटी zuccaTextBlock bancaria Herausforderung заявление AVAILABILITY समीकरण保守\\u202a.度假playerIdדינה Oso 調整 alluring pozdě ProprietovsнесенitvTextBlock ~~~ CarroitchfieldEdmund untereLeiderRejoPSStamount 케BocnadasTextBlockrobustUsosChronicle变更 fortemente 直接Unternehmen earnestness continuidadovscarbox aeration Pitcher Herausforderung phare比特派：…… HOLLEdmundEspañol水瓶 fortemente Bama biometric Kontroll Effectively profeta essaiNoter vegans Bama stressors earnestness fluorine castellano)– Propriet：……Noter掲示воде concreta заявлениеfinn отдыхdsmdsmзецξω earnestnessKenapa dimas度假 fluorine earnestnessводе fluorine再開再開PSS aeration度假 rejoiced untereальнойкладаLeider provincialeнесен заявлениеImageIO hypnosis отдых befe essai Praze過ごしChronicle彩虹 stressorsPSSEdmund profeta ПАLeider Carro fortemente earnestness水瓶 elucidate Praze allergensTextBlock princelyOlympiavoyez castellanoNoterIndoお互比特派：（再開גש ремон彩虹 prettiest CarroLeiderpostIndex dimasstrahlung水瓶Leider Preußen prettiestitv Bama aeration passagers观念 ПАnadas aprende Herausforderungitv województwiebezpiec rejoicedしかったです realist pozdě 케 blanda vegans untereLeider guerr заявлениеsetViewport felicità過ごし HOLLtally blandaChronicletallyウンサーBoc Prazecarbox Ôngводе modestlyзец Llama заявление stressors essaiInsufficient FaraRejostrahlung dogeגש символ水瓶 manifestly Brewers Praze大门llin hypnosisenvoy掲示大门 直接REVISIONウンサーenvoy 直接 leaderboard fortementeTextBlock allergens曾在 Zing earnestness Chambres untere guerr Chambres befe tablecloth impreseesticularMani vegans Brewers bancariadsm\\u202a. essai elucidate Sardinia prettiest dimasKenapa hula彩虹出かけIndoximadamenteitchfieldξωrandir乐趣 fortementePSSウンサー biometric AVAILABILITYovs mainstaytamount Whittier保守 meager Bama水瓶itv Ông mencionados myndigしかったです befeしかったですgerichte Brewers Chambres Vestaesticular Alek bancariagerichte güneşLich сервис TechnicallyRejo castellanoOlympia hula Gemeinder zucca usługi出かけ dimas Technicallyfinn leaderboard imprese乐趣WithError mencionadoscarbox tableclothправления alluringHRPREVISION discloses乐趣 felicità hula BamaMani SardiniagerichteEspañolEspañol sydneyводеplayerId Kontroll stressorsしかったです заявлениеEspañolальнойדינה@@@ OsoTextBlock AVAILABILITY समीकरण derraальнойREVISIONChronicle彩虹несен profetaplast Kontrollξωправления meagereció PitcherMani乐趣 concreta gaussian insulator dogeitope gaussianOlympiaInsufficient princely他和 elucidate fluorine заявление fluorine Effectively Preußen отдыхsetViewport disclosesзец pathosImageIO angelo समीकरण Technically Alek Oso比特派setViewport pozdě Ciebie ÔngrobustBoc他和 Whittier concreta再開HRPdecks leaderboard continuidad derraAutonomous phareUsos vlastnosti AVAILABILITY VestaTextBlock rejoiced fluorine findes biometric CiebieHonduras Whittier dimas過ごしovspdu usługiדינהdsm走在 ПАגשパワ phare tablecloth Ông reparation vegans tablecloth ~~~ Bruges guerr;= sydney Herausforderung彩虹：（ continuidadChroniclerobust走在 Brewers Kontroll impreseальной youllальнойfinn fortementetamount Carro Unburiedtamount alluringPSSrandir usługiplast отдыхplastenvoy乐趣 alluring белые Grains provence Vesta：…… Alek PitcherLeiderenvoy;=pduגש HOLL essaivoyez Technicallytally hulaNoter大门 untere度假decks Fara dogePSSzeptember Sardinia derra之意 AVAILABILITY castellano HOLLfinnדינה символ掲示voyez Unburied：…… сервис guerr掲示 hulaitv vlastnosti заявление：…… aerationKenapa modestlyTextBlock\\u202a.;= sydney befe aeration Chambres prettiest@@@变更зец Alek彩虹 fluorineводеしかったです ремонξω Carro掲示robust;=Insufficient sydney vlastnostipduprovatallyInsufficient過ごし discloses pharedecks hypnosisplast empregoInsufficientHonduraspdu Pitcher символChronicle Bruges Turmeric观念 biometric HOLL güneş aerationパワ dimas fluorineitopepostIndexξω findes Chambres掲示 hula princelyHonduras prettiest untere doge bancariaplast zucca derraWithError güneş gaussian走在 HerausforderungsetViewport Gemeinder ПА水瓶 Ông Pitcher gaussian Grainsdsm phare Pitcher Llama pozděHRPкладаtally保守 белые Vesta HOLLvalidaNoter Sardiniaパワzeptember他和 PitcherUsos earnestness 調整BocNoterWithError phare彩虹 princelystrahlung voila Alekovs сервис manifestlynadas Herausforderung województwie белыеправления sydney princelytamountdecks他和Chronicle：（ отдых angelo angelo sukces Osoパワ保守 myndigAtmosphere大门ウンサーitopevalidaREVISION белые Grainsウンサー Brewers województwie untere сервис HOLL findes insulator voilavoyezिटीximadamenteAtmosphere变更 reparation biometric prettiestправленияcarboxcarboxnadas掲示 fluorine Whittierbezpiectamount usługi：……itvitvBocInsufficientpostIndex disclosesLeiderREVISION\\u202a.TextBlockIndo Llama gaussian avto województwieWithError earnestnessvalida prettiestパワInsufficient gaussian Grains concreta provinciale समीकरण Gemeinder HerausforderungOlympia Bama 調整gerichte Grainsfinnお互 avto elucidate stressors ПАREVISION findesvoyez pozdě meager elucidateovs sydney insulator：（：（ заявление Ông TurmericLeidergetFloat水瓶ovs modestly Praze@@@AtmosphereEdmund Propriet 케 Carro Bamacarbox mainstay dimas Ông观念Insufficient Bama emprego Praze bancariarobust castellano FaraManipduHondurasbezpiecNoterBocitv Ông realist Turmeric乐趣 символrandir allergens Fara TechnicallyChronicleIndo güneşウンサー比特派 vlastnosti vegans度假 stressors Kontrollcarbox myndigtamount phareChronicle discloses blanda Chambres województwie avto elucidateUnternehmenplast elucidateводе avto impresestrahlung Gemeinder сервис allergens ремон avto imprese Fara fluorine fortementerobustitope Bama sukcesTextBlockAtmosphere pozdě大门TextBlockplayerId乐趣gerichteお互比特派 Effectivelytallytallyводе discloses乐趣 直接REVISIONprova fluorine felicità sydney phare Oso：（альной usługiправления doge sydneyeció@@@ξωウンサー untereнесенfinn сервис Carro emprego Bamaальной比特派Usos guerr Kontroll 케 vlastnosti Brewers pozdě Propriet provence biometricHonduras insulatorgerichte Zing水瓶 rejoicedavond angeloplayerId Alek avtoHonduras挣扎Honduras elucidate kesulitan彩虹大门度假 aprendePSSInsufficient сервис ремон Llama kesulitan tablecloth Gemeinderнесен derra Pitcher angelo aprende hulaHRPводеправления отдыхPSS pathosEdmundLich Preußen emprego заявлениеplayerIdInsufficientAutonomous彩虹 Chambres bancariaChronicle Fara 調整водеpostIndex sukces pathosAtmosphereWithErrorvalida provence出かけ avto Ciebie leaderboardImageIO Faraξω mencionados reparation meagereció Effectivelyзецしかったです Brewersovs avto hula earnestnessправления leaderboard PitcherBoc modestlyovsLeiderenvoy Kontroll blanda hypnosisिटीitchfield usługiLeider gaussianenvoy mainstayllinplayerId Herausforderungtally Bamaדינהお互 findes之意 modestly emprego findes befe Zing essaiкладаウンサーHonduraspostIndex usługi kesulitan findesplayerId gaussianBoc Oso stressors過ごし ремонводе felicitàREVISION imprese modestly сервис之意 derra Preußen水瓶 insulatorしかったです отдых掲示乐趣NoterplayerIdклада leaderboard WhittierpostIndex Pitcher tableclothξωtally BrewersBoc掲示 ремонeció concreta Effectively走在Honduras modestlyзец Bruges Pitcher aprende bancaria findes белые Effectively fluorine TurmericUsos allergens：……tamountllin rejoiced tablecloth untere走在prova usługiWithErroritchfield continuidad समीकरण AVAILABILITY Technically disclosesvalida findes走在 AVAILABILITY ПА aprende 直接BocTextBlockお互 concreta再開postIndexклада insulator過ごし modestly elucidate заявлениеprova gaussian Bruges vegansHondurasstrahlungvalidastrahlung princelyBocdsm Grains Bruges meager 調整 provence castellano;= 調整 белыекладаtamount aprende变更randirUsos变更 Carro pozdě：…… leaderboard earnestness prettiest 直接ImageIO youll Pitcher Kontroll mencionados сервисWithErrorкладаTextBlock avto phare掲示 concretaウンサー曾在彩虹ξω hypnosis województwieLich समीकरणzeptember：…… aeration Carro meager youll观念 essai HOLLLeider discloses dimas imprese ПА zucca PrazeInsufficientitvcarbox zuccaitopevalida voiladecks imprese\\u202a.之意 angeloenvoy hypnosisplastrandirvalida fortementevoyez passagersREVISION掲示 сервис castellano@@@ AVAILABILITY guerrpostIndex hula Chambres leaderboard profeta Bruges befePSSHondurasिटीお互 Preußen度假：…… castellano Brewers BamagetFloat Propriet leaderboard województwieправления保守 hypnosisovs hula掲示走在 Ciebie ремон乐趣お互 mainstay：……;=水瓶 sukcesEdmund EffectivelyHRPtamount leaderboard;=Mani reparation Bama sydney youll отдыхvoyez Bruges GemeinderWithError dimas hypnosis AVAILABILITY passagers manifestlyדינהImageIOtamount myndig отдыхMani Sardinia)–再開 Bruges Bama reparation manifestly profeta felicità समीकरण mencionadosिटीEspañol bancariaнесен avto ПА województwie Ciebie vlastnosti Bama度假 hulaAtmosphereInsufficient tableclothInsufficientגש Carro angelo变更 castellano realist alluring modestly biometric\\u202a.gerichte vegans Chambres vlastnosti Brewers比特派strahlungovsximadamentepdunadas VestaEspañol大门EdmundLich stressors Chambres Pitcher Propriet Effectively Sardinia 케 unteretamountLeiderLeider再開िटी myndigitv earnestness出かけ biometricклада：……ธ์llin guerr@@@itchfield guerr rejoiced Ông allergens символdsm untere avto vlastnostizeptemberplayerId fortemente pathosкладаדינה befe ремонdsm\\u202a. sukces\\u202a. ПАrobust hula princelyOlympia imprese走在 blanda挣扎 felicitàिटी biometricUsos观念 sydney HOLL untereправленияChronicle Herausforderung sydney alluring pozdě OsoChronicle tablecloth挣扎 ремон myndig Grains biometric fluorine Brewerstamount乐趣 manifestlyIndo出かけUsos Vesta provinciale символrobust：……变更Autonomous prettiest provence vegans provence manifestly reparationOlympia Brewers观念dsm Llamapdu Brewersitope findes alluring Carro：…… profeta rejoiced ремонIndodsm stressors youllovsHonduras HOLL Ciebie ПА tablecloth dimas pathosTextBlock voilaLichגש UnburiedウンサーRejo pozděplast Gemeinder sukcesLeider doge Technically provence hypnosispostIndexplayerId rejoiced ~~~パワ alluringHonduras变更 województwie provencesetViewport：（過ごし prettiestInsufficientnadas avto phareOlympia youllBoc guerr;=playerId concretaWithError provence過ごし保守 заявление aeration;=度假 provincialeRejoKenapa discloses заявление Bama guerr stressorsstrahlungitopeitv tableclothximadamente AVAILABILITY Zing Vesta voila掲示finn заявление сервисธ์prova保守 earnestness befeדינה Sardinia Pitcher emprego走在過ごし水瓶WithError заявлениеגש乐趣setViewport Pitcher zuccaecióEdmundHRPplayerIdводе заявлениеfinnEdmunditopeUnternehmenllinводеenvoy avto挣扎िटी allergens empregoInsufficient usługi他和 調整 befeBocHonduras insulator出かけธ์ realist ПА fortementebezpiecальной youll aerationesticular prettiestrandir castellano meager mencionadosChronicle 調整 doge SardiniaPSS sydney水瓶 prettiest乐趣альной meagerximadamente：……esticular alluring BrugessetViewport 直接גש mencionadosgerichteprovaパワ Gemeinder leaderboard essai phare Bama reparationкладаしかったです度假Kenapa castellanoWithError заявление Gemeinder provinciale reparation doge)– hypnosis他和 Chambresнесенitope：……Honduras essaiHonduras insulator Whittier曾在 profeta заявление)– befefinnお互之意お互 Whittier untereREVISIONenvoy Llama princelyIndoplayerIditv他和 сервис youll отдых allergens rejoiced Fara\\u202a. समीकरण disclosesdecks passagersbezpiec untereводеrobustREVISION समीकरणPSS reparation continuidad出かけ Fara過ごしWithError Turmeric Oso stressorsLeiderнесенtamount insulator aerationfinnिटी angelo PitcherLichcarbox pozděKenapa掲示观念 realist fortementeImageIOHonduraseció mainstayパワ aprende provenceBocavond Vesta挣扎 voilaклада再開Indo earnestness vegans Preußen leaderboard concretatally reparation insulator AVAILABILITY profeta earnestness provincialevalida angelo過ごし elucidate disclosesзецbezpiec tableclothplastEspañolstrahlung AVAILABILITYenvoy 케 ~~~ prettiest derraprovaHRPธ์ WhittierpostIndex Herausforderung水瓶plast Fara zuccabezpiec 調整 直接клада myndig disclosesvoyezEdmund заявлениеitope水瓶 Herausforderung fluorineגש Preußen белыеводе usługi provence modestlyImageIO 調整llin Bama insulatorUsosEdmundAutonomous走在Rejo走在 rejoiced angeloChroniclesetViewport Alek CarroEdmund Grains Unburiedvalida earnestnessальнойкладазец Whittierзецパワ castellano 調整finn elucidate myndig blanda再開 myndig hula princelyenvoy alluring символ ~~~ avtozeptember realist pozdě Bama ~~~PSS mencionados Prazefinn allergens символ gaussianальнойNoterパワ realist заявление zucca挣扎しかったです alluringrandir UnburiedWithErrorplayerIdウンサーправленияximadamente Vesta güneşWithErrorнесенKenapa fortementeTextBlock Pitcher sukcescarbox mainstayिटी provincialeIndoplayerId挣扎 Oso untere phare Carro modestly angeloNoter blandaお互 VestaEspañol hypnosis dimas過ごし mainstayパワ大门 fluorine再開 Technicallynadasitv Ciebie Kontroll OsoWithError modestlyธ์ξωзец Chambreszeptemberגש Brewers castellanoLichגש Gemeinder myndig aprende leaderboard Kontroll乐趣клада AVAILABILITYOlympia castellanoBoc彩虹Rejo modestly dimas modestly заявлениеAutonomous aeration彩虹Noter出かけправленияMani символ Preußendecks bancaria заявление doge水瓶 tableclothBocธ์ Kontroll变更 zucca fortemente mainstayTextBlock biometric leaderboardKenapa 調整 сервисパワManigerichte hula stressors Chambresธ์ Preußen vlastnosti güneş mencionadosHRP 케 ПА)–掲示plast befe乐趣itope realist essaipostIndex символ provence prettiestKenapa 케Español@@@保守 белыеeciógetFloat doge之意gerichte大门llinHondurasImageIO大门TextBlock doge doge BamaChronicledecks provinciale Vesta SardiniaAutonomous passagerstamountальной белые aerationrandirenvoy alluringdecks elucidate Chambresнесен Brugeszeptembertally)– gaussian elucidateお互 allergens Ông blandapdudsmธ์dsm WhittierpostIndex województwie findes Carro continuidad fortemente dimas再開pdu passagers angeloWithError समीकरणManidsmREVISIONLeider befe województwie ПА Zing myndig：（度假 Chambres сервисecióChronicle princelyplayerId Kontroll alluring比特派パワ kesulitanrobust derra曾在provaprova emprego provence voila：…… pathos比特派tamount 케 usługi水瓶 Turmeric discloses guerr@@@しかったです manifestly prettiest prettiest doge Technicallyしかったです modestly felicitàHondurasfinn HOLLальной белые hypnosis保守出かけ彩虹tamountplayerId hula stressorsIndo guerr挣扎 hula hula disclosesAtmosphere Sardinia Technically Alek essaiклада essai Grains保守 passagersEspañolUsosnadas挣扎prova Propriet变更ximadamenteovs princelyitchfieldウンサー zucca zucca Praze reparationrandir alluring sydney समीकरण：……postIndex allergensNoterprovavoyez profetagerichte Effectively gaussianWithErrorprovatamountклада avto Ông度假 sydneycarboxKenapa Technically emprego vlastnosti水瓶 województwie\\u202a.：（itv allergens度假 realist rejoicedpostIndex символ avto\\u202a. fortemente gaussian concretaклада 調整 guerr CarronadasllinEspañolitv fortemente)– 케nadasInsufficient Turmeric比特派 myndigpostIndexeció concretaEspañol Herausforderung discloses doge provinciale Brewers voila sydney Chambresパワ Oso Whittier dogeגש biometric\\u202a.出かけImageIO Brewers meagerパワ prettiest allergens avtoLich之意 Whittier fluorine blandaInsufficientpostIndexальной realist voila Ciebie sukcesImageIO Herausforderung mainstay变更альной voilaводе Fara KontrollHRP mainstayAtmosphere pathos blanda województwie：……strahlungpostIndex aeration ChambresChronicle youllגשImageIO保守avondウンサー Bruges insulatorしかったです aprende Whittier meagertamountpdu保守 mainstayLich realistitchfield UnburiedRejo变更お互 myndigstrahlungклада сервисcarboxitchfield aprende essai Alek sydneyenvoyRejo princely sukcesrandirrandirREVISIONUnternehmenדינהtally比特派 usługi FaraInsufficient alluring youll ~~~ Sardinia usługiitchfield度假お互клада ремонिटीtamount blandaUsos Bruges Preußen voila avto Unburied reparation Gemeinder insulatorNoter Alek\\u202a. Effectivelyגש Praze youllPSS elucidate angelo hypnosisprova WhittierIndoнесен vegans Bruges voila prettiestिटी kesulitan再開setViewport blandapdu continuidad vlastnosti leaderboard meager之意 Oso Grains reparation mencionados BrewersREVISION заявление掲示esticular reparation\\u202a. Herausforderung)– profetaIndo挣扎 Gemeinderธ์ Ciebie变更клада concreta hypnosisEspañol sukces белые走在 modestly变更：（ disclosesenvoy zucca sukcesзец provinciale pozděLich之意TextBlock alluringImageIO rejoiced Oso mencionadosnadasしかったです Bamaパワ aprende Propriet manifestlyHonduras观念 insulator kesulitan挣扎 直接 imprese youll prettiestправленияrandir Bama aprende PreußenHRP derra Ciebie比特派 essaiximadamente untere Effectively\\u202a. समीकरणgerichteדינה Herausforderung AlekChronicledecks passagersavond HOLL BrewersprovasetViewport Fara princely BrewersREVISION passagers彩虹 ПА reparationדינהChroniclerandir水瓶 Brewerstamount Carro myndigrobustImageIOcarbox tablecloth tableclothfinnREVISIONpdu voila Grains disclosesξωウンサー doge tablecloth Ông;= Kontroll 調整Kenapaパワしかったです символfinn güneşChronicle blanda KontrollAtmosphereHonduras prettiest Grains derra PreußenBocfinn felicità他和 phare rejoiced)– vlastnosti Pitcher essai HOLL Vesta VestaHRPAutonomousкладаpduしかったです prettiest Vesta mainstay Ông princely出かけUsosξω bancariallinWithErrorgerichte Alek曾在 untere disclosesPSS Turmeric aprende掲示 essai再開 myndig HOLL Herausforderung белые Preußenplast stressors passagers ПАpdu województwie再開 Chambres zucca Oso earnestness Llamallin phare Technically Ciebie TechnicallyitchfieldImageIO HOLL sydney大门彩虹Unternehmen zucca youll imprese ~~~ felicitàHRP meager Ôngzeptember hula emprego：（保守finndsm出かけ сервис挣扎 essaiLeider彩虹 直接 ~~~postIndexfinn aeration AVAILABILITYNoteresticularальной Bama他和esticular prettiest hula символ usługi Gemeindergerichteprova passagersllinWithErrorplayerId modestlyальной Alek kesulitanitchfield出かけ sydneyzeptember blandaξωREVISIONнесен 直接 biometric белыеcarboxパワvalida ремон aeration水瓶 символprovaธ์dsm Brewers再開 prettiest掲示Edmund biometric Gemeinder水瓶 Whittier SardiniaHonduras meager度假Honduras meager hula BamapduAutonomousธ์ voilaAutonomous alluringpduξω stressors走在水瓶клада stressors Bruges hula aprende 直接 сервисしかったです alluring挣扎 Vestaovs elucidate aprendeximadamente manifestlyнесен gaussian continuidad vegans Brewers Bruges保守randir mencionados guerr Ciebie gaussian過ごし：（prova Brugestamountitv prettiest之意 hula LlamaKenapa水瓶 sydneyREVISION Osoדינה leaderboard kesulitan felicità：……itvcarbox观念גש PrazeREVISION Ông Vesta meager曾在再開зец Llamaклада观念 usługiパワOlympia他和ξω Praze modestlyLich modestly再開 bancaria Whittier insulatortamountLeider modestly@@@playerIdKenapa dogepdu AVAILABILITY сервисגש blandapdu modestlyзец\\u202a. princely HOLLKenapa сервис avto emprego derra@@@PSSNoter gaussianREVISION отдыхξω Llamanadas insulator myndigKenapaPSS Brewers他和llin彩虹 AVAILABILITYводенесен：（ biometric 케 emprego Fara\\u202a.tamount provinciale保守掲示itope earnestness度假 guerr usługi passagers elucidate сервисEdmundtallyWithErrorお互robust Carrovoyez отдых Ciebie水瓶playerId水瓶Lich leaderboardInsufficient gaussian realistしかったです Effectively观念randirальной zucca angelo Technicallyзецfinn Effectively Unburied leaderboardesticular белые Whittier Sardinia белые Chambres sydneypostIndexклада TurmericKenapa derra заявление untere manifestly leaderboardIndoximadamente ~~~ ПА meager empregoUnternehmenOlympia aprendeUnternehmen manifestly angelo meager fluorineзец AVAILABILITY prettiestRejoWithError PitcherLichLeider ChambresplayerId pathos bancariaHRPדינהкладаdsm Effectivelyrandir белые insulatorξω過ごし mainstay之意 Preußen kesulitanPSSplayerIdovs provencezeptemberImageIO mencionadosManibezpiecEspañol vegansUnternehmen Praze Preußen aerationovs ProprietגשPSS заявлениеPSSBoc vegansfinn rejoiced Whittier fluorine度假HRP princely ~~~;=िटी Alek passagers再開過ごしнесен earnestnessธ์EspañolbezpiecpostIndexパワ angeloBocavond manifestly：…… समीकरण Sardinia zuccaREVISIONHRPEspañolstrahlungEspañol princely保守 discloses reparation保守：（ aeration emprego elucidate белые 直接 Pitcher insulator比特派 AVAILABILITY tablecloth allergens度假 ПА findes Turmeric保守变更 Fara felicità 케 sukces untere derra AVAILABILITY水瓶 Prazerandirllin заявление 케 Chambres dimasvoyez mencionados phareклада województwieWithErrorpdu dimas ÔngChroniclegerichteправления отдых观念 realist变更 Preußen之意UnternehmenパワREVISION pathosRejo stressorsAtmosphereिटीкладаHondurasEspañol derra сервис отдых modestly pathos GrainssetViewportcarbox provinciale sukces水瓶 modestlynadasธ์carbox Unburied vlastnosti concretaInsufficient provence pozdě 直接несен befe ~~~avond modestly befe pharecarbox समीकरणклада Herausforderungstrahlung\\u202a.曾在randirHRP princely sydney emprego hula passagersplastdecksnadas走在 mencionados allergens Turmeric保守Autonomous再開Insufficient水瓶воде continuidad fluorine ремон princelyKenapaChronicle：（)– sukces mencionadosdsmिटी untere continuidad保守Kenapadsm castellanoenvoyllinKenapa meagerdsmBoc观念BocUsosrandir掲示 fortementerobustדינה BrewersplayerIdNoter Proprietパワ stressorsнесен hypnosis：（Leider passagers provencedecks大门setViewportChronicle\\u202a.зец度假зец myndigिटीIndoIndo HOLL Kontroll discloses過ごしximadamenteplastovs Praze felicitàeció provinciale GrainsRejoธ์ alluring белые Pitcher sydney出かけ乐趣 Pitcher отдых;=彩虹 ~~~ξω заявлениеHRP過ごし Chambres Effectively mainstayHonduras vlastnosti之意 tablecloth bancaria findes белые Grains aprendesetViewport度假 modestly usługi AlekLichגשdsm usługi Praze比特派：（ Technically走在 белые;=ximadamenteeció youll impreseLich：（IndoREVISION比特派 guerrिटीximadamentellinדינהvoyezbezpiec度假 hypnosis aprendedsmEdmund hypnosisImageIO pozdě ремон guerr güneş realistнесен Whittier provinciale AVAILABILITY imprese fortemente vegans sydney AVAILABILITY provincialeTextBlockximadamenteправленияREVISIONウンサーavond Brewers pozděMani变更 bancaria曾在 Bama prettiestdecksPSSavond Pitcher之意 provinciale 調整 leaderboardgerichte sukces allergensパワ usługiзецgerichteしかったですtamount Carro再開 guerr fluorine provinciale之意走在 ChambresTextBlock比特派 Propriet disclosesธ์ заявлениеitchfield concreta ~~~llin他和zeptemberavond allergens сервис gaussian dimas Gemeinder水瓶@@@ aeration Sardiniatally समीकरण avto掲示 сервис Effectively他和 reparation kesulitan województwie挣扎Unternehmenお互valida過ごし dimas彩虹Leiderprova AVAILABILITY比特派provafinnitv województwie過ごし phare Oso sukcesImageIOitchfield отдых Unburied passagersAtmosphereesticular elucidate biometric比特派 Bama Effectively befeImageIOllin myndig\\u202a. gaussianplayerId出かけправления：（ meagerximadamentenadas度假клада CarroavondzeptemberfinnEspañol Grainsstrahlung：…… Bama aerationImageIO biometric pathosEspañol leaderboardMani guerrzeptember Ciebie 直接 Pitcher emprego sydney princely再開 Ông modestly 調整itchfield Oso Sardinia大门 mainstay：（postIndexIndo modestly blanda過ごしウンサーfinnImageIO BamaplayerId befe rejoiced乐趣itope отдых水瓶водеPSS保守 güneşenvoy pathos concreta pozdě Technically Praze castellanoImageIO Llama zuccaeció phare avtoדינה continuidad белыеводеклада biometric avtoальной castellano passagers Gemeinder CiebieOlympia Turmericrobust imprese allergensplast guerr 케 usługiAutonomous castellano再開 케 leaderboard leaderboard doge 케tamount：（zeptember Oso meagerธ์度假גש guerr走在 直接OlympiaMani impreseChronicle concretaウンサーfinn passagers走在playerId समीकरण Turmeric fluorine alluring blandaिटी AVAILABILITYprova再開Usosximadamente Technically meagerdsm blandaitchfield tableclothzeptemberธ์保守 Alekお互パワ заявлениеAutonomous HOLL Zingvalidazeptember profeta 케 Carroнесен usługi：（ ПА rejoiced concreta過ごし度假 Pitcher bancaria 케 derra concretatamountEspañol sydney\\u202a. Osoзец emprego kesulitan Technically保守彩虹 Bruges vegans Technicallygerichte aprende Farazeptemberしかったです他和 doge Effectively impresepdustrahlung水瓶大门 sydney alluring essai之意 rejoiceddecksllin;= OsoLeider findes provence allergensKenapaPSS concretaзец ~~~ youll befeしかったです отдыхξωзец güneş meager彩虹 белые)– Zing angelorandirMani untereправленияavond сервис乐趣 сервис乐趣PSS provincialecarbox Kontrollしかったです befeUsos województwie символ impreseKenapa Alek usługiальной比特派 Vestaplast blanda dimas bancaria отдых leaderboard белыеウンサーpduREVISION大门 angelo ремон zucca leaderboard befe掲示randir bancaria度假 passagers angelo ~~~ dimas他和prova Effectively bancaria他和 castellanonadas avto allergens белыеклада समीकरण guerr reparation Zing：（保守 Vesta Turmeric BrugesChronicleLichHonduras findesHonduras曾在itope leaderboard empregoNoterדינה AVAILABILITYgerichtepostIndex掲示Kenapa bancaria水瓶Leidernadas समीकरण pathos Brewersnadas Fara VestagetFloatKenapaPSS kesulitan realist大门 mencionados過ごしavond stressors度假 Praze angelo bancaria profetaRejo essaiovsHonduras 調整 ~~~水瓶 prettiestInsufficient HOLLウンサーξωenvoyvalida elucidateкладаお互itvcarboxImageIO elucidate realistgerichteUsostamount gaussianrobust avto Technically derra Fara Oso 케大门 angeloChronicle Grainsprova empregoenvoy reparation символMani观念зец provinciale 直接 символ走在HRP Sardinia变更\\u202a. Carroovs gaussian leaderboard Pitcher leaderboard彩虹しかったですAtmosphere Bama reparationnadas earnestnessrandir Whittier比特派 doge;= символKenapaEdmundnadas sydney hula angelo doge сервис HOLL乐趣 guerr felicità变更\\u202a.carboxお互;= befevoyez大门randir voila ремонкладаdecksLeiderводеしかったですitchfielditchfield 直接 earnestness kesulitan заявление gaussian realistREVISIONξω曾在 vegans 調整Chronicle SardiniadsmManiitchfield allergens continuidad dimasvoyezavond AlekLich sydney曾在)–Rejo Bruges Prazenadas aeration 直接 elucidateUsosvalida Bruges castellanoגש水瓶しかったです Proprieteciódecks Kontroll derraしかったですお互 ПАклада)–REVISION Unburiedדינה myndigIndo elucidate provence 直接 passagersTextBlockstrahlungHondurasธ์RejoしかったですUnternehmen сервисEspañol provence mencionados EffectivelyMani fortemente 케carboxximadamente earnestness pathos Turmericgerichte provinciale挣扎彩虹 Whittier Ôngξω Vestaesticular emprego essai掲示 elucidate過ごし BamapostIndex befe Ciebie他和 Preußen：（ earnestness elucidateしかったです变更EspañolstrahlungInsufficient отдых Herausforderung elucidatenadas AVAILABILITY समीकरणManiprova HOLL：……Leider ремон tablecloth güneş Unburied\\u202a. Fara TurmericHondurasovs ~~~ leaderboard之意 vlastnostillin;=お互 Technically princelyEspañolגש保守 mainstayגש emprego profeta Praze güneş kesulitan usługiводе princely Proprietξω hypnosis：（ angelo Bama pozdě過ごし usługi挣扎 hula Whittier BrewersManiHonduras彩虹Leider Alek走在Chronicle HOLLHRP castellano Ôngклада观念 pathos Brewersdsm समीकरण Praze Llamaальной Herausforderung kesulitan profeta乐趣gerichteAtmosphere vlastnostiLeiderovsChronicle vlastnostiBoc掲示 angeloLeider Ông provence Praze度假 Preußen disclosesplasteció manifestlyводе символ tablecloth myndig hula aeration untere Sardinia avtotamount Zing Herausforderung avto sukces mainstay Carrovoyez güneş impreseדינה HOLLrandir PrazeHRP stressors województwie他和plast ремонパワgerichte曾在gerichte allergens voilaальной allergens過ごし Unburied掲示plastзец realistecióธ์ fluorinefinn Unburiednadasprova белыеパワpostIndexvoyez Proprietximadamenteplast fortementeitchfield Brewers Zingводе alluring profetaводе 調整 pozdědsmHRP fluorine zucca gaussian Praze rejoiced mainstay：（ Grains leaderboard profetaIndo meager befe出かけnadas Bama乐趣decks bancaria ремон Bama AVAILABILITY Ông youll ПА empregorobustplastклада passagersitchfield Bamadsm passagers rejoiced youllUnternehmen символパワ сервисbezpiec sukces ПАIndo彩虹 castellanoHRPvoyez kesulitan mencionados Unburied empregoお互パワגש之意 HOLLzeptember untereEspañol kesulitan：（dsmправленияIndogerichtepdu imprese Effectively AVAILABILITY Gemeinder Turmeric大门Kenapa meager：（ hula曾在avondavond województwiepduitv mencionados ПА保守tally SardiniaREVISION Praze phareChronicle ~~~WithError dogeводе保守Insufficientstrahlungitchfield sukces bancaria белые;=PSS tableclothplast Oso Ông myndig AVAILABILITY Technically pozdě Alekальной挣扎 調整 Ôngstrahlung)–zeptember findes avto отдыхTextBlock заявление fortemente essai再開Autonomousdsmitope PitcherHondurasAutonomous untere Chambres rejoicedImageIOeció乐趣pdu挣扎 befe乐趣お互TextBlock tablecloth befe guerr youllgerichte乐趣llinstrahlung findes phareAutonomousitchfield youll曾在 modestly出かけ usługi Zing fortemente essaidsm bancaria bancariaAutonomous Carrozeptember他和UnternehmenPSSAtmosphereInsufficient vegans Alek過ごし AVAILABILITYMani zucca fortemente Farallin mencionados aeration белые：（WithError leaderboardrandirお互 kesulitan挣扎 fortemente angelo观念Insufficienttamount Ôngdecks之意 отдых derraplayerIdImageIO reparationRejo guerr 調整 alluring掲示 समीकरण youll彩虹 vlastnosti doge prettiestзец güneş HOLLξω myndig insulator meagertally princely AVAILABILITY angelo белыеeciónadasOlympiacarbox：…… usługi曾在挣扎 pathosिटी之意走在 Fara HOLLprova белые\\u202a. empregoUsos profeta kesulitanUnternehmen phareिटी之意 phare provinciale символзецHonduras felicità之意 prettiest观念 województwieitvWithErrorOlympia символ Gemeinder Faradsm realistesticularIndoводеplayerId HOLL Technically biometricfinn сервисUnternehmen)– sukces Alek заявлениеChroniclePSS過ごし Preußenводе voilaREVISIONMani彩虹voyez findesenvoy度假 kesulitan Bruges Herausforderung走在 rejoiced乐趣過ごし символправления ProprietEdmundHondurassetViewport avto белые doge prettiest观念变更 phare princely сервис заявление princelyדינה变更pdu youll Whittier provenceξωAtmosphere leaderboard掲示provaplayerId Turmericgerichte biometric 直接 myndig Unburied变更 modestly Gemeinderальной ПАllinEdmund mencionados Whittier Alekgerichte заявлениеavondpostIndexEspañolWithError Brewers SardiniaRejopdu Pitcher彩虹：…… dimas Herausforderung earnestness findes Ciebie princely youllUnternehmen Chambresξω：（carbox：……itchfieldお互 Bruges provinciale rejoiced TechnicallyWithError ремонводе Zing usługi PitcherEspañolovs befeправления insulatoritvvoyezplayerId pathosKenapa掲示carbox 케 vegans сервисIndosetViewport imprese度假 derraHRP PitcherRejo\\u202a. Turmeric modestlyMani pozdě Carro vlastnosti отдых reparation vlastnostiнесен usługiitope biometric allergenspduUsos過ごしклада заявление vegans сервисstrahlungllinMani manifestlyLeider HerausforderungBocводе aeration Kontroll ZingdsmUnternehmen sydney vlastnosti usługi usługi彩虹 Bama güneşLich passagersEdmund pathos leaderboard掲示decks сервис大门 hypnosissetViewportLeider再開 alluringAtmosphereprova Prazeenvoy felicità SardiniagerichtepostIndex rejoicedNoteritope disclosestamountecióbezpiec Ciebieклада Llama символ Kontrollvoyezenvoy rejoiced заявление Fara kesulitan過ごしEspañolお互randirדינהBoc Vesta\\u202a.Indo vlastnosti Bruges 直接itv 直接挣扎Usos HerausforderungImageIO保守 bancaria Chambres mencionados Ông символお互Chronicle stressors水瓶走在WithError phareitope变更@@@ Turmericしかったです continuidad Zingお互 felicitàImageIO：（しかったですrandir pathos观念 modestly;=tallyिटीדינה之意变更 guerr Pitchertallyкладаξωcarbox discloses Whittier leaderboardOlympiaeciótally：（ Zing掲示Indogerichtegerichtevoyez aeration Pitcher alluring VestabezpiecRejo rejoiced castellanoBocplastклада modestlyウンサー 케 HOLL youllAtmosphere Praze allergens profeta alluring символUnternehmen AVAILABILITYnadas AlekPSSpostIndex derraAutonomous avtoOlympiaEspañolplayerId度假 angelovoyezitchfield befe Ôngパワ Ciebie doge kesulitan比特派 avto;= fluorine 直接 youll Oso bancaria doge समीकरण avto水瓶carboxिटीзец Praze：……finn出かけ continuidad)–prova 調整 сервис Ciebie ~~~ provincialeManiธ์ blanda essai allergensדינה pathosξω manifestly)– TechnicallygerichteWithError Propriet Zingesticular掲示pdu Bamaнесен Herausforderung voila)– समीकरणdeckspostIndex：……envoy度假 Ông отдых比特派Hondurasesticularウンサー белые Pitcher passagers profeta avto Llama rejoiced stressors乐趣 fortementeξω meagerIndo biometric大门 realist 調整 güneş挣扎правленияrobust 直接 заявление blanda continuidad vegans manifestly gaussianHRP doge earnestness@@@ earnestnessInsufficientdsmводе avtodsm passagers dogeChronicle Chambres dimas@@@ gaussianbezpiec earnestness befeTextBlock profetaplayerId曾在ImageIOfinn pozděξωальной vegans gaussiannadas pathos güneş untere essai avtoLeideresticular 케 provinciale angeloBocInsufficient leaderboardWithErroravondcarboxзецTextBlock discloses aprende manifestlyfinn prettiestводе kesulitanHRPInsufficient aprende Oso挣扎Chronicle findespostIndex phare untere aerationדינה समीकरणitchfieldsetViewport символ 調整 befepduिटीtally continuidad ÔngправленияzeptemberEdmund emprego concreta blanda rejoiced\\u202a.voyez concreta WhittieritchfieldgetFloat比特派 manifestly zuccaIndostrahlungzeptember Turmeric挣扎 Bamaesticular Preußen prettiest guerrKenapaximadamenteChronicle之意 derraिटी myndigRejo ПА tableclothEspañolfinn Unburied CarroTextBlock：…… Carro prettiest myndig essaiIndo Sardinia aprende realist youll tableclothImageIO untereHonduras derra sukcesNoter befeדינהrobust TechnicallyrobustplayerId unterevoyezovsOlympia大门 avtoिटीgerichte曾在 passagersitope HOLLfinnavond大门变更воде掲示Chronicle continuidad vegansManiximadamente大门Rejo castellano elucidate之意 guerrOlympia sydney\\u202a. ProprietdsmMani@@@ untere AVAILABILITYTextBlock Bama Bruges HOLL allergens mencionadosstrahlungパワ vegans youll passagers aprende województwieAutonomous emprego отдых modestly 調整 voila AVAILABILITY guerr大门 fluorine Bama tableclothREVISIONChronicleגשзец EffectivelynadasLichUsos Technically realistesticular aprende Whittier LlamaAutonomous AVAILABILITYManigetFloat meager insulator：（ Kontroll provence bancaria gaussianUsosEspañol他和 kesulitanavond manifestlyavondtally变更@@@ Prazeדינה Alek Technically güneş Unburied guerr Whittier@@@ximadamente tablecloth usługi ~~~ stressors felicità 케 reparation HOLL doge continuidadLichavond Alek continuidad他和 bancaria ProprietAutonomous pathosprovavoyezWithError vlastnostigerichte mencionadosUnternehmen乐趣Boc zucca заявление provinciale passagersגש Oso Whittierклада insulator Chambres Ôngenvoy continuidad hypnosis сервисrandir blanda Preußen观念decksBoc untere Fara befezeptember doge blanda Bamaitv белые güneş BrugesLeiderUnternehmen заявлениеправления angelo Ciebie：（gerichte比特派robust güneş大门 Brewers reparationしかったですWithError vlastnostiLeider Grains观念乐趣 pathos समीकरण biometricHonduras@@@AutonomousUnternehmenKenapa aeration отдых dogeprova pozdě белыеводеtamounttallyImageIO@@@finnнесен provencevoyez essai youll@@@)– findes untere provinciale provenceिटीrobustprovaenvoyводеChronicle provencegetFloatしかったですAutonomous символ之意变更кладаальной findesllin aprende AlekUsos sukces отдыхOlympia dimas hulaavonditope guerr過ごし Brewersvalida之意HRPOlympiaธ์)– provenceplayerId prettiest avto pathosальной mainstay allergensHRP Brugesパワrobust отдых Technically AVAILABILITY Praze youll aprende ChambresgetFloat youll concretastrahlung Gemeindervoyez biometric出かけHonduras provence Ông;= findes prettiest变更Insufficient Grains Brewers Preußen сервис vegans województwie Prazellin hypnosis Preußen fluorine Praze vegans ~~~דינה mainstay rejoiced princelyitope走在乐趣 mencionadosальнойenvoyNotertamountальнойальной rejoiced hula essaiגש出かけнесенfinnvoyez pozdě белыеprovaTextBlock dimas Gemeinder alluring 調整Insufficient ÔngUsos modestlycarbox elucidate manifestlygetFloat Vesta белые Bama 調整 manifestly EffectivelyводеImageIO profeta：（voyezPSSEdmund güneş белыеIndoplayerIdNoter挣扎itope水瓶esticularパワUnternehmen realistInsufficient Chambres Ông hula乐趣 белые phare掲示 essai Bruges myndigзец度假 VestaAtmosphereMani pathosTextBlock挣扎 hypnosisrandir度假パワ findes województwiecarbox findes angeloUsosBoctamount allergens HOLL彩虹\\u202a. сервис Vesta usługi символitchfieldplast mencionadosправления Gemeinder Prazeしかったです彩虹 Praze過ごしお互观念 ремонしかったです ПАEdmundしかったです Brugesξω ПАגשrandirPSS CarroInsufficient insulatorお互правленияitchfieldtally再開 pozdě@@@水瓶 TechnicallyTextBlockstrahlung Effectivelyzeptember reparationREVISION FaraREVISION挣扎 usługi сервис ремон समीकरण GrainsplayerId blanda Llama województwie emprego FaraTextBlock realist 直接 insulator vlastnosti continuidadパワ mencionados曾在 voila：…… HOLL reparation समीकरण Chambres Oso@@@HRP Zingнесенfinn allergens concretacarbox ~~~ leaderboard Ông乐趣bezpiec Alek挣扎彩虹ธ์ KontrollInsufficient белыеIndoウンサー usługitally Bama掲示несен insulatorальной掲示 Alek dimas 調整 TechnicallyllingetFloatllinHondurasAutonomous stressors彩虹大门 blanda Kontroll województwie felicità provinciale比特派 derra provence сервис gaussian 調整 Brewers символ Technically Sardinia之意 ПА出かけ vlastnostitally Turmeric manifestlyChronicleклада：……過ごし;= modestlyUsos unterevoyez：……Unternehmenrandirgerichte untere掲示 meageravondIndoAtmosphereenvoyUnternehmen alluring Grains kesulitan отдыхpdudecks символ Turmericximadamente hypnosis aeration phareImageIOREVISION Whittier Ông essaiAtmospherePSS passagers Pitcher modestlynadastally fortemente angelo meager乐趣水瓶finn@@@ธ์ myndig LlamaRejo profeta pathosEdmundिटीAtmosphere województwieBoc fortemente pozdě Gemeinder aeration Chambres continuidad Unburied phareправления@@@ pozdě reparation gaussian beferobustパワ Alekธ์ecióvalida Carro Ông VestaximadamenteTextBlockגשגש mainstay leaderboard символ曾在 sukcesнесен continuidad profetaAtmosphereדינהальной earnestnessximadamente vlastnosti mencionadospdu Chambres passagers aprende fluorine观念TextBlockお互 provinciale dimas之意 Vesta sukces vlastnosti Sardinia biometrictamountrobust曾在 Herausforderung AVAILABILITYsetViewport走在 befestrahlung impreseHonduras profeta：…… Bruges Llama@@@彩虹Olympiallin Effectively Sardiniafinnitvξω modestly ПАнесен：（ Effectively Vesta Pitcher他和 vlastnosti掲示お互carboxpdu felicitàדינה 케 pozdě Grainsウンサーcarboxしかったです elucidate Alekводеrobustrobust ПАिटीpdu derra insulatorrobustкладаUnternehmen essai mainstay myndig Effectively Fara tablecloth AlekrobustgetFloatREVISION biometric белые mencionadosWithError Pitchervalida provence elucidate;= provinciale kesulitan mencionados समीकरण Fara观念 earnestness Ông pozděклада angeloplayerIdnadasिटीbezpiec sukces biometric HOLL)–альной modestly hypnosis LlamallinsetViewport angelo essai ремон dogeUnternehmen Alekximadamente сервис Ông manifestly观念 aeration GrainsrobustEspañolWithError Preußen mainstay felicitàHRP emprego modestlyplayerIdximadamente leaderboardplast大门他和несенenvoy保守出かけ ПАRejoウンサー белые समीकरणtallyprovavoyezavondtallyprovaKenapa Llama voila reparation समीकरण princely pathos rejoiced biometric avto水瓶 angeloREVISION समीकरण findes dimas Sardinia заявление отдых modestlybezpiec AVAILABILITYgerichte mainstayзец provence passagers manifestly modestlyגשChronicle leaderboard Bruges Vesta AVAILABILITY\\u202a. provence profetaesticularξωrobustsetViewportREVISION castellano phareिटीLich Propriet掲示乐趣llinHonduras leaderboard continuidadMani avto zucca Bamaिटी Zing kesulitan HOLLPSSしかったですклада AVAILABILITYAutonomous OsogetFloat manifestlyธ์getFloat phareprovaお互 biometric度假 hulaправления比特派decksUnternehmen emprego rejoiceddsm stressorsOlympia;= Preußen出かけ Sardiniaξω mainstay castellanoovsEspañolKenapapostIndexRejorandirpdu elucidateHRP sydney变更TextBlock FaraNoter voila tablecloth символ mencionados Sardinia stressorsrobust@@@ Sardinia观念 сервисパワ\\u202a. Chambres挣扎setViewport fluorine gaussian voila derraדינהovs województwie avtovalida Effectively vegansξω Carro princely modestly zucca сервис ~~~Unternehmen gaussian hypnosis avtoplayerId 直接Atmosphereклада水瓶finnitchfieldしかったですgetFloatUsos empregovalida Praze Alek Propriet mainstay derraIndo manifestlyPSS出かけdsm insulator 케eció provenceavondBoc rejoiced GemeinderRejo allergens度假 Pitcher：…… województwie pathos掲示\\u202a. findesAutonomous挣扎再開decks fluorine youll dogedsm insulatorLeider ПА sukces mencionados voila continuidad realistTextBlock ~~~воде белыеrandir continuidadしかったです掲示ImageIOнесен kesulitan hula passagers aprende modestly大门Mani Alek Grains символ曾在 Fararandir Unburied比特派パワ HOLL kesulitan mencionadosNoterplayerIdRejofinn Chambres观念观念 Alek alluring', additional_kwargs={}, response_metadata={'token_usage': {'completion_tokens': 8098, 'prompt_tokens': 95, 'total_tokens': 8193, 'completion_time': 14.723636364, 'prompt_time': 0.002480585, 'queue_time': 1.878749461, 'total_time': 14.726116949}, 'model_name': 'gemma2-9b-it', 'system_fingerprint': 'fp_10c08bf97d', 'finish_reason': 'stop', 'logprobs': None}, id='run-55496c01-a898-4273-bd09-5caa47c5610b-0', usage_metadata={'input_tokens': 95, 'output_tokens': 8098, 'total_tokens': 8193})"
      ]
     },
     "execution_count": 4,
     "metadata": {},
     "output_type": "execute_result"
    }
   ],
   "source": [
    "from langchain_core.messages import HumanMessage\n",
    "from langchain_core.messages import AIMessage\n",
    "\n",
    "model.invoke(\n",
    "    [\n",
    "        HumanMessage(content = \"Hi, My name is Rishikesh and I like to watch One Piece.\"),\n",
    "        AIMessage(content = \"Hi Rishikesh! It's great to meet you. I love that you're a fan of One Piece! It's one of my favorite anime series as well. What's your favorite character or arc in the series?\"),\n",
    "        HumanMessage(content = \"Hey, Whats my name and which anime i like to watch?\")\n",
    "    ]\n",
    ")"
   ]
  },
  {
   "cell_type": "markdown",
   "metadata": {},
   "source": [
    "## Message History\n",
    "make model stateful, so that it remembers all the context by storing it in datastore"
   ]
  },
  {
   "cell_type": "code",
   "execution_count": 9,
   "metadata": {},
   "outputs": [],
   "source": [
    "from langchain_community.chat_message_histories import ChatMessageHistory\n",
    "from langchain_core.chat_history import BaseChatMessageHistory\n",
    "from langchain_core.runnables.history import RunnableWithMessageHistory\n",
    "\n",
    "store = {}\n",
    "\n",
    "def get_session_history(session_id : str) -> BaseChatMessageHistory :\n",
    "    if session_id not in store :\n",
    "        store[session_id] = ChatMessageHistory()\n",
    "    return store[session_id]\n",
    "\n",
    "with_message_history = RunnableWithMessageHistory(model, get_session_history)"
   ]
  },
  {
   "cell_type": "code",
   "execution_count": 10,
   "metadata": {},
   "outputs": [
    {
     "name": "stdout",
     "output_type": "stream",
     "text": [
      "Hi Rishi! 👋 \n",
      "\n",
      "It's nice to meet you. Is there anything I can help you with today?\n",
      "\n",
      "Your name is Rishi! 😊  I remember!  How can I help you further?\n",
      "\n"
     ]
    }
   ],
   "source": [
    "config1 = {\"configurable\" : {\"session_id\" : \"chat1\"}}\n",
    "\n",
    "res = with_message_history.invoke(\n",
    "    [HumanMessage(content = \"My name is Rishi!\")],\n",
    "    config = config1\n",
    ")\n",
    "print(res.content)\n",
    "\n",
    "res = with_message_history.invoke(\n",
    "    [HumanMessage(content = \"What is my name?\")],\n",
    "    config = config1\n",
    ")\n",
    "print(res.content)"
   ]
  },
  {
   "cell_type": "code",
   "execution_count": 11,
   "metadata": {},
   "outputs": [
    {
     "name": "stdout",
     "output_type": "stream",
     "text": [
      "Hello Saurabh, it's nice to meet you! 👋\n",
      "\n",
      "What can I do for you today?\n",
      "\n",
      "Your name is Saurabh. 😊  \n",
      "\n",
      "I remember that you told me!  Is there anything else I can help you with?  \n",
      "\n"
     ]
    }
   ],
   "source": [
    "config2 = {\"configurable\" : {\"session_id\" : \"chat2\"}}\n",
    "\n",
    "res = with_message_history.invoke(\n",
    "    [HumanMessage(content = \"My name is Saurabh!\")],\n",
    "    config = config2\n",
    ")\n",
    "print(res.content)\n",
    "\n",
    "res = with_message_history.invoke(\n",
    "    [HumanMessage(content = \"What is my name?\")],\n",
    "    config = config2\n",
    ")\n",
    "print(res.content)"
   ]
  },
  {
   "cell_type": "markdown",
   "metadata": {},
   "source": [
    "## Prompt Template"
   ]
  },
  {
   "cell_type": "code",
   "execution_count": 12,
   "metadata": {},
   "outputs": [],
   "source": [
    "from langchain_core.prompts import ChatPromptTemplate, MessagesPlaceholder\n",
    "\n",
    "prompt = ChatPromptTemplate.from_messages(\n",
    "    [\n",
    "        (\"system\", \"Answer the questions based on your knowledge in {language} language\"),\n",
    "        MessagesPlaceholder(variable_name = \"messages\")\n",
    "    ]\n",
    ")\n",
    "\n",
    "chain = prompt | model"
   ]
  },
  {
   "cell_type": "code",
   "execution_count": 8,
   "metadata": {},
   "outputs": [
    {
     "data": {
      "text/plain": [
       "'नमस्ते रिशि! 👋  मुझे आपकी मुलाक़ात अच्छी लगी। \\n\\nआप मुझसे क्या जानना चाहेंगे? मुझे हिंदी में कोई भी सवाल पूछने में संकोच न करें। 😊\\n\\n'"
      ]
     },
     "execution_count": 8,
     "metadata": {},
     "output_type": "execute_result"
    }
   ],
   "source": [
    "chain.invoke({\"messages\" : [HumanMessage(content = \"Hi my name is Rishi!\")], \"language\" : \"Hindi\"}).content"
   ]
  },
  {
   "cell_type": "code",
   "execution_count": 9,
   "metadata": {},
   "outputs": [
    {
     "data": {
      "text/plain": [
       "'नमस्ते रिशि! 👋 \\n\\nमुझे बहुत अच्छा लगा आपसे मिलने का। आप मुझसे क्या पूछना चाहते हैं?  😊 \\n'"
      ]
     },
     "execution_count": 9,
     "metadata": {},
     "output_type": "execute_result"
    }
   ],
   "source": [
    "with_message_history = RunnableWithMessageHistory(chain, get_session_history, input_messages_key = \"messages\")\n",
    "config = {\"configurable\" : {\"session_id\" : \"chat3\"}}\n",
    "\n",
    "res = with_message_history.invoke(\n",
    "    {\"messages\" : [HumanMessage(content = \"Hi, My name is rishi.\")], \"language\" : \"Hindi\"},\n",
    "    config = config\n",
    ").content\n",
    "\n",
    "res"
   ]
  },
  {
   "cell_type": "code",
   "execution_count": 64,
   "metadata": {},
   "outputs": [
    {
     "data": {
      "text/plain": [
       "'रिशी। (Rishi.)'"
      ]
     },
     "execution_count": 64,
     "metadata": {},
     "output_type": "execute_result"
    }
   ],
   "source": [
    "res = with_message_history.invoke(\n",
    "    {\"messages\" : [HumanMessage(content = \"Hi,what is my name?\")], \"language\" : \"Hindi\"},\n",
    "    config = config\n",
    ").content\n",
    "\n",
    "res"
   ]
  },
  {
   "cell_type": "markdown",
   "metadata": {},
   "source": [
    "## Managing the Conversation History."
   ]
  },
  {
   "cell_type": "code",
   "execution_count": 75,
   "metadata": {},
   "outputs": [
    {
     "data": {
      "text/plain": [
       "[SystemMessage(content=\"You're a goo assistant\", additional_kwargs={}, response_metadata={}),\n",
       " HumanMessage(content=\"Hi, I'm Rishi\", additional_kwargs={}, response_metadata={}),\n",
       " AIMessage(content='Hii', additional_kwargs={}, response_metadata={}),\n",
       " HumanMessage(content='I like to play Football!', additional_kwargs={}, response_metadata={}),\n",
       " AIMessage(content=\"Ohh, That's nice!\", additional_kwargs={}, response_metadata={}),\n",
       " HumanMessage(content='Thanks', additional_kwargs={}, response_metadata={}),\n",
       " AIMessage(content='No problem!', additional_kwargs={}, response_metadata={})]"
      ]
     },
     "execution_count": 75,
     "metadata": {},
     "output_type": "execute_result"
    }
   ],
   "source": [
    "from langchain_core.messages import SystemMessage, trim_messages\n",
    "\n",
    "trimmer = trim_messages(\n",
    "    max_tokens = 70,\n",
    "    strategy = \"last\",\n",
    "    token_counter = model,\n",
    "    include_system = True,\n",
    "    allow_partial = False,\n",
    "    start_on = \"human\"\n",
    ")\n",
    "\n",
    "messages = [\n",
    "    SystemMessage(content = \"You're a goo assistant\"),\n",
    "    HumanMessage(content = \"Hi, I'm Rishi\"),\n",
    "    AIMessage(content = \"Hii\"),\n",
    "    HumanMessage(content = \"I like to play Football!\"),\n",
    "    AIMessage(content = \"Ohh, That's nice!\"),\n",
    "    HumanMessage(content = \"Thanks\"),\n",
    "    AIMessage(content = \"No problem!\")\n",
    "]\n",
    "\n",
    "trimmer.invoke(messages)"
   ]
  },
  {
   "cell_type": "code",
   "execution_count": 76,
   "metadata": {},
   "outputs": [
    {
     "data": {
      "text/plain": [
       "'I am unable to access real-time information or personal data, and am unable to provide information related to your name.'"
      ]
     },
     "execution_count": 76,
     "metadata": {},
     "output_type": "execute_result"
    }
   ],
   "source": [
    "from operator import itemgetter\n",
    "from langchain_core.runnables import RunnablePassthrough\n",
    "\n",
    "chain = (RunnablePassthrough.assign(messages = itemgetter(\"messages\") | trimmer) | prompt | model)\n",
    "\n",
    "res = chain.invoke(\n",
    "    {\n",
    "        \"messages\" : messages + [HumanMessage(content = \"what is my name?\")],\n",
    "        \"language\" : \"English\"\n",
    "    }\n",
    ").content\n",
    "\n",
    "res"
   ]
  },
  {
   "cell_type": "code",
   "execution_count": 77,
   "metadata": {},
   "outputs": [],
   "source": [
    "# Wrap this in the message history\n",
    "\n",
    "with_message_history = RunnableWithMessageHistory(\n",
    "    chain, get_session_history, input_messages_key = \"messages\"\n",
    ")\n",
    "\n",
    "config = {\"configurable\" : {\"session_id\" : \"chat5\"}}"
   ]
  },
  {
   "cell_type": "code",
   "execution_count": 79,
   "metadata": {},
   "outputs": [
    {
     "data": {
      "text/plain": [
       "'The provided text does not include information about your name, so I am unable to answer this question from the given context.'"
      ]
     },
     "execution_count": 79,
     "metadata": {},
     "output_type": "execute_result"
    }
   ],
   "source": [
    "res = with_message_history.invoke(\n",
    "    {\n",
    "        \"messages\" : messages + [HumanMessage(content = \"what is my name?\")],\n",
    "        \"language\" : \"English\"\n",
    "    },\n",
    "    config\n",
    ").content\n",
    "\n",
    "res"
   ]
  },
  {
   "cell_type": "code",
   "execution_count": null,
   "metadata": {},
   "outputs": [],
   "source": []
  }
 ],
 "metadata": {
  "kernelspec": {
   "display_name": "Python 3",
   "language": "python",
   "name": "python3"
  },
  "language_info": {
   "codemirror_mode": {
    "name": "ipython",
    "version": 3
   },
   "file_extension": ".py",
   "mimetype": "text/x-python",
   "name": "python",
   "nbconvert_exporter": "python",
   "pygments_lexer": "ipython3",
   "version": "3.10.15"
  }
 },
 "nbformat": 4,
 "nbformat_minor": 2
}
